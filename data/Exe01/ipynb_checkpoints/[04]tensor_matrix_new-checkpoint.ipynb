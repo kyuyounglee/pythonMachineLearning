{
 "cells": [
  {
   "cell_type": "code",
   "execution_count": null,
   "metadata": {
    "ExecuteTime": {
     "end_time": "2018-11-22T04:57:11.353905Z",
     "start_time": "2018-11-22T04:57:11.345923Z"
    }
   },
   "outputs": [],
   "source": [
    "import tensorflow as tf\n",
    "import numpy as np\n",
    "import matplotlib.pyplot as plt\n",
    "\n",
    "sess = tf.Session()"
   ]
  },
  {
   "cell_type": "markdown",
   "metadata": {},
   "source": [
    "# 1. 행렬함수"
   ]
  },
  {
   "cell_type": "markdown",
   "metadata": {},
   "source": [
    "## 1.1 초기화 함수"
   ]
  },
  {
   "cell_type": "code",
   "execution_count": null,
   "metadata": {},
   "outputs": [],
   "source": [
    "#1\n",
    "a = tf.zeros([2,10])\n",
    "b =  tf.ones([2,10], tf.int32)\n",
    "c = tf.eye(3)\n",
    "\n",
    "print(sess.run(a))\n",
    "print(sess.run(b))\n",
    "print(sess.run(c))"
   ]
  },
  {
   "cell_type": "code",
   "execution_count": null,
   "metadata": {},
   "outputs": [],
   "source": [
    "#2\n",
    "d =  5 * tf.ones([2,10], tf.int32)\n",
    "e = tf.fill([2,10], 5.0)\n",
    "f = 5 * tf.eye(4)\n",
    "print(sess.run(d))\n",
    "print(sess.run(e))\n",
    "print(sess.run(f))"
   ]
  },
  {
   "cell_type": "code",
   "execution_count": null,
   "metadata": {},
   "outputs": [],
   "source": [
    "#3 \n",
    "a = tf.constant([1,2,3,4,5,6,7,8,9.0], shape=[3,3])\n",
    "b = a + 0.1 * tf.eye(3)\n",
    "print(sess.run(b))"
   ]
  },
  {
   "cell_type": "code",
   "execution_count": null,
   "metadata": {},
   "outputs": [],
   "source": [
    "#4\n",
    "a = tf.random_uniform([2, 3], -5, 5)\n",
    "b = tf.random_uniform([2, 3], minval=5, maxval=15)\n",
    "c = tf.random.uniform([2, 3], 0, 5)\n",
    "\n",
    "print(sess.run(a))\n",
    "print(sess.run(b))\n",
    "print(sess.run(c))"
   ]
  },
  {
   "cell_type": "code",
   "execution_count": null,
   "metadata": {},
   "outputs": [],
   "source": [
    "#4-2\n",
    "a = tf.random_uniform([2, 3], 0, 8, dtype=tf.int32)\n",
    "print(sess.run(a))"
   ]
  },
  {
   "cell_type": "code",
   "execution_count": null,
   "metadata": {},
   "outputs": [],
   "source": [
    "#5     \n",
    "a = tf.random_normal([5,10], mean=0, stddev=2)\n",
    "b = tf.truncated_normal([5,10], stddev=2)  \n",
    "print( sess.run(a) )\n",
    "print( sess.run(b) )"
   ]
  },
  {
   "cell_type": "markdown",
   "metadata": {},
   "source": [
    "## 1.2 형 변환"
   ]
  },
  {
   "cell_type": "code",
   "execution_count": null,
   "metadata": {},
   "outputs": [],
   "source": [
    "#1\n",
    "a = tf.constant([1,2,3,4,5])\n",
    "b = tf.cast(a, dtype=tf.float32)\n",
    "print(sess.run(a))\n",
    "print(sess.run(b))"
   ]
  },
  {
   "cell_type": "code",
   "execution_count": null,
   "metadata": {},
   "outputs": [],
   "source": [
    "#2\n",
    "x = tf.constant([1.23, 1.98, 2.01])\n",
    "y = tf.cast(x, dtype=tf.int32)\n",
    "print(sess.run(y))"
   ]
  },
  {
   "cell_type": "code",
   "execution_count": null,
   "metadata": {},
   "outputs": [],
   "source": [
    "#2-2\n",
    "x = tf.constant([1.23, 1.98, 2.01])\n",
    "y = tf.round(x)\n",
    "y2 = tf.cast(y, dtype=tf.int32)\n",
    "print(sess.run(y))\n",
    "print(sess.run(y2))"
   ]
  },
  {
   "cell_type": "code",
   "execution_count": null,
   "metadata": {},
   "outputs": [],
   "source": [
    "#3\n",
    "x = tf.constant([1,3,4,6,2,2])\n",
    "y = tf.cast(x > 2, dtype=tf.int32)\n",
    "print(sess.run(y))"
   ]
  },
  {
   "cell_type": "code",
   "execution_count": null,
   "metadata": {},
   "outputs": [],
   "source": [
    "#4\n",
    "a = tf.constant(2.0)\n",
    "b = a + tf.convert_to_tensor(4.0)\n",
    "c = a + 4.0\n",
    "print(sess.run(b))\n",
    "print(sess.run(c))"
   ]
  },
  {
   "cell_type": "code",
   "execution_count": null,
   "metadata": {},
   "outputs": [],
   "source": [
    "#5\n",
    "a = tf.convert_to_tensor([1,2,3,4])\n",
    "b = tf.convert_to_tensor( np.array([1,2,3,4]) )\n",
    "c = a + b + [5,6,7,8]\n",
    "\n",
    "print(sess.run(c))"
   ]
  },
  {
   "cell_type": "markdown",
   "metadata": {},
   "source": [
    "## 1.3 슬라이싱"
   ]
  },
  {
   "cell_type": "code",
   "execution_count": null,
   "metadata": {},
   "outputs": [],
   "source": [
    "#1\n",
    "a = tf.constant([[1,2,3], [4,5,6], [7,8,9], [10,11,12]])\n",
    "b = tf.slice(a, [1, 0], [2,2])\n",
    "print(sess.run(a))\n",
    "print(sess.run(b)) "
   ]
  },
  {
   "cell_type": "code",
   "execution_count": null,
   "metadata": {},
   "outputs": [],
   "source": [
    "#2 \n",
    "k = 2\n",
    "a = tf.constant([[1,2,3], [4,5,6], [7,8,9], [10,11,12]])\n",
    "b = tf.slice(a, [k, 0], [1,-1])\n",
    "print(sess.run(b)) "
   ]
  },
  {
   "cell_type": "code",
   "execution_count": null,
   "metadata": {},
   "outputs": [],
   "source": [
    "#2-2 \n",
    "k = 0\n",
    "n = 2\n",
    "a = tf.constant([[1,2,3], [4,5,6], [7,8,9], [10,11,12]])\n",
    "b = tf.slice(a, [k, 0], [n,-1])\n",
    "print(sess.run(b)) "
   ]
  },
  {
   "cell_type": "code",
   "execution_count": null,
   "metadata": {},
   "outputs": [],
   "source": [
    "#3\n",
    "k = 2\n",
    "a = tf.constant([[1,2,3], [4,5,6], [7,8,9], [10,11,12]])\n",
    "b = tf.slice(a, [0, k], [-1,1])\n",
    "print(sess.run(b)) "
   ]
  },
  {
   "cell_type": "code",
   "execution_count": null,
   "metadata": {},
   "outputs": [],
   "source": [
    "#3-2 \n",
    "k = 1\n",
    "n = 2\n",
    "a = tf.constant([[1,2,3], [4,5,6], [7,8,9], [10,11,12]])\n",
    "b = tf.slice(a, [0, k], [-1,n])\n",
    "print(sess.run(b)) "
   ]
  },
  {
   "cell_type": "code",
   "execution_count": null,
   "metadata": {},
   "outputs": [],
   "source": [
    "#4 \n",
    "r = 2\n",
    "c = 3\n",
    "a = tf.constant([[1,2,3], [4,5,6], [7,8,9], [10,11,12]])\n",
    "b = tf.slice(a, [0,0],[r, c])\n",
    "print(sess.run(b)) "
   ]
  },
  {
   "cell_type": "code",
   "execution_count": null,
   "metadata": {},
   "outputs": [],
   "source": [
    "#5 \n",
    "a = tf.constant([1,2,3,4,5,6,7,8,9,10,11,12,13,14,15,16],shape=[4,4])\n",
    "last_r = a.get_shape().as_list()[0]\n",
    "last_c = a.get_shape().as_list()[1]\n",
    "b = tf.slice(a, [1, 1], [last_r-2, last_c-2])\n",
    "print(sess.run(b)) "
   ]
  },
  {
   "cell_type": "code",
   "execution_count": null,
   "metadata": {},
   "outputs": [],
   "source": [
    "#6 \n",
    "a = tf.constant([[1,2,3], [4,5,6], [7,8,9], [10,11,12]])\n",
    "x = tf.gather(a, [0, 2])\n",
    "print(sess.run(x))"
   ]
  },
  {
   "cell_type": "code",
   "execution_count": null,
   "metadata": {},
   "outputs": [],
   "source": [
    "#7\n",
    "b = tf.gather_nd(a, [1, 2])\n",
    "print(sess.run(b)) \n",
    "\n",
    "c = tf.gather_nd(a, [[1, 2], [2,2]])\n",
    "print(sess.run(c)) "
   ]
  },
  {
   "cell_type": "code",
   "execution_count": null,
   "metadata": {},
   "outputs": [],
   "source": [
    "#8  \n",
    "b = tf.gather_nd(a, [[0], [2]])\n",
    "print(sess.run(b))"
   ]
  },
  {
   "cell_type": "code",
   "execution_count": null,
   "metadata": {},
   "outputs": [],
   "source": [
    "#9  \n",
    "b = tf.transpose(tf.gather_nd(tf.transpose(a), [[0],[2]]))\n",
    "print(sess.run(b))"
   ]
  },
  {
   "cell_type": "markdown",
   "metadata": {},
   "source": [
    "## 1.4 텐서이름"
   ]
  },
  {
   "cell_type": "code",
   "execution_count": null,
   "metadata": {},
   "outputs": [],
   "source": [
    "#1\n",
    "a = tf.constant([1,2,3,4])\n",
    "b = tf.constant([5,6,7,8,9], name='b')\n",
    "print(a)\n",
    "print(b)"
   ]
  },
  {
   "cell_type": "code",
   "execution_count": null,
   "metadata": {},
   "outputs": [],
   "source": [
    "#2\n",
    "a = tf.constant([1,2,3,4], name='a')\n",
    "b = tf.constant([5,6,7,8,9], name='a')\n",
    "print(a)\n",
    "print(b)"
   ]
  },
  {
   "cell_type": "code",
   "execution_count": null,
   "metadata": {},
   "outputs": [],
   "source": [
    "#3\n",
    "a = tf.constant([1,2,3,4], name='a')\n",
    "b = tf.constant([5,6,7,8], name='b')\n",
    "c = a + b\n",
    "d = tf.add(a, b, name='add')\n",
    "print(c)\n",
    "print(d)"
   ]
  },
  {
   "cell_type": "code",
   "execution_count": null,
   "metadata": {},
   "outputs": [],
   "source": [
    "#4\n",
    "a = tf.constant([1,2,3,4], name='a')\n",
    "b = tf.constant([5,6,7,8], name='a')\n",
    "c = a + b\n",
    "d = tf.add(a, b, name='add_a_b')\n",
    "print(c)\n",
    "print(d)"
   ]
  },
  {
   "cell_type": "code",
   "execution_count": null,
   "metadata": {},
   "outputs": [],
   "source": [
    "#5\n",
    "a = tf.constant([1,2,3,4], name='a')\n",
    "b = tf.constant([5,6,7,8], name='b')\n",
    "c = tf.add(a, b, name='add_a_b')\n",
    "test = tf.get_default_graph().get_tensor_by_name(\"add_a_b:0\")   \n",
    "print(sess.run(test))\n",
    "    "
   ]
  },
  {
   "cell_type": "code",
   "execution_count": null,
   "metadata": {},
   "outputs": [],
   "source": [
    "#6\n",
    "for n in tf.get_default_graph().as_graph_def().node :\n",
    "   print(n.name, n.op)"
   ]
  },
  {
   "cell_type": "markdown",
   "metadata": {
    "ExecuteTime": {
     "end_time": "2018-11-18T13:10:46.957001Z",
     "start_time": "2018-11-18T13:10:46.953030Z"
    }
   },
   "source": [
    "# 2. 행렬곱/역행렬"
   ]
  },
  {
   "cell_type": "markdown",
   "metadata": {},
   "source": [
    "## 2.1 행렬곱"
   ]
  },
  {
   "cell_type": "code",
   "execution_count": null,
   "metadata": {},
   "outputs": [],
   "source": [
    "#1\n",
    "x = tf.constant([[1,2],[4,5]])\n",
    "y = tf.constant([[1,2],[4,5]])\n",
    "z = tf.matmul(x, y)\n",
    "z2 = x * y\n",
    "print(sess.run(z))\n",
    "print(sess.run(z2))"
   ]
  },
  {
   "cell_type": "code",
   "execution_count": null,
   "metadata": {
    "ExecuteTime": {
     "end_time": "2018-11-18T14:31:06.188953Z",
     "start_time": "2018-11-18T14:31:06.128116Z"
    }
   },
   "outputs": [],
   "source": [
    "#2 ( 에러 원인을 찾으시요)\n",
    "a = tf.constant([[1,2,3]])\n",
    "b = tf.constant([6,7,8])\n",
    "print(a.shape)\n",
    "print(sess.run(a))\n",
    "print(b.shape)\n",
    "print(sess.run(b))\n",
    "c = tf.matmul(a, b)"
   ]
  },
  {
   "cell_type": "code",
   "execution_count": null,
   "metadata": {
    "ExecuteTime": {
     "end_time": "2018-11-18T14:40:33.695607Z",
     "start_time": "2018-11-18T14:40:33.643759Z"
    }
   },
   "outputs": [],
   "source": [
    "#2-2 ( 에러 원인을 찾으시요 )\n",
    "a = tf.constant([[1,2,3]])\n",
    "print(a.shape)\n",
    "print(sess.run(a))\n",
    "b = tf.constant([[6,7,8]])\n",
    "print(b.shape)\n",
    "print(sess.run(b))\n",
    "c = tf.matmul(a, b)"
   ]
  },
  {
   "cell_type": "code",
   "execution_count": null,
   "metadata": {
    "ExecuteTime": {
     "end_time": "2018-11-18T10:27:53.459467Z",
     "start_time": "2018-11-18T10:27:53.440529Z"
    }
   },
   "outputs": [],
   "source": [
    "#2-3\n",
    "a = tf.constant([[1,2,3]])\n",
    "b = tf.constant([[6],[7],[8]]) \n",
    "c = tf.matmul(a, b)\n",
    "d = sess.run(c)\n",
    "\n",
    "print(a.shape)\n",
    "print(b.shape)\n",
    "print(c.shape)\n",
    "print(d)"
   ]
  },
  {
   "cell_type": "code",
   "execution_count": null,
   "metadata": {
    "ExecuteTime": {
     "end_time": "2018-11-18T14:59:11.310332Z",
     "start_time": "2018-11-18T14:59:11.278417Z"
    }
   },
   "outputs": [],
   "source": [
    "#3 ( 에러 원인을 찾으시요)\n",
    "a = tf.constant([[1.0,2], [3,4]])\n",
    "b = tf.placeholder(dtype = tf.float32, shape=(2, None))\n",
    "b_data = np.array([ [1,2], [3,4], [5,6], [7,8], [9,10]])\n",
    "print(a)\n",
    "print(b)\n",
    "print(b_data)\n",
    "c = tf.matmul(a, b)\n",
    "d = sess.run([a, b, c],  feed_dict={b:b_data })"
   ]
  },
  {
   "cell_type": "code",
   "execution_count": null,
   "metadata": {
    "ExecuteTime": {
     "end_time": "2018-11-18T15:02:11.009388Z",
     "start_time": "2018-11-18T15:02:10.994428Z"
    }
   },
   "outputs": [],
   "source": [
    "#3-2\n",
    "a = tf.constant([[1.0,2], [3,4]])\n",
    "b = tf.placeholder(dtype = tf.float32, shape=(2, None))\n",
    "b_data = np.array([ [1,2], [3,4], [5,6], [7,8], [9,10.0]])\n",
    "b_data = b_data.transpose()\n",
    "print(b_data)"
   ]
  },
  {
   "cell_type": "code",
   "execution_count": null,
   "metadata": {
    "ExecuteTime": {
     "end_time": "2018-11-18T15:02:38.502843Z",
     "start_time": "2018-11-18T15:02:38.481900Z"
    }
   },
   "outputs": [],
   "source": [
    "#3-3\n",
    "c = tf.matmul(a, b)\n",
    "d = sess.run([a, b, c],  feed_dict={b:b_data })\n",
    "print(d[0])\n",
    "print(d[1])\n",
    "print(d[2])"
   ]
  },
  {
   "cell_type": "code",
   "execution_count": null,
   "metadata": {
    "ExecuteTime": {
     "end_time": "2018-11-18T15:05:11.914757Z",
     "start_time": "2018-11-18T15:05:11.880848Z"
    }
   },
   "outputs": [],
   "source": [
    "#3-4\n",
    "a = tf.constant([[1.0,2], [3,4]])\n",
    "b = tf.placeholder(dtype = tf.float32, shape=(2, None))\n",
    "b_data = np.array([ [1,2], [3,4], [5,6], [7,8], [9,10]])\n",
    "\n",
    "print(a)\n",
    "print(b)\n",
    "c = tf.matmul(a, b)\n",
    "d = sess.run([a, b, c],  feed_dict={b:b_data.T })\n",
    "print(d[0])\n",
    "print(d[1])\n",
    "print(d[2])"
   ]
  },
  {
   "cell_type": "code",
   "execution_count": null,
   "metadata": {},
   "outputs": [],
   "source": [
    "#3-5\n",
    "a = tf.constant([[1.0,2], [3,4]])\n",
    "b = tf.placeholder(dtype = tf.float32, shape=(None,2))\n",
    "b2 = tf.transpose(b)\n",
    "b_data = np.array([ [1,2], [3,4], [5,6], [7,8], [9,10]])\n",
    "\n",
    "print(a)\n",
    "print(b)\n",
    "c = tf.matmul(a, b2)\n",
    "d = sess.run([a, b, c],  feed_dict={b:b_data })\n",
    "print(d[0])\n",
    "print(d[1])\n",
    "print(d[2])"
   ]
  },
  {
   "cell_type": "code",
   "execution_count": null,
   "metadata": {
    "ExecuteTime": {
     "end_time": "2018-11-18T15:14:23.159680Z",
     "start_time": "2018-11-18T15:14:23.130743Z"
    }
   },
   "outputs": [],
   "source": [
    "#4\n",
    "a = tf.constant([1,2,3,4,5,6], shape=(2,3))\n",
    "b = tf.constant([6,7,8,9,10,11], shape=(3,2))\n",
    "d = tf.matmul(a, b)\n",
    "result = sess.run([a, b, d])\n",
    "\n",
    "print(result[0])\n",
    "print(result[1])\n",
    "print(result[2])"
   ]
  },
  {
   "cell_type": "code",
   "execution_count": null,
   "metadata": {
    "ExecuteTime": {
     "end_time": "2018-11-18T15:14:34.000234Z",
     "start_time": "2018-11-18T15:14:33.992255Z"
    }
   },
   "outputs": [],
   "source": [
    "#5\n",
    "a = tf.constant([[1.0, 2]])\n",
    "b = tf.placeholder(tf.float32)\n",
    "print(a.shape)\n",
    "print(b.shape)"
   ]
  },
  {
   "cell_type": "code",
   "execution_count": null,
   "metadata": {
    "ExecuteTime": {
     "end_time": "2018-11-18T15:17:20.464495Z",
     "start_time": "2018-11-18T15:17:20.457514Z"
    }
   },
   "outputs": [],
   "source": [
    "#5-2\n",
    "c = tf.matmul(a, b)\n",
    "print(c.shape)"
   ]
  },
  {
   "cell_type": "code",
   "execution_count": null,
   "metadata": {
    "ExecuteTime": {
     "end_time": "2018-11-18T15:19:37.637154Z",
     "start_time": "2018-11-18T15:19:37.618230Z"
    }
   },
   "outputs": [],
   "source": [
    "#5-3\n",
    "d = sess.run(c, feed_dict={b:[[1],[2]]})\n",
    "print(a.shape)\n",
    "print(b.shape) \n",
    "print(c.shape)\n",
    "print(d)"
   ]
  },
  {
   "cell_type": "code",
   "execution_count": null,
   "metadata": {
    "ExecuteTime": {
     "end_time": "2018-11-18T15:23:50.899515Z",
     "start_time": "2018-11-18T15:23:50.888545Z"
    }
   },
   "outputs": [],
   "source": [
    "#5-4\n",
    "d = sess.run(c, feed_dict={b:[[1,2,3,4],[2,3,4,5]]})\n",
    "print(d)"
   ]
  },
  {
   "cell_type": "code",
   "execution_count": null,
   "metadata": {},
   "outputs": [],
   "source": [
    "#5-5 ( 에러 원인을 찾으시요 )\n",
    "d = sess.run(c, feed_dict={b:[[1,2,3,4],[2,3,4,5], [5,6,7,8]]})\n",
    "print(d)"
   ]
  },
  {
   "cell_type": "markdown",
   "metadata": {},
   "source": [
    "## 2.2 역행렬"
   ]
  },
  {
   "cell_type": "code",
   "execution_count": null,
   "metadata": {
    "ExecuteTime": {
     "end_time": "2018-11-19T11:55:08.563502Z",
     "start_time": "2018-11-19T11:55:08.541555Z"
    },
    "code_folding": []
   },
   "outputs": [],
   "source": [
    "#1\n",
    "\n",
    "a = tf.constant([[1.0, 2],\n",
    "                 [7, 8]])\n",
    "b = tf.linalg.inv(a)\n",
    "print(sess.run(a))\n",
    "print(sess.run(b))"
   ]
  },
  {
   "cell_type": "code",
   "execution_count": null,
   "metadata": {},
   "outputs": [],
   "source": [
    "#1-2 ( 에러 원인을 찾으시요 )\n",
    "a = tf.constant([[1,2],\n",
    "                 [7,8]])\n",
    "b = tf.linalg.inv(a)\n",
    "sess.run(b)"
   ]
  },
  {
   "cell_type": "code",
   "execution_count": null,
   "metadata": {},
   "outputs": [],
   "source": [
    "#2 ( 에러 원인을 찾으시요 )\n",
    "a = tf.constant([[1.0,2,3],\n",
    "                 [7,8,12]])\n",
    "b = tf.linalg.inv(a)"
   ]
  },
  {
   "cell_type": "code",
   "execution_count": null,
   "metadata": {},
   "outputs": [],
   "source": [
    "#3\n",
    "#A+ = (A'A)^-1A'\n",
    "A = tf.constant([[1,2], [2.3, 9.2], [0.3, 1.4]])\n",
    "At = tf.transpose(A)  \n",
    "tmp = tf.linalg.inv(tf.matmul(At, A))\n",
    "pinv = tf.matmul(tmp, At)\n",
    "\n",
    "print(sess.run(pinv))"
   ]
  },
  {
   "cell_type": "code",
   "execution_count": null,
   "metadata": {
    "ExecuteTime": {
     "end_time": "2018-11-18T11:28:03.850307Z",
     "start_time": "2018-11-18T11:28:03.819391Z"
    },
    "scrolled": true
   },
   "outputs": [],
   "source": [
    "#3-2\n",
    "\n",
    "def pinv(A) :\n",
    "    At = tf.transpose(A)\n",
    "    tmp = tf.linalg.inv(tf.matmul(At, A))\n",
    "    return tf.matmul(tmp, At)\n",
    "\n",
    "\n",
    "A = tf.constant([[1,2], [2.3, 9.2], [0.3, 1.4]])\n",
    "print(sess.run( pinv(A) ))"
   ]
  },
  {
   "cell_type": "code",
   "execution_count": null,
   "metadata": {
    "ExecuteTime": {
     "end_time": "2018-11-19T12:17:43.961470Z",
     "start_time": "2018-11-19T12:17:43.916589Z"
    },
    "scrolled": true
   },
   "outputs": [],
   "source": [
    "#3-3\n",
    "\n",
    "A = tf.constant([1,2,3,4,5,6,7,8], shape=(4,3))\n",
    "\n",
    "#   pinv2(A)  =  (A'A+cI)-1A'\n",
    "def pinv2(A, c) :\n",
    "    At = tf.transpose(A)\n",
    "    rc = A.shape.as_list()\n",
    "    tmp = tf.linalg.inv(tf.matmul(At, A) + c*tf.eye(rc[1]))\n",
    "    return tf.matmul(tmp, At)\n",
    "\n",
    "\n",
    "a = tf.constant([[1,2], [2.3, 9.2], [0.3, 1.4]])\n",
    "b = pinv2(a, c = 0.000001)\n",
    "print(sess.run(b))"
   ]
  },
  {
   "cell_type": "code",
   "execution_count": null,
   "metadata": {},
   "outputs": [],
   "source": [
    "#4\n",
    "a = tf.constant([[4.0, 0, 0],\n",
    "              [0, 2, 0],\n",
    "              [0, 0, 10]])\n",
    "print(sess.run(a))\n",
    "print(sess.run(tf.diag_part(a) ))\n",
    "\n",
    "\n",
    "b = 1 / tf.diag_part(a)\n",
    "c = tf.eye( a.shape.as_list()[0]  ) *  b\n",
    "print(sess.run(c))"
   ]
  },
  {
   "cell_type": "markdown",
   "metadata": {},
   "source": [
    "# 3. 브로드캐스팅"
   ]
  },
  {
   "cell_type": "code",
   "execution_count": null,
   "metadata": {},
   "outputs": [],
   "source": [
    "# 1\n",
    "a = tf.constant([1, 2, 3, 4, 5, 6])\n",
    "b = tf.constant(4)\n",
    "b2 =  tf.constant([4])\n",
    "c = a + b\n",
    "c2 = a + b2\n",
    "print(sess.run(c))\n",
    "print(sess.run(c2))"
   ]
  },
  {
   "cell_type": "code",
   "execution_count": null,
   "metadata": {},
   "outputs": [],
   "source": [
    "#1-2\n",
    "a = tf.constant([1, 2, 3, 4, 5, 6])\n",
    "b = a * 2\n",
    "print(sess.run(b))"
   ]
  },
  {
   "cell_type": "code",
   "execution_count": null,
   "metadata": {},
   "outputs": [],
   "source": [
    "#1-3\n",
    "a = tf.constant([1, 2, 3, 4, 5, 6])\n",
    "b = a * 2 + 3\n",
    "out1, out2 = sess.run([a, b])\n",
    "print(out1)\n",
    "print(out2)"
   ]
  },
  {
   "cell_type": "code",
   "execution_count": null,
   "metadata": {},
   "outputs": [],
   "source": [
    "#1-4\n",
    "a = tf.constant([78.0, 77.00,76,75.0])\n",
    "b = (a - 32.0)  / 1.8  \n",
    "print(sess.run(b))"
   ]
  },
  {
   "cell_type": "code",
   "execution_count": null,
   "metadata": {},
   "outputs": [],
   "source": [
    "#1-5\n",
    "a = tf.range(0, 31,dtype=tf.float32) \n",
    "\n",
    "b = a * 1.8 + 32.0\n",
    "\n",
    "out1, out2 = sess.run([a, b])\n",
    "print(out1)\n",
    "print(out2)"
   ]
  },
  {
   "cell_type": "code",
   "execution_count": null,
   "metadata": {},
   "outputs": [],
   "source": [
    "#1-6\n",
    "a = tf.constant([121.5732, 458.4221])\n",
    "b =  (a +5)/ 10.0\n",
    "b2 = tf.cast(b, dtype=tf.int64) * 10\n",
    "b3 = tf.cast(b2, dtype=tf.float32)\n",
    "print(  sess.run(b2))\n",
    "print(  sess.run(b3))"
   ]
  },
  {
   "cell_type": "code",
   "execution_count": null,
   "metadata": {},
   "outputs": [],
   "source": [
    "#1-7 실수 반올림\n",
    "a = tf.constant([31.5732, 8.4221])\n",
    "b =  tf.cast((a + 0.05)* 10, dtype=tf.int32) \n",
    "b2 = tf.cast(b, dtype=tf.float32) / 10\n",
    "print(sess.run(a))\n",
    "print(sess.run(b2))"
   ]
  },
  {
   "cell_type": "code",
   "execution_count": null,
   "metadata": {},
   "outputs": [],
   "source": [
    "#1-8\n",
    "x = tf.constant([1.0,2,3,4,5])\n",
    "w = 4.5\n",
    "b = 7.2\n",
    "y = w*x + b\n",
    "\n",
    "print(sess.run(y))"
   ]
  },
  {
   "cell_type": "code",
   "execution_count": null,
   "metadata": {},
   "outputs": [],
   "source": [
    "#1-9\n",
    "start = -3\n",
    "limit = 3\n",
    "delta = 1\n",
    "x = tf.range(start, limit+1, delta, dtype=tf.float32) \n",
    "print(sess.run(x))\n",
    "print(sess.run(2 * x + 0.1))"
   ]
  },
  {
   "cell_type": "code",
   "execution_count": null,
   "metadata": {},
   "outputs": [],
   "source": [
    "#2\n",
    "\n",
    "a = tf.constant([[1, 2, 3], [4, 5, 6]])\n",
    "b = a + 4\n",
    "print(sess.run(a))\n",
    "print(sess.run(b))"
   ]
  },
  {
   "cell_type": "code",
   "execution_count": null,
   "metadata": {},
   "outputs": [],
   "source": [
    "#2-2\n",
    "a = tf.constant([[1, 2, 3], [4, 5, 6]])\n",
    "b = a * -1\n",
    "\n",
    "print(sess.run(b))"
   ]
  },
  {
   "cell_type": "code",
   "execution_count": null,
   "metadata": {},
   "outputs": [],
   "source": [
    "#3\n",
    "a = tf.constant([ [1,1,1], [1,1,1], [1,1,1] ])         \n",
    "b = tf.constant([0,1,2])  \n",
    "print( sess.run(a + b) )"
   ]
  },
  {
   "cell_type": "code",
   "execution_count": null,
   "metadata": {},
   "outputs": [],
   "source": [
    "#3-2\n",
    "a = tf.constant([ [1,2,3], [4,5,6] ])         \n",
    "b = tf.constant([1,2,3])  \n",
    "print( sess.run(a + b) )"
   ]
  },
  {
   "cell_type": "code",
   "execution_count": null,
   "metadata": {},
   "outputs": [],
   "source": [
    "#4\n",
    "x = tf.constant([ [1.0,2], [3 ,4], [5,6], [7,8] ]) \n",
    "w = tf.constant([ [0.1,0.2, 0.3], [0.2,0.3, 1]])\n",
    "b = tf.constant([1.0,2,3])\n",
    "print(sess.run(tf.matmul(x, w) + b))"
   ]
  },
  {
   "cell_type": "code",
   "execution_count": null,
   "metadata": {},
   "outputs": [],
   "source": [
    "#5 \n",
    "a = tf.constant([[1,2,3]])      \n",
    "b = tf.constant([[6]])          \n",
    "c = a * b                       \n",
    "print(sess.run(c))"
   ]
  },
  {
   "cell_type": "code",
   "execution_count": null,
   "metadata": {},
   "outputs": [],
   "source": [
    "#5-2\n",
    "a = tf.constant([[1,2,3]])  \n",
    "b = tf.constant([6])        \n",
    "c = a* b                    \n",
    "print(sess.run(c))"
   ]
  },
  {
   "cell_type": "code",
   "execution_count": null,
   "metadata": {},
   "outputs": [],
   "source": [
    "#5-3\n",
    "a = tf.constant([1,2,3])\n",
    "b = tf.constant([6])\n",
    "c = a* b\n",
    "print(sess.run(c))   "
   ]
  },
  {
   "cell_type": "code",
   "execution_count": null,
   "metadata": {},
   "outputs": [],
   "source": [
    "#5-4\n",
    "a = tf.constant([1,2,3])\n",
    "b = tf.constant([[6]])\n",
    "c = a* b\n",
    "print(sess.run(c))"
   ]
  },
  {
   "cell_type": "code",
   "execution_count": null,
   "metadata": {},
   "outputs": [],
   "source": [
    "#5-5\n",
    "a = tf.constant([[1],[2],[3]])\n",
    "b = tf.constant([6])\n",
    "c = a * b\n",
    "print(sess.run(c))"
   ]
  },
  {
   "cell_type": "code",
   "execution_count": null,
   "metadata": {},
   "outputs": [],
   "source": [
    "#5-6\n",
    "a = tf.constant([1,2,3,4,5,6,7,8.0], shape=(2, 4))\n",
    "b = tf.constant([1,2,3,4.0])\n",
    "#b = tf.constant([[1,2,3,4.0]])    # ok\n",
    "#b = tf.constant([[1],[2],[3],[4.0]])   #error\n",
    "print( sess.run(a + b))"
   ]
  },
  {
   "cell_type": "code",
   "execution_count": null,
   "metadata": {},
   "outputs": [],
   "source": [
    "#6\n",
    "x_data = [[1.0,2], [3,4], [5,6], [7,8], [9,10] ]  \n",
    "x = tf.placeholder(tf.float32, shape=(None,2))\n",
    "w = tf.Variable([[1.0], [3]])  # w는 2 bx 1로 정의되야 함\n",
    "b = tf.Variable(2.0)\n",
    "y = tf.matmul(x, w) + b\n",
    "init = tf.global_variables_initializer()\n",
    "sess.run(init)\n",
    "print(sess.run(y, feed_dict={x: x_data }))"
   ]
  },
  {
   "cell_type": "code",
   "execution_count": null,
   "metadata": {},
   "outputs": [],
   "source": [
    "#7\n",
    "x_data = [[1.0,2], [3,4], [5,6], [7,8], [9,10] ]  \n",
    "x = tf.placeholder(tf.float32, shape=(None,2))\n",
    "w = tf.Variable([[1.0, 2.0, 3, 4, 5.0], [6, 7,8,9,10]])  \n",
    "b = tf.Variable([1.0, 2.0, 3.0, 4.0, 5.0])   \n",
    "y = tf.matmul(x, w) + b\n",
    "init = tf.global_variables_initializer()\n",
    "sess.run(init)\n",
    "print(sess.run(y, feed_dict={x: x_data }))\n"
   ]
  },
  {
   "cell_type": "markdown",
   "metadata": {},
   "source": [
    "# 4. reduce 함수"
   ]
  },
  {
   "cell_type": "code",
   "execution_count": null,
   "metadata": {
    "ExecuteTime": {
     "end_time": "2018-11-19T14:44:36.170703Z",
     "start_time": "2018-11-19T14:44:36.064984Z"
    }
   },
   "outputs": [],
   "source": [
    "#1\n",
    "\n",
    "a = tf.constant([1.0 ,2,3,4,5,6,7,8,9,10])\n",
    "print(sess.run(tf.reduce_sum(a)))\n",
    "print(sess.run(tf.reduce_mean(a)))\n",
    "print(sess.run(tf.reduce_max(a)))\n",
    "print(sess.run(tf.reduce_min(a)))"
   ]
  },
  {
   "cell_type": "code",
   "execution_count": null,
   "metadata": {
    "ExecuteTime": {
     "end_time": "2018-11-19T16:07:03.686936Z",
     "start_time": "2018-11-19T16:07:03.660972Z"
    }
   },
   "outputs": [],
   "source": [
    "#2\n",
    "a = tf.constant([[1.0 ,2,3,4], [5,6,7,8]])\n",
    "c = tf.reduce_max(a)\n",
    "print(sess.run(c))"
   ]
  },
  {
   "cell_type": "code",
   "execution_count": null,
   "metadata": {},
   "outputs": [],
   "source": [
    "#2-2\n",
    "a = tf.constant([[1.0 ,2,3,4], [5,6,7,8]])\n",
    "c = tf.reduce_max(a, axis=0)                    \n",
    "print(sess.run(c))"
   ]
  },
  {
   "cell_type": "code",
   "execution_count": null,
   "metadata": {
    "ExecuteTime": {
     "end_time": "2018-11-19T16:09:12.342083Z",
     "start_time": "2018-11-19T16:09:12.317148Z"
    }
   },
   "outputs": [],
   "source": [
    "#2-3\n",
    "a = tf.constant([[1.0 ,2,3,4], [5,6,7,8]])    \n",
    "c = tf.reduce_max(a, axis=1)\n",
    "print(sess.run(c))"
   ]
  },
  {
   "cell_type": "code",
   "execution_count": null,
   "metadata": {
    "ExecuteTime": {
     "end_time": "2018-11-19T16:17:11.542705Z",
     "start_time": "2018-11-19T16:17:11.476855Z"
    }
   },
   "outputs": [],
   "source": [
    "#3\n",
    "a = tf.constant([1, 2, 3, 4, 5])\n",
    "b = a > 3\n",
    "print(sess.run(b))\n",
    "print(sess.run(tf.cast(b, tf.float32)))\n",
    "print(sess.run(tf.reduce_sum(tf.cast(b, tf.float32))))\n",
    "print(sess.run(tf.reduce_mean(tf.cast(b, tf.float32))))"
   ]
  },
  {
   "cell_type": "code",
   "execution_count": null,
   "metadata": {
    "ExecuteTime": {
     "end_time": "2018-11-19T16:24:25.061558Z",
     "start_time": "2018-11-19T16:24:25.035597Z"
    }
   },
   "outputs": [],
   "source": [
    "#3-2\n",
    "a = tf.constant([1, 2, 3, 3, 4])\n",
    "b = tf.equal(a, 3)\n",
    "accuracy = tf.reduce_mean(tf.cast(b, tf.float32))\n",
    "print(sess.run(b))\n",
    "print(sess.run(accuracy))                        "
   ]
  },
  {
   "cell_type": "code",
   "execution_count": null,
   "metadata": {
    "ExecuteTime": {
     "end_time": "2018-11-19T16:30:14.018804Z",
     "start_time": "2018-11-19T16:30:13.987863Z"
    }
   },
   "outputs": [],
   "source": [
    "#4\n",
    "y = tf.constant([1,2,3,4,5.0])\n",
    "h = tf.constant([1, 1,1,1,1.0])\n",
    "\n",
    "rmse = tf.sqrt(tf.reduce_mean(tf.square(h - y)))\n",
    "print(sess.run(rmse))"
   ]
  },
  {
   "cell_type": "code",
   "execution_count": null,
   "metadata": {},
   "outputs": [],
   "source": [
    "#5  \n",
    "a = tf.constant([ [0.1, 2, 34], [0.9, 7, 12], [0.2, 1, 6], [0.5, 1.5, 27] ])\n",
    "mm = tf.reduce_max(a, axis=0)\n",
    "n = a / mm\n",
    "print(sess.run(mm))\n",
    "print(sess.run(n))"
   ]
  },
  {
   "cell_type": "markdown",
   "metadata": {},
   "source": [
    "# 5. 데이타 예측 및 시각화"
   ]
  },
  {
   "cell_type": "markdown",
   "metadata": {},
   "source": [
    "## 1) 수학점수 예측과 시각화"
   ]
  },
  {
   "cell_type": "markdown",
   "metadata": {},
   "source": [
    "![SAT점수예측](sat.png)\n",
    "\n",
    "\n",
    "1) 그래프 그리기\n",
    "2) 임의 두점을 사용한 데이터 학습\n",
    "3) 가장 작은 데이터와 큰 데이타를 사용한 데이터 학습\n",
    "4) 그래프를 통한 학습 모델 비교\n",
    "5) RMSE를 가설 검증\n",
    "6) 최적의 데이타 학습"
   ]
  },
  {
   "cell_type": "code",
   "execution_count": null,
   "metadata": {
    "ExecuteTime": {
     "end_time": "2018-11-20T14:02:24.553060Z",
     "start_time": "2018-11-20T14:02:24.422377Z"
    },
    "scrolled": true
   },
   "outputs": [],
   "source": [
    "#1 그래프 그리기\n",
    "%matplotlib inline\n",
    "x_data = np.array([4.0,9,10,14,4,7,12,22,1,3,8,11,5,6,10,11,16,13,13,10])\n",
    "y_data = np.array([390.0,580,650,730,410,530,600,790,350,400,590,640,450,520,690,690,770,700,730,640])\n",
    "\n",
    "\n",
    "plt.xlabel('hour')\n",
    "plt.ylabel('score')\n",
    "plt.plot(x_data, y_data, 'r^')\n",
    "#plt.plot(x_data, y_data, 'go')\n",
    "#plt.plot(x_data, y_data, color='green', marker='o', linewidth=0, markersize=12)"
   ]
  },
  {
   "cell_type": "code",
   "execution_count": null,
   "metadata": {
    "ExecuteTime": {
     "end_time": "2018-11-20T14:06:48.054768Z",
     "start_time": "2018-11-20T14:06:48.047789Z"
    }
   },
   "outputs": [],
   "source": [
    "#2\n",
    "p1 = np.random.randint(x_data.shape[0])\n",
    "p2 = np.random.randint(x_data.shape[0])\n",
    "print(p1, p2)"
   ]
  },
  {
   "cell_type": "code",
   "execution_count": null,
   "metadata": {
    "ExecuteTime": {
     "end_time": "2018-11-20T14:09:04.099947Z",
     "start_time": "2018-11-20T14:09:04.089972Z"
    }
   },
   "outputs": [],
   "source": [
    "#2-2\n",
    "a = np.arange(10)\n",
    "print(a)\n",
    "np.random.shuffle(a)\n",
    "print(a[0], a[1])"
   ]
  },
  {
   "cell_type": "code",
   "execution_count": null,
   "metadata": {
    "ExecuteTime": {
     "end_time": "2018-11-20T14:30:35.829052Z",
     "start_time": "2018-11-20T14:30:35.802129Z"
    }
   },
   "outputs": [],
   "source": [
    "#2-3 ( 에러 원인을 찾으시요 )\n",
    "idx = np.arange(20)\n",
    "np.random.shuffle(idx)\n",
    "p1 = idx[0]\n",
    "p2 = idx[1]\n",
    "\n",
    "a = tf.constant([[x_data[p1], 1.0], [x_data[p2], 1.0]])\n",
    "y = tf.constant([y_data[p1], y_data[p2]  ], shape=(2,1) )\n",
    "\n",
    "z = sess.run(tf.matmul(tf.linalg.inv(a), y))\n",
    "\n",
    "w1 = z[0,0]\n",
    "b1 = z[1,0]\n",
    "print(w1, b1)"
   ]
  },
  {
   "cell_type": "code",
   "execution_count": null,
   "metadata": {
    "scrolled": true
   },
   "outputs": [],
   "source": [
    "#2-4 ( 에러 원인을 찾으시요 )\n",
    "plt.xlabel('hour')\n",
    "plt.ylabel('score')\n",
    "plt.plot(x_data, y_data, 'r^')\n",
    "\n",
    "\n",
    "\n",
    "x2 = [x_data[p1], x_data[p2]]\n",
    "h2 = [y_data[p1], y_data[p2]]\n",
    "plt.plot(x2, h2, 'bo')\n",
    "\n",
    "\n",
    "x = tf.placeholder(tf.float32)\n",
    "x2 = np.linspace(0,23,30)\n",
    "h = w1*x +  b1\n",
    "h2 = sess.run(h, feed_dict={x: x2 })\n",
    "plt.plot(x2, h2,  'b')\n",
    "\n",
    "\n",
    "x2 = [4, 8, 16]\n",
    "h2 = sess.run(h, feed_dict={x: x2 })\n",
    "plt.plot(x2, h2 ,  'kd', markersize=12)"
   ]
  },
  {
   "cell_type": "code",
   "execution_count": null,
   "metadata": {
    "ExecuteTime": {
     "end_time": "2018-11-20T14:35:29.634470Z",
     "start_time": "2018-11-20T14:35:29.605547Z"
    }
   },
   "outputs": [],
   "source": [
    "#3 \n",
    "p1 = sess.run(tf.argmin(y_data))\n",
    "p2 = sess.run(tf.argmax(y_data)) \n",
    "\n",
    "print(p1, p2)\n",
    "\n",
    "\n",
    "a = tf.constant([[x_data[p1], 1.0], [x_data[p2], 1.0]])\n",
    "y = tf.constant([y_data[p1], y_data[p2]  ], shape=(2,1) )\n",
    "\n",
    "z = sess.run(tf.matmul(tf.linalg.inv(a), y))\n",
    "\n",
    "w2 = z[0,0]\n",
    "b2 = z[1,0]\n",
    "print(w2, b2)"
   ]
  },
  {
   "cell_type": "code",
   "execution_count": null,
   "metadata": {
    "ExecuteTime": {
     "end_time": "2018-11-20T14:38:31.560702Z",
     "start_time": "2018-11-20T14:38:31.413063Z"
    }
   },
   "outputs": [],
   "source": [
    "#3-2\n",
    "plt.xlabel('hour')\n",
    "plt.ylabel('score')\n",
    "plt.plot(x_data, y_data, 'r^')\n",
    "\n",
    "\n",
    "\n",
    "x2 = [x_data[p1], x_data[p2]]\n",
    "h2 = [y_data[p1], y_data[p2]]\n",
    "plt.plot(x2, h2, 'bo')\n",
    "\n",
    "\n",
    "x = tf.placeholder(tf.float32)\n",
    "x2 = np.linspace(0,23,30)\n",
    "h = w2*x +  b2\n",
    "h2 = sess.run(h, feed_dict={x: x2 })\n",
    "plt.plot(x2, h2,  'b')\n",
    "\n",
    "\n",
    "x2 = [4, 8, 16]\n",
    "h2 = sess.run(h, feed_dict={x: x2 })\n",
    "plt.plot(x2, h2 ,  'kd', markersize=12)"
   ]
  },
  {
   "cell_type": "code",
   "execution_count": null,
   "metadata": {
    "ExecuteTime": {
     "end_time": "2018-11-20T14:39:43.557219Z",
     "start_time": "2018-11-20T14:39:43.409615Z"
    }
   },
   "outputs": [],
   "source": [
    "#4  ( 에러 원인을 찾으시요 )\n",
    "\n",
    "plt.xlabel('hour')\n",
    "plt.ylabel('score')\n",
    "plt.plot(x_data, y_data, 'r^')\n",
    "\n",
    "x2 = np.linspace(0,23,30)\n",
    "\n",
    "h = w1*x +  b1\n",
    "h2 = sess.run(h, feed_dict={x: x2 })\n",
    "plt.plot(x2, h2,  'b')\n",
    "\n",
    "h = w2*x +  b2\n",
    "h2 = sess.run(h, feed_dict={x: x2 })\n",
    "plt.plot(x2, h2,  'g')"
   ]
  },
  {
   "cell_type": "code",
   "execution_count": null,
   "metadata": {
    "ExecuteTime": {
     "end_time": "2018-11-20T14:58:37.755321Z",
     "start_time": "2018-11-20T14:58:37.717424Z"
    }
   },
   "outputs": [],
   "source": [
    "#5\n",
    "w = tf.placeholder(tf.float32)\n",
    "b = tf.placeholder(tf.float32)\n",
    "x = tf.placeholder(tf.float32)\n",
    "\n",
    "h = w * x + b\n",
    "rmse = tf.sqrt(tf.reduce_mean(tf.square(h - y_data)))\n",
    "\n",
    "print(sess.run(rmse, feed_dict={w:w1, b:b1, x:x_data }))\n",
    "print(sess.run(rmse, feed_dict={w:w2, b:b2, x:x_data })) "
   ]
  },
  {
   "cell_type": "code",
   "execution_count": null,
   "metadata": {},
   "outputs": [],
   "source": [
    "#6\n",
    "\n",
    "x = tf.placeholder(tf.float32, shape=(20,1))\n",
    "y = tf.placeholder(tf.float32, shape=(20,1))\n",
    "T = tf.ones([20,1], dtype=tf.float32)\n",
    "\n",
    "A = tf.concat([x, T],1)\n",
    "\n",
    "pinv = tf.matmul(tf.linalg.inv(tf.matmul(tf.transpose(A), A)), tf.transpose(A))\n",
    "w  =  tf.matmul(pinv,  y)\n",
    "\n",
    "w_ = sess.run(w, feed_dict={x:x_data.reshape((20,1)), y:y_data.reshape((20,1))})\n",
    "w0 = w_[0]\n",
    "b0 = w_[1]\n",
    "print(w_)"
   ]
  },
  {
   "cell_type": "code",
   "execution_count": null,
   "metadata": {
    "ExecuteTime": {
     "end_time": "2018-11-20T15:25:38.765882Z",
     "start_time": "2018-11-20T15:25:38.570402Z"
    }
   },
   "outputs": [],
   "source": [
    "#6-2\n",
    "plt.xlabel('hour')\n",
    "plt.ylabel('score')\n",
    "plt.plot(x_data, y_data, 'k^')\n",
    "\n",
    "\n",
    "x2 = np.linspace(0,23,30)\n",
    "x = tf.placeholder(tf.float32)\n",
    "\n",
    "\n",
    "h = w0*x +  b0\n",
    "h2 = sess.run(h, feed_dict={x: x2 })\n",
    "plt.plot(x2, h2,  'r')\n",
    "\n",
    "h = w1*x +  b1\n",
    "h2 = sess.run(h, feed_dict={x: x2 })\n",
    "plt.plot(x2, h2,  'g')\n",
    "\n",
    "h = w2*x +  b2\n",
    "h2 = sess.run(h, feed_dict={x: x2 })\n",
    "plt.plot(x2, h2,  'b')"
   ]
  },
  {
   "cell_type": "markdown",
   "metadata": {},
   "source": [
    "## 2) 주가 지시 예측과 시각화"
   ]
  },
  {
   "cell_type": "markdown",
   "metadata": {},
   "source": [
    "https://datatofish.com/multiple-linear-regression-python/\n",
    "![주가예측](stock.jpg)\n",
    "\n",
    "1) 이자율과 실업률에 대한 주가 예측 모델은 무엇인가?\n",
    "\n",
    "실업률이 6.2에서 6.1로 0.1 떨어졌을 때, 이자율이 5.1에서 5.2로 0.1 올라갔을때 주가에는 어떤 영향이 있는가?"
   ]
  },
  {
   "cell_type": "code",
   "execution_count": null,
   "metadata": {
    "ExecuteTime": {
     "end_time": "2018-11-22T04:57:21.450909Z",
     "start_time": "2018-11-22T04:57:21.299314Z"
    }
   },
   "outputs": [],
   "source": [
    "#1\n",
    "Interest_Rate =  np.array([[2.75,2.5,2.5,2.5,2.5,2.5,2.5,2.25,2.25,2.25,2,2,2,1.75,\n",
    "                            1.75,1.75,1.75,1.75,1.75,1.75,1.75,1.75,1.75,1.75]], dtype=np.float32)\n",
    "Unemployment_Rate = np.array([[5.3,5.3,5.3,5.3,5.4,5.6,5.5,5.5,5.5,5.6,5.7,\n",
    "                               5.9,6,5.9,5.8,6.1,6.2,6.1,6.1,6.1,5.9,6.2,6.2,6.1]], dtype=np.float32)\n",
    "Stock_Index_Price = np.array([[1464,1394,1357,1293,1256,1254,1234,1195,1159,1167,1130,1075,1047,\n",
    "                               965,943,958,971,949,884,866,876,822,704,719]], dtype=np.float32)\n",
    "plt.subplot(1,2,1)\n",
    "plt.plot(Interest_Rate.flatten(), Stock_Index_Price.flatten(), 'ro')\n",
    "plt.subplot(1,2,2)\n",
    "plt.plot(Unemployment_Rate.flatten(), Stock_Index_Price.flatten(), 'go')"
   ]
  },
  {
   "cell_type": "code",
   "execution_count": null,
   "metadata": {
    "ExecuteTime": {
     "end_time": "2018-11-22T04:57:34.833166Z",
     "start_time": "2018-11-22T04:57:34.450157Z"
    }
   },
   "outputs": [],
   "source": [
    "#2\n",
    "\n",
    "T = tf.ones([1,24], dtype=tf.float32)\n",
    "y = tf.constant(Stock_Index_Price, shape = (24,1), dtype=tf.float32)\n",
    "A = tf.transpose(tf.concat([Interest_Rate,  Unemployment_Rate, T],0))\n",
    "\n",
    "pinv = tf.matmul(tf.linalg.inv(tf.matmul(tf.transpose(A), A)), tf.transpose(A))\n",
    "w  =  tf.matmul(pinv,  y)\n",
    "print(sess.run(w))"
   ]
  },
  {
   "cell_type": "code",
   "execution_count": null,
   "metadata": {
    "ExecuteTime": {
     "end_time": "2018-11-22T04:57:38.749694Z",
     "start_time": "2018-11-22T04:57:38.715757Z"
    }
   },
   "outputs": [],
   "source": [
    "#3\n",
    "x =  tf.placeholder(tf.float32, shape=(None,3))\n",
    "h = tf.matmul(x, w)\n",
    "result =  sess.run(h, feed_dict={x:[[5.1, 6.2,1], [5.1,6.1,1], [5.1, 6.2,1], [5.2, 6.2,1] ]})\n",
    "print(result)\n",
    "\n",
    "print( result[1]-result[0])\n",
    "print( result[3]-result[2])\n"
   ]
  },
  {
   "cell_type": "code",
   "execution_count": null,
   "metadata": {},
   "outputs": [],
   "source": [
    "\n",
    "x = tf.constant([[1,2],[4,5]])\n",
    "y = tf.constant([[1,2,3],[4,5,6]])\n",
    "z = tf.matmul(x, y)\n",
    "\n",
    "print(sess.run(z))\n"
   ]
  },
  {
   "cell_type": "code",
   "execution_count": null,
   "metadata": {},
   "outputs": [],
   "source": []
  },
  {
   "cell_type": "code",
   "execution_count": null,
   "metadata": {},
   "outputs": [],
   "source": []
  }
 ],
 "metadata": {
  "kernelspec": {
   "display_name": "Python 3",
   "language": "python",
   "name": "python3"
  },
  "language_info": {
   "codemirror_mode": {
    "name": "ipython",
    "version": 3
   },
   "file_extension": ".py",
   "mimetype": "text/x-python",
   "name": "python",
   "nbconvert_exporter": "python",
   "pygments_lexer": "ipython3",
   "version": "3.7.1"
  },
  "varInspector": {
   "cols": {
    "lenName": 16,
    "lenType": 16,
    "lenVar": 40
   },
   "kernels_config": {
    "python": {
     "delete_cmd_postfix": "",
     "delete_cmd_prefix": "del ",
     "library": "var_list.py",
     "varRefreshCmd": "print(var_dic_list())"
    },
    "r": {
     "delete_cmd_postfix": ") ",
     "delete_cmd_prefix": "rm(",
     "library": "var_list.r",
     "varRefreshCmd": "cat(var_dic_list()) "
    }
   },
   "types_to_exclude": [
    "module",
    "function",
    "builtin_function_or_method",
    "instance",
    "_Feature"
   ],
   "window_display": false
  }
 },
 "nbformat": 4,
 "nbformat_minor": 2
}
