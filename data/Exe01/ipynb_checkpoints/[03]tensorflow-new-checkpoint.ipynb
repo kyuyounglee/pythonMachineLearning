{
 "cells": [
  {
   "cell_type": "code",
   "execution_count": null,
   "metadata": {
    "ExecuteTime": {
     "end_time": "2018-11-18T02:27:08.025713Z",
     "start_time": "2018-11-18T02:27:08.021716Z"
    }
   },
   "outputs": [],
   "source": [
    "import tensorflow as tf\n",
    "import numpy as np\n",
    "\n",
    "sess = tf.Session()\n",
    "\n",
    "print(\"tf ver = \", tf.__version__)"
   ]
  },
  {
   "cell_type": "markdown",
   "metadata": {},
   "source": [
    "# 1. 텐서 생성"
   ]
  },
  {
   "cell_type": "markdown",
   "metadata": {},
   "source": [
    "## 1.1 텐서 생성"
   ]
  },
  {
   "cell_type": "code",
   "execution_count": null,
   "metadata": {},
   "outputs": [],
   "source": [
    "#1 \n",
    "a = tf.constant(2.0)\n",
    "print(a)\n",
    "print(sess.run(a))"
   ]
  },
  {
   "cell_type": "code",
   "execution_count": null,
   "metadata": {},
   "outputs": [],
   "source": [
    "#2\n",
    "print(type(a))"
   ]
  },
  {
   "cell_type": "code",
   "execution_count": null,
   "metadata": {},
   "outputs": [],
   "source": [
    "#3\n",
    "print(a.shape)\n",
    "if a.shape == () : print(\"차원 0\")\n",
    "print(type(a.shape))  "
   ]
  },
  {
   "cell_type": "code",
   "execution_count": null,
   "metadata": {},
   "outputs": [],
   "source": [
    "# 4\n",
    "b = tf.constant([2.0])\n",
    "print(sess.run(b))"
   ]
  },
  {
   "cell_type": "code",
   "execution_count": null,
   "metadata": {},
   "outputs": [],
   "source": [
    "#4-2\n",
    "a = tf.constant(4)\n",
    "b = tf.constant([4])\n",
    "print(a)\n",
    "print(b)"
   ]
  },
  {
   "cell_type": "code",
   "execution_count": null,
   "metadata": {},
   "outputs": [],
   "source": [
    "#4-3\n",
    "a_ = sess.run(a)\n",
    "b_ = sess.run(b)\n",
    "print(a_, type(a_))\n",
    "print(b_, type(b_))"
   ]
  },
  {
   "cell_type": "code",
   "execution_count": null,
   "metadata": {},
   "outputs": [],
   "source": [
    "#5\n",
    "print(b.shape)  \n",
    "print(\"length \", b.shape[0])"
   ]
  },
  {
   "cell_type": "code",
   "execution_count": null,
   "metadata": {},
   "outputs": [],
   "source": [
    "#6\n",
    "c = tf.constant([2,3,4])\n",
    "print(c)\n",
    "print(c.shape)\n",
    "print(\"length \", c.shape[0])"
   ]
  },
  {
   "cell_type": "code",
   "execution_count": null,
   "metadata": {},
   "outputs": [],
   "source": [
    "#7\n",
    "m = tf.constant([[1,2], [3,4], [5,6]])\n",
    "print(m)\n",
    "print(m.shape)\n",
    "print(\"행  \", m.shape[0])\n",
    "print(\"열  \", m.shape[1])                             "
   ]
  },
  {
   "cell_type": "code",
   "execution_count": null,
   "metadata": {},
   "outputs": [],
   "source": [
    "#8\n",
    "m = tf.constant( [[1, 2, 3]] )                \n",
    "print(m)\n",
    "print(m.shape) "
   ]
  },
  {
   "cell_type": "code",
   "execution_count": null,
   "metadata": {},
   "outputs": [],
   "source": [
    "#9\n",
    "m = tf.constant([[1], [2], [3]] )                \n",
    "print(m)\n",
    "print(m.shape) "
   ]
  },
  {
   "cell_type": "code",
   "execution_count": null,
   "metadata": {},
   "outputs": [],
   "source": [
    "#10\n",
    "a = [1, 2.0]\n",
    "b = np.array([1, 2, 3.0] )\n",
    "c = tf.constant([1, 2, 3.0] )\n",
    "\n",
    "print(type(a[0]))\n",
    "print(type(a[1]))\n",
    "print(b.dtype)\n",
    "print(type(b[0]))\n",
    "print(type(b[2]))\n",
    "\n",
    "print(c)\n",
    "c2 = sess.run(c)\n",
    "print(type(c2[0]))\n"
   ]
  },
  {
   "cell_type": "code",
   "execution_count": null,
   "metadata": {},
   "outputs": [],
   "source": [
    "#11 ( 에러 원인을 찾으시요 )\n",
    "a = [[1, 2 ], [3,4,5]]\n",
    "print(a)\n",
    "b = tf.constant([[1, 2], [3,4,5 ]])\n",
    "print(b)"
   ]
  },
  {
   "cell_type": "code",
   "execution_count": null,
   "metadata": {},
   "outputs": [],
   "source": [
    "#12\n",
    "a = tf.constant([1,2,3,4,5,6])                  \n",
    "print(a.shape)\n",
    "b = tf.constant([[1,2,3,4,5,6] ])               \n",
    "print(b.shape.as_list())\n",
    "c = tf.constant([[1],[2],[3],[4],[5],[6] ])     \n",
    "print(c.shape.as_list())\n",
    "d = tf.constant(np.array([[1, 2],[3, 4], [5,6] ]))\n",
    "print(d.shape.as_list())\n"
   ]
  },
  {
   "cell_type": "code",
   "execution_count": null,
   "metadata": {},
   "outputs": [],
   "source": [
    "#13\n",
    "a = tf.constant(np.array([1, 2, 3, 4, 5, 6]), shape = (2,3))\n",
    "print(sess.run(a))"
   ]
  },
  {
   "cell_type": "code",
   "execution_count": null,
   "metadata": {},
   "outputs": [],
   "source": [
    "#14\n",
    "print(sess.run(tf.constant(0., shape=[4,2])))"
   ]
  },
  {
   "cell_type": "code",
   "execution_count": null,
   "metadata": {},
   "outputs": [],
   "source": [
    "#15\n",
    "print(sess.run(tf.constant([0,1,2], shape=[4,2])))"
   ]
  },
  {
   "cell_type": "markdown",
   "metadata": {},
   "source": [
    "## 1.2 텐서 재구성\n"
   ]
  },
  {
   "cell_type": "code",
   "execution_count": null,
   "metadata": {},
   "outputs": [],
   "source": [
    "#1\n",
    "a = tf.constant([[1,2,3], [4,5,6]])\n",
    "b = tf.transpose(a)\n",
    "print( a.shape, b.shape)"
   ]
  },
  {
   "cell_type": "code",
   "execution_count": null,
   "metadata": {},
   "outputs": [],
   "source": [
    "#2\n",
    "a = tf.constant([[1,2,3,4]])        \n",
    "b = tf.transpose(a) \n",
    "print(sess.run(a))\n",
    "print(sess.run(b))\n",
    "print(a.shape)\n",
    "print(b.shape)"
   ]
  },
  {
   "cell_type": "code",
   "execution_count": null,
   "metadata": {},
   "outputs": [],
   "source": [
    "#3\n",
    "a = tf.constant([1,2,3,4])              \n",
    "b = tf.transpose(a)\n",
    "print(a.shape, b.shape)"
   ]
  },
  {
   "cell_type": "code",
   "execution_count": null,
   "metadata": {},
   "outputs": [],
   "source": [
    "#4\n",
    "a = tf.constant([[1,2], [3,4], [5,6], [7,8], [9,10], [11,12]])\n",
    "b = tf.reshape(a, [3,4]) \n",
    "print(a.shape)\n",
    "print(sess.run(a))\n",
    "print(b.shape)\n",
    "print(sess.run(b))"
   ]
  },
  {
   "cell_type": "code",
   "execution_count": null,
   "metadata": {},
   "outputs": [],
   "source": [
    "#5 ( 에러 원인을 찾으시요 )\n",
    "a = tf.constant([[1,2], [3,4], [5,6], [7,8], [9,10], [11,12]])\n",
    "b = tf.reshape(a, [3,5]) "
   ]
  },
  {
   "cell_type": "code",
   "execution_count": null,
   "metadata": {},
   "outputs": [],
   "source": [
    "#6\n",
    "a = tf.constant([1,2,3,4,5,6])\n",
    "b = tf.reshape(a, [2,3]) \n",
    "print(sess.run(a))\n",
    "print(a.shape)\n",
    "print(sess.run(b))\n",
    "print(b.shape)"
   ]
  },
  {
   "cell_type": "code",
   "execution_count": null,
   "metadata": {},
   "outputs": [],
   "source": [
    "#7\n",
    "a = tf.constant([[1], [2], [3], [4]]) \n",
    "b = tf.transpose([[1,2,3,4]])\n",
    "c = tf.reshape([1,2,3,4], [4,1])\n",
    "d = tf.transpose([1,2,3,4])\n",
    "print(sess.run(a))\n",
    "print(sess.run(b))\n",
    "print(sess.run(c))\n",
    "print(sess.run(d))"
   ]
  },
  {
   "cell_type": "code",
   "execution_count": null,
   "metadata": {},
   "outputs": [],
   "source": [
    "#8\n",
    "a = tf.constant([6,7,8],shape=(3,1))\n",
    "b = tf.constant([[1,2,3]], shape= (3,1) )\n",
    "c = tf.constant([[1,2,3,4]], shape= (2,2) ) \n",
    "d = tf.constant([1,2,3,4,5,6], shape = (2,3))\n",
    "\n",
    "print(sess.run(a))\n",
    "print(sess.run(b))\n",
    "print(sess.run(c))\n",
    "print(sess.run(d))"
   ]
  },
  {
   "cell_type": "markdown",
   "metadata": {},
   "source": [
    "# 2. 텐서 기본 연산"
   ]
  },
  {
   "cell_type": "code",
   "execution_count": null,
   "metadata": {},
   "outputs": [],
   "source": [
    "#1\n",
    "a = tf.constant([1.0, 2.0, 3.0])\n",
    "b = tf.constant([1.0, 2.0, 3.0])\n",
    "c = a + b\n",
    "d = a - b \n",
    "e = a * b \n",
    "f = a / b\n",
    "print(sess.run(c))\n",
    "print(sess.run(d))\n",
    "print(sess.run(e))\n",
    "print(sess.run(f))"
   ]
  },
  {
   "cell_type": "code",
   "execution_count": null,
   "metadata": {},
   "outputs": [],
   "source": [
    "#1-2\n",
    "a = tf.constant([1,2,3,4,5,6])\n",
    "b = tf.constant([2, 0, 2, 0, 2,0])\n",
    "c = a * b\n",
    "print(sess.run(c))"
   ]
  },
  {
   "cell_type": "code",
   "execution_count": null,
   "metadata": {
    "scrolled": true
   },
   "outputs": [],
   "source": [
    "#2 ( 에러 원인을 찾으시요 )\n",
    "a = tf.constant([1.0, 2.0, 3.0, 4.0])\n",
    "b = tf.constant([1.0, 2.0, 3.0])\n",
    "c = a * b \n"
   ]
  },
  {
   "cell_type": "code",
   "execution_count": null,
   "metadata": {},
   "outputs": [],
   "source": [
    "#3\n",
    "a = tf.constant([1,2,3]) \n",
    "b = tf.constant([4,5,6]) \n",
    "c = a * b\n",
    "print(a)\n",
    "print(b)\n",
    "print(c)"
   ]
  },
  {
   "cell_type": "code",
   "execution_count": null,
   "metadata": {},
   "outputs": [],
   "source": [
    "#3-2\n",
    "print(a.op)"
   ]
  },
  {
   "cell_type": "code",
   "execution_count": null,
   "metadata": {
    "scrolled": true
   },
   "outputs": [],
   "source": [
    "#3-3\n",
    "print(c.op)"
   ]
  },
  {
   "cell_type": "code",
   "execution_count": null,
   "metadata": {},
   "outputs": [],
   "source": [
    "#4\n",
    "a = tf.constant([1,2,3,4,5])\n",
    "b = tf.constant([1,4,6,4,9])\n",
    "c = tf.equal(a, b)\n",
    "print(sess.run(c))"
   ]
  },
  {
   "cell_type": "code",
   "execution_count": null,
   "metadata": {},
   "outputs": [],
   "source": [
    "#4-2\n",
    "a = tf.constant([1,22,23,4,50])\n",
    "b = tf.equal(a, 22)\n",
    "print(sess.run(b))"
   ]
  },
  {
   "cell_type": "code",
   "execution_count": null,
   "metadata": {},
   "outputs": [],
   "source": [
    "#5\n",
    "a = tf.constant([1,22,23,4,50])\n",
    "b = tf.constant([1,2,6,4,9])\n",
    "c = tf.greater(a, b)\n",
    "print(sess.run(c))"
   ]
  },
  {
   "cell_type": "code",
   "execution_count": null,
   "metadata": {},
   "outputs": [],
   "source": [
    "#5-2\n",
    "a = tf.constant([1,22,23,4,50])\n",
    "b = tf.constant([1,2,6,4,9])\n",
    "c = a > b\n",
    "print(sess.run(c))"
   ]
  },
  {
   "cell_type": "code",
   "execution_count": null,
   "metadata": {},
   "outputs": [],
   "source": [
    "#5-3\n",
    "a = tf.constant([1,22,23,4,50])\n",
    "b = a > 40\n",
    "print(sess.run(b))"
   ]
  },
  {
   "cell_type": "markdown",
   "metadata": {},
   "source": [
    "# 3. 텐서 자료 타입"
   ]
  },
  {
   "cell_type": "markdown",
   "metadata": {},
   "source": [
    "## 3.1 placeholder 와 Variable"
   ]
  },
  {
   "cell_type": "code",
   "execution_count": null,
   "metadata": {
    "ExecuteTime": {
     "end_time": "2018-11-18T03:33:25.367893Z",
     "start_time": "2018-11-18T03:33:25.358917Z"
    }
   },
   "outputs": [],
   "source": [
    "# 1\n",
    "b = tf.placeholder(tf.float32) \n",
    "c = tf.placeholder(dtype = tf.float32) \n",
    "print(b)\n",
    "print(c)"
   ]
  },
  {
   "cell_type": "code",
   "execution_count": null,
   "metadata": {
    "ExecuteTime": {
     "end_time": "2018-11-18T03:33:40.870903Z",
     "start_time": "2018-11-18T03:33:40.855930Z"
    }
   },
   "outputs": [],
   "source": [
    "# 1-2 ( 에러 원인을 찾으시요 )\n",
    "a = tf.placeholder() "
   ]
  },
  {
   "cell_type": "code",
   "execution_count": null,
   "metadata": {
    "ExecuteTime": {
     "end_time": "2018-11-18T03:42:36.191192Z",
     "start_time": "2018-11-18T03:42:36.182190Z"
    }
   },
   "outputs": [],
   "source": [
    "#2\n",
    "a = tf.placeholder(tf.float32) \n",
    "print(sess.run(a, feed_dict={a:[1.0,2.0,3.0]}))"
   ]
  },
  {
   "cell_type": "code",
   "execution_count": null,
   "metadata": {
    "ExecuteTime": {
     "end_time": "2018-11-18T03:38:52.847756Z",
     "start_time": "2018-11-18T03:38:52.839759Z"
    }
   },
   "outputs": [],
   "source": [
    "#2-2\n",
    "a = tf.placeholder(tf.float32) \n",
    "print(sess.run(a, feed_dict={a:[1,2,3]}))"
   ]
  },
  {
   "cell_type": "code",
   "execution_count": null,
   "metadata": {
    "ExecuteTime": {
     "end_time": "2018-11-18T04:34:24.331222Z",
     "start_time": "2018-11-18T04:34:24.321259Z"
    }
   },
   "outputs": [],
   "source": [
    "#3 \n",
    "dic = {}\n",
    "dic = {\"item\":\"mouse\", \"qty\":5}\n",
    "dic[\"item\"] = \"monitor\"\n",
    "print(dic[\"item\"])\n",
    "\n",
    "dic = {1.3:\"mouse\", 4:5}\n",
    "print(dic[1.3], dic[4])"
   ]
  },
  {
   "cell_type": "code",
   "execution_count": null,
   "metadata": {
    "ExecuteTime": {
     "end_time": "2018-11-18T04:38:34.408409Z",
     "start_time": "2018-11-18T04:38:34.402421Z"
    }
   },
   "outputs": [],
   "source": [
    "#4 \n",
    "dic = {\"item\":\"mouse\", \"qty\":5}  "
   ]
  },
  {
   "cell_type": "code",
   "execution_count": null,
   "metadata": {
    "ExecuteTime": {
     "end_time": "2018-11-18T04:38:50.153009Z",
     "start_time": "2018-11-18T04:38:50.138022Z"
    }
   },
   "outputs": [],
   "source": [
    "#4-2 ( 에러 원인을 찾으시요 )\n",
    "dic = {item:\"mouse\", qty:5}  "
   ]
  },
  {
   "cell_type": "code",
   "execution_count": null,
   "metadata": {
    "ExecuteTime": {
     "end_time": "2018-11-18T04:45:20.877747Z",
     "start_time": "2018-11-18T04:45:20.860762Z"
    }
   },
   "outputs": [],
   "source": [
    "#5  ( 에러 원인을 찾으시요 )\n",
    "a = [] \n",
    "dic = {a:[1,2,3,4,5]}"
   ]
  },
  {
   "cell_type": "code",
   "execution_count": null,
   "metadata": {},
   "outputs": [],
   "source": [
    "#5-2 ( 에러 원인을 찾으시요 )\n",
    "a = np.array([])\n",
    "dic = {a:[1,2,3,4,5]}"
   ]
  },
  {
   "cell_type": "code",
   "execution_count": null,
   "metadata": {
    "ExecuteTime": {
     "end_time": "2018-11-18T04:50:55.774583Z",
     "start_time": "2018-11-18T04:50:55.498320Z"
    }
   },
   "outputs": [],
   "source": [
    "#5-3\n",
    "a = tf.placeholder(tf.float32)\n",
    "b = {a:[1,2,3,4,5]}\n",
    "print(b)\n",
    "c = {a:np.array([1,2,3,4,5])}\n",
    "print(c)"
   ]
  },
  {
   "cell_type": "code",
   "execution_count": null,
   "metadata": {
    "ExecuteTime": {
     "end_time": "2018-11-18T05:00:21.876716Z",
     "start_time": "2018-11-18T05:00:21.867733Z"
    }
   },
   "outputs": [],
   "source": [
    "#6 \n",
    "a = tf.placeholder(tf.float32)     \n",
    "dic = {a:[4,5,6]}   \n",
    "print(a)\n",
    "print(dic[a])"
   ]
  },
  {
   "cell_type": "code",
   "execution_count": null,
   "metadata": {
    "ExecuteTime": {
     "end_time": "2018-11-18T05:07:49.660297Z",
     "start_time": "2018-11-18T05:07:49.650324Z"
    }
   },
   "outputs": [],
   "source": [
    "#7\n",
    "a = tf.constant([1,2,3,4,5])  \n",
    "dic = {a:[4,5,6,7,8]}\n",
    "print(sess.run(a, feed_dict=dic))"
   ]
  },
  {
   "cell_type": "code",
   "execution_count": null,
   "metadata": {
    "ExecuteTime": {
     "end_time": "2018-11-18T05:10:17.633050Z",
     "start_time": "2018-11-18T05:10:17.626068Z"
    }
   },
   "outputs": [],
   "source": [
    "#7-2\n",
    "a = tf.constant([1,2,3,4,5])  \n",
    "dic = {a:[4,5,6,7.5,8.2]}\n",
    "print(sess.run(a, feed_dict=dic))"
   ]
  },
  {
   "cell_type": "code",
   "execution_count": null,
   "metadata": {
    "ExecuteTime": {
     "end_time": "2018-11-18T05:13:47.803183Z",
     "start_time": "2018-11-18T05:13:47.779243Z"
    }
   },
   "outputs": [],
   "source": [
    "#7-3 ( 에러 원인을 찾으시요 )\n",
    "a = tf.constant([1,2,3,4,5])  \n",
    "dic = {a:[4,5]}\n",
    "print(sess.run([a], feed_dict=dic))"
   ]
  },
  {
   "cell_type": "code",
   "execution_count": null,
   "metadata": {
    "ExecuteTime": {
     "end_time": "2018-11-18T05:17:23.636617Z",
     "start_time": "2018-11-18T05:17:23.624651Z"
    }
   },
   "outputs": [],
   "source": [
    "#8\n",
    "input_data=[1,2,3,4,5]\n",
    "w = tf.Variable(input_data)\n",
    "print(w)"
   ]
  },
  {
   "cell_type": "code",
   "execution_count": null,
   "metadata": {
    "ExecuteTime": {
     "end_time": "2018-11-18T05:17:43.412752Z",
     "start_time": "2018-11-18T05:17:43.402780Z"
    }
   },
   "outputs": [],
   "source": [
    "#8-2\n",
    "w = tf.Variable(input_data, dtype=tf.float32)\n",
    "print(w)"
   ]
  },
  {
   "cell_type": "code",
   "execution_count": null,
   "metadata": {
    "ExecuteTime": {
     "end_time": "2018-11-18T05:22:07.538976Z",
     "start_time": "2018-11-18T05:22:07.531000Z"
    }
   },
   "outputs": [],
   "source": [
    "#8-3\n",
    "init = tf.global_variables_initializer()\n",
    "print(init)"
   ]
  },
  {
   "cell_type": "code",
   "execution_count": null,
   "metadata": {},
   "outputs": [],
   "source": [
    "#9 ( 에러 원인을 찾으시요 )\n",
    "a = tf.placeholder(tf.float32)\n",
    "b = tf.constant([1.0, 2.0, 3.0, 4.0])\n",
    "c = a * b\n",
    "result = sess.run(c,feed_dict={a:[1,2,3,4,5]})  "
   ]
  },
  {
   "cell_type": "code",
   "execution_count": null,
   "metadata": {},
   "outputs": [],
   "source": [
    "#10 ( 에러 원인을 찾으시요 )\n",
    "a = tf.constant(5)\n",
    "b = tf.placeholder(tf.float32)\n",
    "print(a)\n",
    "print(b)\n",
    "c = a * b"
   ]
  },
  {
   "cell_type": "code",
   "execution_count": null,
   "metadata": {
    "ExecuteTime": {
     "end_time": "2018-11-18T06:22:41.478176Z",
     "start_time": "2018-11-18T06:22:41.394402Z"
    }
   },
   "outputs": [],
   "source": [
    "#11\n",
    "a = tf.placeholder(tf.float32)\n",
    "b = tf.Variable([1.0, 3.0, 1.0, 1.0, 2.0], tf.float32)\n",
    "d1 = b * 2.0\n",
    "d2 = a * b\n",
    "init = tf.global_variables_initializer()\n",
    "sess.run(init)\n",
    "print(sess.run(d1))"
   ]
  },
  {
   "cell_type": "code",
   "execution_count": null,
   "metadata": {
    "ExecuteTime": {
     "end_time": "2018-11-18T06:25:00.441121Z",
     "start_time": "2018-11-18T06:25:00.402193Z"
    }
   },
   "outputs": [],
   "source": [
    "#11-2\n",
    "print(sess.run(d2))"
   ]
  },
  {
   "cell_type": "code",
   "execution_count": null,
   "metadata": {},
   "outputs": [],
   "source": [
    "#11-3\n",
    "print(sess.run(d2,feed_dict={a:[1,2,3,4,5]}) )"
   ]
  },
  {
   "cell_type": "code",
   "execution_count": null,
   "metadata": {
    "ExecuteTime": {
     "end_time": "2018-11-18T06:29:39.653024Z",
     "start_time": "2018-11-18T06:29:39.527329Z"
    }
   },
   "outputs": [],
   "source": [
    "#12\n",
    "a = tf.placeholder(tf.float32)\n",
    "b = tf.Variable([1.0, 3.0, 1.0, 1.0, 2.0], tf.float32)\n",
    "c = a * b\n",
    "d = a * 2\n",
    "init = tf.global_variables_initializer()\n",
    "sess.run(init)\n",
    "result = sess.run([a, c],feed_dict={a:[1,2,3,4,5]})\n",
    "print(result[0])\n",
    "print(result[1])"
   ]
  },
  {
   "cell_type": "code",
   "execution_count": null,
   "metadata": {
    "ExecuteTime": {
     "end_time": "2018-11-18T06:31:12.740455Z",
     "start_time": "2018-11-18T06:31:12.731480Z"
    }
   },
   "outputs": [],
   "source": [
    "#12-2\n",
    "a_, c_ = sess.run([a, c],feed_dict={a:[1,2,3,4,5]})\n",
    "print(a_)\n",
    "print(c_)"
   ]
  },
  {
   "cell_type": "code",
   "execution_count": null,
   "metadata": {
    "ExecuteTime": {
     "end_time": "2018-11-18T06:33:36.540843Z",
     "start_time": "2018-11-18T06:33:36.524901Z"
    }
   },
   "outputs": [],
   "source": [
    "#12-3\n",
    "a_, _, _ = sess.run([a, c, d],feed_dict={a:[1,2,3,4,5]})\n",
    "print(a_)"
   ]
  },
  {
   "cell_type": "markdown",
   "metadata": {},
   "source": [
    "## 3.2 심화학습"
   ]
  },
  {
   "cell_type": "code",
   "execution_count": null,
   "metadata": {
    "ExecuteTime": {
     "end_time": "2018-11-18T07:04:49.641367Z",
     "start_time": "2018-11-18T07:04:49.356014Z"
    }
   },
   "outputs": [],
   "source": [
    "#1\n",
    "a = tf.Variable([1.0,2,3,4,5])\n",
    "b = a * 10.0\n",
    "print(sess.run(b, feed_dict={a:[3, 4, 5, 6.0, 9.0]}))"
   ]
  },
  {
   "cell_type": "code",
   "execution_count": null,
   "metadata": {
    "ExecuteTime": {
     "end_time": "2018-11-18T07:11:50.941534Z",
     "start_time": "2018-11-18T07:11:50.932556Z"
    }
   },
   "outputs": [],
   "source": [
    "#2\n",
    "print(sess.run(b, feed_dict={a:[3, 4, 5, 6.0, 9.0], b:[1.0, 2, 2, 2, 2]}))"
   ]
  },
  {
   "cell_type": "code",
   "execution_count": null,
   "metadata": {
    "ExecuteTime": {
     "end_time": "2018-11-18T07:25:54.581758Z",
     "start_time": "2018-11-18T07:25:54.494966Z"
    }
   },
   "outputs": [],
   "source": [
    "#3\n",
    "input_data=[1,2,3,4,5]\n",
    "x = tf.placeholder(dtype=tf.float32)\n",
    "w = tf.Variable([2.0])  \n",
    "b = tf.constant([1.4])\n",
    "y = w*x + b     \n",
    "\n",
    "init = tf.global_variables_initializer()\n",
    "sess.run(init)\n",
    "print(\"y -> \", y)\n",
    "print(\"rank(w) ->\", sess.run(tf.rank(w)))\n",
    "print(\"rank(y) ->\", sess.run(tf.rank(y), feed_dict={x:[1,2,3]}))\n",
    "print(\"y.op ->\", y.op)\n"
   ]
  },
  {
   "cell_type": "code",
   "execution_count": null,
   "metadata": {
    "ExecuteTime": {
     "end_time": "2018-11-18T07:45:52.262259Z",
     "start_time": "2018-11-18T07:45:52.248274Z"
    },
    "scrolled": true
   },
   "outputs": [],
   "source": [
    "#4\n",
    "a = tf.constant([5], dtype=tf.float32)\n",
    "b = tf.constant([10, 20, 30],dtype=tf.float32)\n",
    "c = tf.constant([10,20,30])  \n",
    "#c = tf.constant([10,20,30], dtype=tf.float32) \n",
    "d = b * c\n",
    "print(a)\n",
    "print(b)\n",
    "print(c)"
   ]
  },
  {
   "cell_type": "code",
   "execution_count": null,
   "metadata": {
    "ExecuteTime": {
     "end_time": "2018-11-18T07:50:25.231963Z",
     "start_time": "2018-11-18T07:50:25.216033Z"
    }
   },
   "outputs": [],
   "source": [
    "#5\n",
    "a = tf.placeholder(tf.float32)\n",
    "b = tf.Variable([1.0, 1.0, 1.0, 1.0, 2.0], tf.float32)\n",
    "print(b)\n",
    "b = a * b   \n",
    "print(b)"
   ]
  },
  {
   "cell_type": "code",
   "execution_count": null,
   "metadata": {
    "ExecuteTime": {
     "end_time": "2018-11-18T08:00:32.202100Z",
     "start_time": "2018-11-18T08:00:32.082392Z"
    }
   },
   "outputs": [],
   "source": [
    "#5-2\n",
    "init = tf.global_variables_initializer()\n",
    "sess.run(init)\n",
    "print(sess.run(b,feed_dict={a:[1,2,3,4,5]}))             "
   ]
  },
  {
   "cell_type": "code",
   "execution_count": null,
   "metadata": {
    "ExecuteTime": {
     "end_time": "2018-11-18T08:40:57.408960Z",
     "start_time": "2018-11-18T08:40:57.259352Z"
    }
   },
   "outputs": [],
   "source": [
    "#6\n",
    "w = tf.Variable([1.0, 2.0, 3.0, 4.0, 5.0])\n",
    "sess.run(tf.global_variables_initializer() )                \n",
    "\n",
    "for i in range(3):\n",
    "    w = w * 2\n",
    "    print(w)\n",
    "    \n",
    "print(sess.run(w))"
   ]
  },
  {
   "cell_type": "code",
   "execution_count": null,
   "metadata": {
    "ExecuteTime": {
     "end_time": "2018-11-18T08:47:24.378168Z",
     "start_time": "2018-11-18T08:47:24.250511Z"
    }
   },
   "outputs": [],
   "source": [
    "#7\n",
    "w = tf.Variable([1.0, 2.0, 3.0, 4.0, 5.0])\n",
    "sess.run(tf.global_variables_initializer() )                \n",
    "\n",
    "update = tf.assign(w, w*2)   \n",
    "\n",
    "for i in range(3):\n",
    "    sess.run(update)     \n",
    "    print(update)\n",
    "\n",
    "print(sess.run(w))  "
   ]
  },
  {
   "cell_type": "code",
   "execution_count": null,
   "metadata": {},
   "outputs": [],
   "source": [
    "#8\n",
    "input_data=[1,2,3,4,5]\n",
    "x = tf.placeholder(dtype=tf.float32)\n",
    "w = tf.Variable([2.0])  \n",
    "b = tf.constant([1.4])\n",
    "y = w*x + b     \n",
    "\n",
    "init = tf.global_variables_initializer()\n",
    "\n",
    "sess = tf.Session()\n",
    "sess.run(init)\n",
    "\n",
    "out1 = sess.run(y , feed_dict={x:[1,2,3]})   # [3.4 5.4 7.4]\n",
    "out2 = sess.run(y , feed_dict={x:[-1.0,-2.0]})  # [-0.6 -2.6]\n",
    "\n",
    "print(out1)\n",
    "print(out2)"
   ]
  }
 ],
 "metadata": {
  "kernelspec": {
   "display_name": "Python 3",
   "language": "python",
   "name": "python3"
  },
  "language_info": {
   "codemirror_mode": {
    "name": "ipython",
    "version": 3
   },
   "file_extension": ".py",
   "mimetype": "text/x-python",
   "name": "python",
   "nbconvert_exporter": "python",
   "pygments_lexer": "ipython3",
   "version": "3.7.1"
  },
  "varInspector": {
   "cols": {
    "lenName": 16,
    "lenType": 16,
    "lenVar": 40
   },
   "kernels_config": {
    "python": {
     "delete_cmd_postfix": "",
     "delete_cmd_prefix": "del ",
     "library": "var_list.py",
     "varRefreshCmd": "print(var_dic_list())"
    },
    "r": {
     "delete_cmd_postfix": ") ",
     "delete_cmd_prefix": "rm(",
     "library": "var_list.r",
     "varRefreshCmd": "cat(var_dic_list()) "
    }
   },
   "types_to_exclude": [
    "module",
    "function",
    "builtin_function_or_method",
    "instance",
    "_Feature"
   ],
   "window_display": false
  }
 },
 "nbformat": 4,
 "nbformat_minor": 2
}
