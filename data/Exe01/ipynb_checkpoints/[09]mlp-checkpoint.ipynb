{
 "cells": [
  {
   "cell_type": "code",
   "execution_count": null,
   "metadata": {
    "ExecuteTime": {
     "end_time": "2018-12-30T07:02:07.553940Z",
     "start_time": "2018-12-30T07:02:03.406066Z"
    }
   },
   "outputs": [],
   "source": [
    "import tensorflow as tf\n",
    "import numpy as np\n",
    "import matplotlib.pyplot as plt\n",
    "import matplotlib.image as mpimg\n",
    "import pandas as pd\n",
    "\n",
    "%matplotlib inline\n",
    "\n",
    "sess = tf.Session()"
   ]
  },
  {
   "cell_type": "markdown",
   "metadata": {},
   "source": [
    "# 1. XOR "
   ]
  },
  {
   "cell_type": "code",
   "execution_count": null,
   "metadata": {},
   "outputs": [],
   "source": [
    "#1\n",
    "learning_rate = 0.1\n",
    "\n",
    "x_data = [[0, 0],       [0, 1],            [1, 0],         [1, 1]]\n",
    "y_data = [[0],       [1],        [1],        [0]]\n",
    "\n",
    "x_data = np.array(x_data, dtype=np.float32)\n",
    "y_data = np.array(y_data, dtype=np.float32)\n",
    "\n",
    "x = tf.placeholder(tf.float32, [None, 2])\n",
    "y = tf.placeholder(tf.float32, [None, 1])"
   ]
  },
  {
   "cell_type": "code",
   "execution_count": null,
   "metadata": {},
   "outputs": [],
   "source": [
    "#2\n",
    "node = 5  ##  5, 2, 10\n",
    "\n",
    "\n",
    "w1 = tf.Variable(tf.random_normal([2, node]))\n",
    "b1 = tf.Variable(tf.random_normal([node]))\n",
    "layer1 = tf.sigmoid(tf.matmul(x, w1) + b1)"
   ]
  },
  {
   "cell_type": "code",
   "execution_count": null,
   "metadata": {},
   "outputs": [],
   "source": [
    "#3\n",
    "w2 = tf.Variable(tf.random_normal([node, 1]))\n",
    "b2 = tf.Variable(tf.random_normal([1]))\n",
    "hypothesis = tf.sigmoid(tf.matmul(layer1, w2) + b2)"
   ]
  },
  {
   "cell_type": "code",
   "execution_count": null,
   "metadata": {},
   "outputs": [],
   "source": [
    "#4\n",
    "cost = -tf.reduce_mean(y * tf.log(hypothesis) + (1 - y) * tf.log(1 - hypothesis))  \n",
    "\n",
    "train = tf.train.GradientDescentOptimizer(learning_rate=learning_rate).minimize(cost)\n",
    "\n",
    "#  hypothesis = [[ 0.7  0.2  ] ]  ->     [ 0.7 > 0.5    0.2 >  0.5]   ->  [ true  false]     ->   [  1 0 ]\n",
    "predicted = tf.cast(hypothesis > 0.5, dtype=tf.float32)\n",
    "\n",
    "# [[1 0 ]]   == [[ 1  1] ]   ->   [[ true   false ] ] ->  [] [ 1  0] ] ->   [ 0.5 ]\n",
    "accuracy = tf.reduce_mean(tf.cast(tf.equal(predicted, y), dtype=tf.float32))"
   ]
  },
  {
   "cell_type": "code",
   "execution_count": null,
   "metadata": {
    "ExecuteTime": {
     "end_time": "2018-12-24T04:44:58.994591Z",
     "start_time": "2018-12-24T04:44:54.005925Z"
    }
   },
   "outputs": [],
   "source": [
    "#5\n",
    "sess.run(tf.global_variables_initializer())\n",
    "\n",
    "for step in range(5001):\n",
    "        sess.run(train, feed_dict={x: x_data, y: y_data})\n",
    "        p, a, c =  sess.run([predicted, accuracy, cost], feed_dict={x: x_data, y: y_data})  \n",
    "        if a == 1.0 :\n",
    "            print(step+1, p.reshape(1,4), a, c) \n",
    "            break            \n",
    "        if step % 500 == 0  :\n",
    "            print(step+1, p.reshape(1,4), a, c) \n",
    "print(\"step\" , step)\n",
    "print(\"accuracy \", a)"
   ]
  },
  {
   "cell_type": "markdown",
   "metadata": {},
   "source": [
    "#  2. XOR 결정경계"
   ]
  },
  {
   "cell_type": "code",
   "execution_count": null,
   "metadata": {},
   "outputs": [],
   "source": [
    "#1\n",
    "node = 5            ##  5 or 10\n",
    "iteration = 500   ## 500, 1000, 3000, 6000\n",
    "\n",
    "learning_rate = 0.1\n",
    "\n",
    "x_data = [[0, 0],       [0, 1],            [1, 0],         [1, 1]]\n",
    "y_data = [[0],       [1],        [1],        [0]]\n",
    "\n",
    "x_data = np.array(x_data, dtype=np.float32)\n",
    "y_data = np.array(y_data, dtype=np.float32)\n",
    "\n",
    "x = tf.placeholder(tf.float32, [None, 2])\n",
    "y = tf.placeholder(tf.float32, [None, 1])\n",
    "\n",
    "w1 = tf.Variable(tf.random_normal([2, node]))\n",
    "b1 = tf.Variable(tf.random_normal([node]))\n",
    "layer1 = tf.sigmoid(tf.matmul(x, w1) + b1)\n",
    "\n",
    "w2 = tf.Variable(tf.random_normal([node, 1]))\n",
    "b2 = tf.Variable(tf.random_normal([1]))\n",
    "hypothesis = tf.sigmoid(tf.matmul(layer1, w2) + b2)\n",
    "\n",
    "\n",
    "cost = -tf.reduce_mean(y * tf.log(hypothesis) + (1 - y) * tf.log(1 - hypothesis))  \n",
    "\n",
    "train = tf.train.GradientDescentOptimizer(learning_rate=learning_rate).minimize(cost)\n",
    "\n",
    "predicted = tf.cast(hypothesis > 0.5, dtype=tf.float32)\n",
    "accuracy = tf.reduce_mean(tf.cast(tf.equal(predicted, y), dtype=tf.float32))\n",
    "\n",
    "\n",
    "sess.run(tf.global_variables_initializer())\n",
    "\n",
    "for step in range(iteration):\n",
    "        sess.run(train, feed_dict={x: x_data, y: y_data})\n",
    "        p, a, c =  sess.run([predicted, accuracy, cost], feed_dict={x: x_data, y: y_data})\n",
    "        if step % 500 == 0 :\n",
    "            print(step, p.reshape(1,4), a, c) \n",
    "            \n",
    "            \n",
    "xx, yy = np.mgrid[0:1:0.02, 0:1:0.02]\n",
    "grid = np.c_[xx.flatten(), yy.flatten()]\n",
    "h = sess.run(hypothesis, feed_dict={x: grid})\n",
    "colors = [\"red\"  if i>  0.5  else  \"blue\"  for i  in h  ]\n",
    "plt.scatter(xx.flatten(), yy.flatten(), color = colors, alpha=0.2)  \n",
    "plt.savefig('xor%d_%d.png' % (node, iteration))\n",
    "#print('xor%d_%d.png' % (node, iteration))"
   ]
  },
  {
   "cell_type": "code",
   "execution_count": null,
   "metadata": {},
   "outputs": [],
   "source": [
    "#2  ( 위에서 xorXX_YYY.png 화일을 생성해야 함) \n",
    "#  node_iteration 조합 \n",
    "#  (5,500), (5,1000), (5,3000), (5,6000)\n",
    "#  (10,500), (10,1000), (10,3000), (10,6000)= \n",
    "\n",
    "plt.figure(1, figsize=(20,5))        \n",
    "plt.subplot(2,4,1)\n",
    "img = mpimg.imread('xor10_500.png')\n",
    "plt.imshow(img)\n",
    "plt.subplot(2,4,2)\n",
    "img = mpimg.imread('xor10_1000.png')\n",
    "plt.imshow(img)\n",
    "plt.subplot(2,4,3)\n",
    "img = mpimg.imread('xor10_3000.png')\n",
    "plt.imshow(img)\n",
    "plt.subplot(2,4,4)\n",
    "img = mpimg.imread('xor10_6000.png')\n",
    "plt.imshow(img)\n",
    "plt.subplot(2,4,5)\n",
    "img = mpimg.imread('xor5_500.png')\n",
    "plt.imshow(img)\n",
    "plt.subplot(2,4,6)\n",
    "img = mpimg.imread('xor5_1000.png')\n",
    "plt.imshow(img)\n",
    "plt.subplot(2,4,7)\n",
    "img = mpimg.imread('xor5_3000.png')\n",
    "plt.imshow(img)\n",
    "plt.subplot(2,4,8)\n",
    "img = mpimg.imread('xor5_6000.png')\n",
    "plt.imshow(img)"
   ]
  },
  {
   "cell_type": "markdown",
   "metadata": {},
   "source": [
    "# 3. 은닉층 2개 "
   ]
  },
  {
   "cell_type": "code",
   "execution_count": null,
   "metadata": {},
   "outputs": [],
   "source": [
    "#1\n",
    "input = 2\n",
    "node_1 = 10\n",
    "w1 = tf.Variable(tf.random_normal([input, node_1]))\n",
    "b1 = tf.Variable(tf.random_normal([node_1]))\n",
    "layer1 = tf.sigmoid(tf.matmul(x, w1) + b1)\n",
    "\n",
    "node_2 = 10\n",
    "w2 = tf.Variable(tf.random_normal([node_1, node_2]))\n",
    "b2 = tf.Variable(tf.random_normal([node_2]))\n",
    "layer2 = tf.sigmoid(tf.matmul(layer1, w2) + b2)\n",
    "\n",
    "output = 1\n",
    "w_o = tf.Variable(tf.random_normal([node_2, output]))\n",
    "b_o = tf.Variable(tf.random_normal([output]))\n",
    "hypothesis = tf.sigmoid(tf.matmul(layer2, w_o) + b_o)"
   ]
  },
  {
   "cell_type": "code",
   "execution_count": null,
   "metadata": {},
   "outputs": [],
   "source": [
    "#2\n",
    "cost = -tf.reduce_mean(y * tf.log(hypothesis) + (1 - y) * tf.log(1 - hypothesis))  \n",
    "train = tf.train.GradientDescentOptimizer(learning_rate=learning_rate).minimize(cost)\n",
    "\n",
    "predicted = tf.cast(hypothesis > 0.5, dtype=tf.float32)\n",
    "accuracy = tf.reduce_mean(tf.cast(tf.equal(predicted, y), dtype=tf.float32))"
   ]
  },
  {
   "cell_type": "code",
   "execution_count": null,
   "metadata": {},
   "outputs": [],
   "source": [
    "#3\n",
    "sess.run(tf.global_variables_initializer())\n",
    "\n",
    "for step in range(3001):\n",
    "        sess.run(train, feed_dict={x: x_data, y: y_data})\n",
    "        p, a, c =  sess.run([predicted, accuracy, cost], feed_dict={x: x_data, y: y_data})\n",
    "        if step % 500 == 0 :\n",
    "            print(step+1, p.reshape(1,4), a, c) \n",
    "\n",
    "xx, yy = np.mgrid[0:1:0.02, 0:1:0.02]\n",
    "grid = np.c_[xx.flatten(), yy.flatten()]\n",
    "p = sess.run(hypothesis, feed_dict={x: grid})\n",
    "colors = [\"red\"  if i>  0.5  else  \"blue\"  for i  in p   ]\n",
    "plt.scatter(xx.flatten(), yy.flatten(), color = colors, alpha=0.2)\n",
    "            \n",
    "print(\"step\" , step)\n",
    "print(\"accuracy\", a)"
   ]
  },
  {
   "cell_type": "markdown",
   "metadata": {},
   "source": [
    "# 4. 은닉층 일반화"
   ]
  },
  {
   "cell_type": "code",
   "execution_count": null,
   "metadata": {},
   "outputs": [],
   "source": [
    "#1\n",
    "input = 2\n",
    "hidden_1 = 10\n",
    "w1 = tf.Variable(tf.random_normal([input, hidden_1]))\n",
    "b1 = tf.Variable(tf.random_normal([hidden_1]))\n",
    "layer1 = tf.sigmoid(tf.matmul(x, w1) + b1)\n",
    "\n",
    "hidden_2 = 10\n",
    "w2 = tf.Variable(tf.random_normal([hidden_1, hidden_2]))\n",
    "b2 = tf.Variable(tf.random_normal([hidden_2]))\n",
    "layer2 = tf.sigmoid(tf.matmul(layer1, w2) + b2)\n",
    "\n",
    "hidden_3 = 10\n",
    "w3 = tf.Variable(tf.random_normal([hidden_2, hidden_3]))\n",
    "b3 = tf.Variable(tf.random_normal([hidden_3]))\n",
    "layer3 = tf.sigmoid(tf.matmul(layer2, w3) + b3)\n",
    "\n",
    "output = 1\n",
    "w_o = tf.Variable(tf.random_normal([hidden_3, output]))\n",
    "b_o = tf.Variable(tf.random_normal([output]))\n",
    "hypothesis = tf.sigmoid(tf.matmul(layer3, w_o) + b_o)"
   ]
  },
  {
   "cell_type": "code",
   "execution_count": null,
   "metadata": {},
   "outputs": [],
   "source": [
    "#2\n",
    "cost = -tf.reduce_mean(y * tf.log(hypothesis) + (1 - y) * tf.log(1 - hypothesis))  \n",
    "\n",
    "train = tf.train.GradientDescentOptimizer(learning_rate=learning_rate).minimize(cost)\n",
    "\n",
    "predicted = tf.cast(hypothesis > 0.5, dtype=tf.float32)\n",
    "accuracy = tf.reduce_mean(tf.cast(tf.equal(predicted, y), dtype=tf.float32))"
   ]
  },
  {
   "cell_type": "code",
   "execution_count": null,
   "metadata": {},
   "outputs": [],
   "source": [
    "#3\n",
    "sess.run(tf.global_variables_initializer())\n",
    "\n",
    "for step in range(3001):\n",
    "        sess.run([train, cost], feed_dict={x: x_data, y: y_data})\n",
    "        p, a, c =  sess.run([predicted, accuracy, cost], feed_dict={x: x_data, y: y_data})\n",
    "        if step % 500 == 0 :\n",
    "            print(step, p.reshape(1,4), a, c) \n",
    "\n",
    "xx, yy = np.mgrid[0:1:0.02, 0:1:0.02]\n",
    "grid = np.c_[xx.ravel(), yy.ravel()]\n",
    "p = sess.run(hypothesis, feed_dict={x: grid})\n",
    "colors = [\"red\"  if i>  0.5  else  \"blue\"  for i  in p   ]\n",
    "plt.scatter(np.array([xx]).flatten(), np.array([yy]).flatten(), color = colors, alpha=0.2)"
   ]
  },
  {
   "cell_type": "code",
   "execution_count": null,
   "metadata": {},
   "outputs": [],
   "source": [
    "#4\n",
    "def addLayer(x, node) :    \n",
    "    input = x.shape.as_list()[1]\n",
    "    w = tf.Variable(tf.random_normal([input, node]))\n",
    "    b = tf.Variable(tf.random_normal([node]))\n",
    "    layer = tf.sigmoid(tf.matmul(x, w) + b)\n",
    "    return layer"
   ]
  },
  {
   "cell_type": "code",
   "execution_count": null,
   "metadata": {},
   "outputs": [],
   "source": [
    "#5\n",
    "layer_1 = addLayer(x, 5)\n",
    "layer_2 = addLayer(layer_1, 10)\n",
    "layer_3 = addLayer(layer_2, 10)\n",
    "layer_4 = addLayer(layer_3, 5)\n",
    "hypothesis = addLayer(layer_4, 1)"
   ]
  },
  {
   "cell_type": "code",
   "execution_count": null,
   "metadata": {},
   "outputs": [],
   "source": [
    "#6\n",
    "cost = -tf.reduce_mean(y * tf.log(hypothesis) + (1 - y) * tf.log(1 - hypothesis))  \n",
    "\n",
    "train = tf.train.GradientDescentOptimizer(learning_rate=learning_rate).minimize(cost)\n",
    "\n",
    "predicted = tf.cast(hypothesis > 0.5, dtype=tf.float32)\n",
    "accuracy = tf.reduce_mean(tf.cast(tf.equal(predicted, y), dtype=tf.float32))\n",
    "\n",
    "\n",
    "sess.run(tf.global_variables_initializer())\n",
    "\n",
    "for step in range(6001):\n",
    "        sess.run([train, cost], feed_dict={x: x_data, y: y_data})\n",
    "        p, a, c =  sess.run([predicted, accuracy, cost], feed_dict={x: x_data, y: y_data})\n",
    "        if step % 1000 == 0 :\n",
    "            print(step, p.reshape(1,4), a, c) "
   ]
  },
  {
   "cell_type": "markdown",
   "metadata": {},
   "source": [
    "# 5. 다층 신경망에서 선형 활성화 함수"
   ]
  },
  {
   "cell_type": "code",
   "execution_count": null,
   "metadata": {},
   "outputs": [],
   "source": [
    "#1\n",
    "hidden_1 =  5\n",
    "w1 = tf.Variable(tf.random_normal([2, hidden_1]))\n",
    "b1 = tf.Variable(tf.random_normal([hidden_1]))\n",
    "layer1 = tf.matmul(x, w1) + b1\n",
    "\n",
    "hidden_2 = 6\n",
    "w2 = tf.Variable(tf.random_normal([hidden_1, hidden_2]))\n",
    "b2 = tf.Variable(tf.random_normal([hidden_2]))\n",
    "layer2 = tf.matmul(layer1, w2) + b2\n",
    "\n",
    "output = 1\n",
    "w_o = tf.Variable(tf.random_normal([hidden_2, output]))\n",
    "b_o = tf.Variable(tf.random_normal([output]))\n",
    "hypothesis = tf.matmul(layer2, w_o) + b_o"
   ]
  },
  {
   "cell_type": "code",
   "execution_count": null,
   "metadata": {},
   "outputs": [],
   "source": [
    "#2\n",
    "cost = tf.reduce_mean(tf.square(hypothesis - y))\n",
    "\n",
    "train = tf.train.GradientDescentOptimizer(learning_rate=learning_rate).minimize(cost)"
   ]
  },
  {
   "cell_type": "code",
   "execution_count": null,
   "metadata": {},
   "outputs": [],
   "source": [
    "#3\n",
    "sess.run(tf.global_variables_initializer())\n",
    "\n",
    "for step in range(8):\n",
    "        sess.run(train, feed_dict={x: x_data, y: y_data})\n",
    "        h, c = sess.run([hypothesis, cost], feed_dict={x: x_data, y: y_data})        \n",
    "        print(h.reshape(1,4), c)     "
   ]
  },
  {
   "cell_type": "markdown",
   "metadata": {
    "ExecuteTime": {
     "end_time": "2018-12-08T03:47:20.160398Z",
     "start_time": "2018-12-08T03:47:20.156412Z"
    }
   },
   "source": [
    "#  6. 정규 분포 분류"
   ]
  },
  {
   "cell_type": "code",
   "execution_count": null,
   "metadata": {},
   "outputs": [],
   "source": [
    "samples = 1000\n",
    "x_data0 = np.random.normal(0, 1.5, size=[samples,2])\n",
    "x_data1 = np.random.normal(3, 1.5, size=[samples,2])\n",
    "x_data = np.vstack([x_data0, x_data1])\n",
    "y_data = np.hstack([np.zeros(samples), np.ones(samples)]).reshape(samples*2,1)  \n",
    "\n",
    "colors = [\"red\"  if i == 0  else  \"blue\"  for i  in y_data   ]\n",
    "plt.scatter(x_data[:,0], x_data[:,1], color=colors)"
   ]
  },
  {
   "cell_type": "code",
   "execution_count": null,
   "metadata": {},
   "outputs": [],
   "source": [
    "#2\n",
    "x = tf.placeholder(tf.float32, [None, 2])\n",
    "y = tf.placeholder(tf.float32, [None, 1])\n",
    "\n",
    "layer_1 = addLayer(x, 5)\n",
    "layer_2 = addLayer(layer_1, 5)\n",
    "hypothesis = addLayer(layer_2, 1)"
   ]
  },
  {
   "cell_type": "code",
   "execution_count": null,
   "metadata": {
    "ExecuteTime": {
     "end_time": "2018-12-24T05:30:35.551380Z",
     "start_time": "2018-12-24T05:30:30.896823Z"
    }
   },
   "outputs": [],
   "source": [
    "#3\n",
    "cost = -tf.reduce_mean(y * tf.log(hypothesis) + (1 - y) * tf.log(1 - hypothesis))  \n",
    "\n",
    "train = tf.train.GradientDescentOptimizer(learning_rate=learning_rate).minimize(cost)\n",
    "\n",
    "predicted = tf.cast(hypothesis > 0.5, dtype=tf.float32)\n",
    "accuracy = tf.reduce_mean(tf.cast(tf.equal(predicted, y), dtype=tf.float32))\n",
    "\n",
    "sess.run(tf.global_variables_initializer())\n",
    "\n",
    "for step in range(6001):\n",
    "        sess.run(train, feed_dict={x: x_data, y: y_data})\n",
    "        a, c =  sess.run([accuracy, cost], feed_dict={x: x_data, y: y_data})\n",
    "        if step % 1000 == 0 :\n",
    "            print(step+1, a, c) \n",
    "            \n",
    "colors = [\"red\"  if i == 0  else  \"blue\"  for i  in y_data   ]\n",
    "plt.scatter(x_data[:,0], x_data[:,1], color=colors)\n",
    "\n",
    "xx, yy = np.mgrid[-4:8:0.2, -4:8:0.2]\n",
    "grid = np.c_[xx.flatten(), yy.flatten()]\n",
    "\n",
    "h = sess.run(hypothesis, feed_dict={x: grid})\n",
    "colors = [\"red\"  if i<  0.5  else  \"blue\"  for i  in h  ]\n",
    "plt.scatter(xx.flatten(), yy.flatten(), color = colors, alpha=0.2)            "
   ]
  },
  {
   "cell_type": "markdown",
   "metadata": {},
   "source": [
    "# 7 비선형 분리 테스트"
   ]
  },
  {
   "cell_type": "code",
   "execution_count": null,
   "metadata": {},
   "outputs": [],
   "source": [
    "#1\n",
    "samples = 1000\n",
    "x_data = np.random.normal(0, 1, size=[samples,2])\n",
    "d = np.sqrt([x[0]**2+x[1]**2  for x in x_data ])\n",
    "y_data = np.array([0  if   i < 0.8   else   1 for i  in d   ]).reshape(samples, 1)\n",
    "colors = [\"red\"  if   i  == 0  else   \"blue\"  for i  in y_data   ]\n",
    "plt.subplot(121)\n",
    "plt.scatter(x_data[:,0], x_data[:,1], color=colors)"
   ]
  },
  {
   "cell_type": "code",
   "execution_count": null,
   "metadata": {
    "ExecuteTime": {
     "end_time": "2018-12-24T05:34:04.873879Z",
     "start_time": "2018-12-24T05:33:53.584087Z"
    }
   },
   "outputs": [],
   "source": [
    "#2\n",
    "x = tf.placeholder(tf.float32, [None, 2])\n",
    "y = tf.placeholder(tf.float32, [None, 1])\n",
    "\n",
    "# 단층 신경망\n",
    "hypothesis = addLayer(x, 1)\n",
    "\n",
    "# 은늑층 한개 \n",
    "#layer_1 = addLayer(x, 10)\n",
    "#hypothesis = addLayer(layer_1, 1)\n",
    "\n",
    "\n",
    "# 은늑층 두개\n",
    "#layer_1 = addLayer(x, 10)\n",
    "#layer_2 = addLayer(layer_1, 5)\n",
    "#hypothesis = addLayer(layer_2, 1)\n",
    "\n",
    "\n",
    "cost = -tf.reduce_mean(y * tf.log(hypothesis+1e-10) + (1 - y) * tf.log(1 - hypothesis+1e-10))  \n",
    "\n",
    "train = tf.train.GradientDescentOptimizer(learning_rate=learning_rate).minimize(cost)\n",
    "\n",
    "predicted = tf.cast(hypothesis > 0.5, dtype=tf.float32)\n",
    "accuracy = tf.reduce_mean(tf.cast(tf.equal(predicted, y), dtype=tf.float32))\n",
    "\n",
    "sess.run(tf.global_variables_initializer())\n",
    "\n",
    "for step in range(15001):\n",
    "        sess.run([train, cost], feed_dict={x: x_data, y: y_data})\n",
    "        p, a, c =  sess.run([predicted, accuracy, cost], feed_dict={x: x_data, y: y_data})\n",
    "        if step % 2000 == 0 :\n",
    "            print(step, a, c)           \n",
    "\n",
    "colors = [\"red\"  if   i  == 0  else   \"blue\"  for i  in y_data   ]\n",
    "plt.subplot(121)\n",
    "plt.scatter(x_data[:,0], x_data[:,1], color=colors)\n",
    "\n",
    "xx, yy = np.mgrid[-3.0:3:0.2, -3.0:3.0:0.2]\n",
    "grid = np.c_[xx.ravel(), yy.ravel()]\n",
    "\n",
    "p = sess.run(hypothesis, feed_dict={x: grid})\n",
    "colors = [\"red\"  if i<  0.5  else  \"blue\"  for i  in p   ]\n",
    "plt.subplot(122)\n",
    "plt.scatter(np.array([xx]).flatten(), np.array([yy]).flatten(), color = colors, alpha=0.2)"
   ]
  },
  {
   "cell_type": "code",
   "execution_count": null,
   "metadata": {
    "ExecuteTime": {
     "end_time": "2018-12-30T07:02:18.915365Z",
     "start_time": "2018-12-30T07:02:18.501978Z"
    }
   },
   "outputs": [],
   "source": [
    "#3 \n",
    "#from sklearn.datasets import make_moons\n",
    "#x_data, y_data = make_moons(n_samples=100, noise=0.1)   #  x 는 2차원   y는 레이블    0   1\n",
    "#np.save(\"moons_x.npy\", x_data)\n",
    "#np.save(\"moons_y.npy\", y_data)\n",
    "\n",
    "x_data = np.load('moons_x.npy')\n",
    "y_data = np.load('moons_y.npy')\n",
    "y_data = y_data.reshape(100,1)\n",
    "\n",
    "\n",
    "colors = [\"red\"  if i == 1  else   \"blue\"    for i  in y_data  ]\n",
    "\n",
    "plt.scatter(x_data[:,0], x_data[:,1], color = colors, alpha=1.0)  "
   ]
  },
  {
   "cell_type": "code",
   "execution_count": null,
   "metadata": {
    "ExecuteTime": {
     "end_time": "2018-12-30T07:02:28.834402Z",
     "start_time": "2018-12-30T07:02:28.285664Z"
    }
   },
   "outputs": [],
   "source": [
    "#4\n",
    "x = tf.placeholder(tf.float32, [None, 2])\n",
    "y = tf.placeholder(tf.float32, [None, 1])\n",
    "\n",
    "\n",
    "# 1개의 은닉층, node 3 \n",
    "layer_1 = addLayer(x, 3)\n",
    "hypothesis = addLayer(layer_1, 1)\n",
    "\n",
    "\n",
    "# 1개의 은닉층, node 10\n",
    "#layer_1 = addLayer(x, 10)\n",
    "#hypothesis = addLayer(layer_1, 1)\n",
    "\n",
    "\n",
    "\n",
    "# 3개의 은닉층 사용\n",
    "#layer_1 = addLayer(x, 10)\n",
    "#layer_2 = addLayer(layer_1, 10)\n",
    "#layer_3 = addLayer(layer_2, 10)\n",
    "#hypothesis = addLayer(layer_3, 1)\n",
    "\n",
    "\n",
    "\n",
    "cost = -tf.reduce_mean(y * tf.log(hypothesis) + (1 - y) * tf.log(1 - hypothesis))  \n",
    "\n",
    "train = tf.train.GradientDescentOptimizer(learning_rate=learning_rate).minimize(cost)\n",
    "\n",
    "predicted = tf.cast(hypothesis > 0.5, dtype=tf.float32)\n",
    "accuracy = tf.reduce_mean(tf.cast(tf.equal(predicted, y), dtype=tf.float32))\n",
    "\n",
    "\n",
    "sess = tf.Session()\n",
    "sess.run(tf.global_variables_initializer())\n",
    "\n",
    "for step in range(10001):\n",
    "        sess.run(train, feed_dict={x: x_data, y: y_data})\n",
    "        a, c =  sess.run([accuracy, cost], feed_dict={x: x_data, y: y_data})\n",
    "        if step % 1000 == 0 :\n",
    "            print(step, a, c) \n",
    "            \n",
    "            \n",
    "colors = [\"red\"  if i == 1  else   \"blue\"    for i  in y_data  ]\n",
    "\n",
    "plt.scatter(x_data[:,0], x_data[:,1], color = colors, alpha=1.0)  \n",
    "\n",
    "\n",
    "xx, yy = np.mgrid[-1.5:2.5:0.1, -1:1.5:0.1]\n",
    "grid = np.c_[xx.ravel(), yy.ravel()]\n",
    "p = sess.run(hypothesis, feed_dict={x: grid})\n",
    "colors = [\"red\"  if i>  0.5  else  \"blue\"  for i  in p   ]\n",
    "plt.scatter(np.array([xx]).flatten(), np.array([yy]).flatten(), color = colors, alpha=0.2)"
   ]
  },
  {
   "cell_type": "markdown",
   "metadata": {},
   "source": [
    "# 8. 유방암 검출"
   ]
  },
  {
   "cell_type": "code",
   "execution_count": null,
   "metadata": {
    "ExecuteTime": {
     "end_time": "2018-12-24T05:50:36.838905Z",
     "start_time": "2018-12-24T05:50:36.817919Z"
    }
   },
   "outputs": [],
   "source": [
    "#1\n",
    "my_data = pd.read_csv(\"wdbc.csv\", delimiter=',')\n",
    "\n",
    "\n",
    "\n",
    "df = my_data[['diagnosis_numeric', 'radius', 'texture','perimeter', 'area', 'smoothness']]\n",
    "\n",
    "df.head(5)"
   ]
  },
  {
   "cell_type": "code",
   "execution_count": null,
   "metadata": {
    "ExecuteTime": {
     "end_time": "2018-12-24T05:57:52.180229Z",
     "start_time": "2018-12-24T05:57:52.171251Z"
    }
   },
   "outputs": [],
   "source": [
    "#2\n",
    "data = df.values\n",
    "print(data.shape)     #  569 x 6\n",
    "x_data = data[:, 1:6]\n",
    "y_data = data[:,0].reshape(569,1)\n",
    "\n",
    "x_data = x_data / x_data.max(axis=0)"
   ]
  },
  {
   "cell_type": "code",
   "execution_count": null,
   "metadata": {},
   "outputs": [],
   "source": [
    "#3\n",
    "x = tf.placeholder(tf.float32, [None, 5])\n",
    "y = tf.placeholder(tf.float32, [None, 1])\n",
    "\n",
    "\n",
    "layer_1 = addLayer(x, 10)\n",
    "layer_2 = addLayer(layer_1, 20)\n",
    "layer_3 = addLayer(layer_2, 10)\n",
    "hypothesis = addLayer(layer_3, 1)"
   ]
  },
  {
   "cell_type": "code",
   "execution_count": null,
   "metadata": {
    "ExecuteTime": {
     "end_time": "2018-12-24T06:02:17.815735Z",
     "start_time": "2018-12-24T06:01:45.641763Z"
    }
   },
   "outputs": [],
   "source": [
    "#4\n",
    "cost = -tf.reduce_mean(y * tf.log(hypothesis) + (1 - y) * tf.log(1 - hypothesis))  \n",
    "\n",
    "train = tf.train.GradientDescentOptimizer(learning_rate=learning_rate).minimize(cost)\n",
    "\n",
    "predicted = tf.cast(hypothesis > 0.5, dtype=tf.float32)\n",
    "accuracy = tf.reduce_mean(tf.cast(tf.equal(predicted, y), dtype=tf.float32))\n",
    "\n",
    "sess.run(tf.global_variables_initializer())\n",
    "\n",
    "for step in range(10001):\n",
    "        sess.run(train, feed_dict={x: x_data, y: y_data})\n",
    "        a, c =  sess.run([accuracy, cost], feed_dict={x: x_data, y: y_data})\n",
    "        if step % 1000 == 0 :\n",
    "            print(step, a, c)        "
   ]
  }
 ],
 "metadata": {
  "kernelspec": {
   "display_name": "Python 3",
   "language": "python",
   "name": "python3"
  },
  "language_info": {
   "codemirror_mode": {
    "name": "ipython",
    "version": 3
   },
   "file_extension": ".py",
   "mimetype": "text/x-python",
   "name": "python",
   "nbconvert_exporter": "python",
   "pygments_lexer": "ipython3",
   "version": "3.7.3"
  },
  "varInspector": {
   "cols": {
    "lenName": 16,
    "lenType": 16,
    "lenVar": 40
   },
   "kernels_config": {
    "python": {
     "delete_cmd_postfix": "",
     "delete_cmd_prefix": "del ",
     "library": "var_list.py",
     "varRefreshCmd": "print(var_dic_list())"
    },
    "r": {
     "delete_cmd_postfix": ") ",
     "delete_cmd_prefix": "rm(",
     "library": "var_list.r",
     "varRefreshCmd": "cat(var_dic_list()) "
    }
   },
   "types_to_exclude": [
    "module",
    "function",
    "builtin_function_or_method",
    "instance",
    "_Feature"
   ],
   "window_display": false
  }
 },
 "nbformat": 4,
 "nbformat_minor": 2
}
