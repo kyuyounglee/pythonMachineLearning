{
 "cells": [
  {
   "cell_type": "code",
   "execution_count": null,
   "metadata": {
    "ExecuteTime": {
     "end_time": "2018-12-29T07:49:53.947376Z",
     "start_time": "2018-12-29T07:49:53.935407Z"
    }
   },
   "outputs": [],
   "source": [
    "import tensorflow as tf\n",
    "import numpy as np\n",
    "import matplotlib.pyplot as plt\n",
    "import pandas as pd\n",
    "\n",
    "print(\"tf ver = \", tf.__version__)\n",
    "\n",
    "%matplotlib inline\n",
    "\n",
    "sess = tf.Session()"
   ]
  },
  {
   "cell_type": "markdown",
   "metadata": {},
   "source": [
    "# 1. wx 와 xw"
   ]
  },
  {
   "cell_type": "code",
   "execution_count": null,
   "metadata": {
    "ExecuteTime": {
     "end_time": "2018-12-26T13:52:34.934994Z",
     "start_time": "2018-12-26T13:52:34.822816Z"
    }
   },
   "outputs": [],
   "source": [
    "#1\n",
    "x = tf.constant([2.0])\n",
    "w = tf.constant([3.0])\n",
    "\n",
    "y = x * w\n",
    "print(sess.run(y))\n",
    "y = w * x\n",
    "print(sess.run(y))\n",
    "\n",
    "\n"
   ]
  },
  {
   "cell_type": "code",
   "execution_count": null,
   "metadata": {},
   "outputs": [],
   "source": [
    "#2\n",
    "x = tf.constant([2.0, 3.0, 4.0])\n",
    "w = tf.constant([3.0])\n",
    "\n",
    "y = x * w\n",
    "print(sess.run(y))\n",
    "y = w * x\n",
    "print(sess.run(y))"
   ]
  },
  {
   "cell_type": "code",
   "execution_count": null,
   "metadata": {
    "ExecuteTime": {
     "end_time": "2018-12-26T14:01:35.817361Z",
     "start_time": "2018-12-26T14:01:35.559504Z"
    }
   },
   "outputs": [],
   "source": [
    "#3\n",
    "x = tf.constant([1.0, 2.0])\n",
    "w = tf.constant([3.0, 4.0])\n",
    "y = x * w\n",
    "print(sess.run(y))\n",
    "y = w * x\n",
    "print(sess.run(y))"
   ]
  },
  {
   "cell_type": "code",
   "execution_count": null,
   "metadata": {
    "ExecuteTime": {
     "end_time": "2018-12-26T14:10:30.086643Z",
     "start_time": "2018-12-26T14:10:30.014836Z"
    }
   },
   "outputs": [],
   "source": [
    "#4\n",
    "x = tf.constant([[1.0, 2.0]])                   \n",
    "w = tf.constant([[3.0], [4.0]])\n",
    "\n",
    "y = tf.matmul(x, w)\n",
    "print(sess.run(y))"
   ]
  },
  {
   "cell_type": "code",
   "execution_count": null,
   "metadata": {
    "ExecuteTime": {
     "end_time": "2018-12-26T14:10:01.944035Z",
     "start_time": "2018-12-26T14:10:01.877850Z"
    }
   },
   "outputs": [],
   "source": [
    "#5\n",
    "x = tf.constant([  \n",
    "          [1.0, 2.0],\n",
    "          [3.0, 4.0],\n",
    "          [5.0, 6.0]])                           \n",
    "w = tf.constant([[3.0], [4.0]])\n",
    "\n",
    "y = tf.matmul(x, w)\n",
    "print(sess.run(y))"
   ]
  },
  {
   "cell_type": "markdown",
   "metadata": {},
   "source": [
    "# 2. 멀티 클래스 표현"
   ]
  },
  {
   "cell_type": "code",
   "execution_count": null,
   "metadata": {
    "ExecuteTime": {
     "end_time": "2018-12-26T14:18:56.861084Z",
     "start_time": "2018-12-26T14:18:56.808199Z"
    }
   },
   "outputs": [],
   "source": [
    "#1\n",
    "x_data = [[1, 2],\n",
    "          [2, 1],\n",
    "          [3, 1],\n",
    "          [4, 1]]\n",
    "\n",
    "x = tf.placeholder(\"float\", [None, 2])  \n",
    "\n",
    "\n",
    "w1 = tf.Variable([[1.0],[2]])\n",
    "b1 = tf.Variable([0.1])\n",
    "h1 = tf.matmul(x, w1) + b1\n",
    "\n",
    "w2 = tf.Variable([[3.0],[4]])\n",
    "b2 = tf.Variable([0.2])\n",
    "h2 = tf.matmul(x, w2) + b2\n",
    "\n",
    "w3 = tf.Variable([[5.0],[6]])\n",
    "b3 = tf.Variable([0.3])\n",
    "h3 = tf.matmul(x, w3) + b3\n",
    "\n",
    "sess.run(tf.global_variables_initializer())\n",
    "\n",
    "print(sess.run(h1, feed_dict={x:x_data}))\n",
    "print(sess.run(h2, feed_dict={x:x_data}))\n",
    "print(sess.run(h3, feed_dict={x:x_data}))"
   ]
  },
  {
   "cell_type": "code",
   "execution_count": null,
   "metadata": {
    "ExecuteTime": {
     "end_time": "2018-12-26T13:11:44.871880Z",
     "start_time": "2018-12-26T13:11:44.441445Z"
    }
   },
   "outputs": [],
   "source": [
    "#2\n",
    "w = tf.Variable([[1.0,3,5,], [2,4,6]])\n",
    "b = tf.Variable([0.1, 0.2, 0.3])\n",
    "\n",
    "h4 = tf.matmul(x, w) + b\n",
    "\n",
    "sess.run(tf.global_variables_initializer())\n",
    "\n",
    "h_ = sess.run(h4, feed_dict={x: x_data})\n",
    "\n",
    "print(h_) "
   ]
  },
  {
   "cell_type": "code",
   "execution_count": null,
   "metadata": {
    "ExecuteTime": {
     "end_time": "2018-12-26T12:20:13.027199Z",
     "start_time": "2018-12-26T12:20:12.948510Z"
    }
   },
   "outputs": [],
   "source": [
    "#3\n",
    "\n",
    "y = [2, 1, 0,0]\n",
    "\n",
    "y_data = [[0, 0, 1],\n",
    "          [0, 1, 0],\n",
    "          [1, 0, 0],\n",
    "          [1, 0, 0]]"
   ]
  },
  {
   "cell_type": "code",
   "execution_count": null,
   "metadata": {},
   "outputs": [],
   "source": [
    "#4\n",
    "def one_hot(y, nclass) :\n",
    "    r = y.shape[0]\n",
    "    mat = np.zeros([r, nclass])\n",
    "    for i in range(r) :\n",
    "        mat[i, y[i]] = 1        \n",
    "    return mat"
   ]
  },
  {
   "cell_type": "code",
   "execution_count": null,
   "metadata": {},
   "outputs": [],
   "source": [
    "#5\n",
    "def one_hot_2_label(y, nclass) :        \n",
    "    return np.argmax(y, axis=1)"
   ]
  },
  {
   "cell_type": "code",
   "execution_count": null,
   "metadata": {},
   "outputs": [],
   "source": [
    "#6\n",
    "y = np.array([0,0,2,1,2,1])\n",
    "y_data =one_hot(y, 3)\n",
    "print(y_data)\n",
    "\n",
    "l = one_hot_2_label(y_data, 3)\n",
    "print(l)"
   ]
  },
  {
   "cell_type": "code",
   "execution_count": null,
   "metadata": {},
   "outputs": [],
   "source": [
    "#7\n",
    "y_data = sess.run( tf.one_hot([0,0,2,1,2,1], 3))\n",
    "print(y_data)\n",
    "l = sess.run(tf.argmax(y_data, axis=1))\n",
    "print(l)"
   ]
  },
  {
   "cell_type": "markdown",
   "metadata": {},
   "source": [
    "# 3. soft max 정규화"
   ]
  },
  {
   "cell_type": "code",
   "execution_count": null,
   "metadata": {},
   "outputs": [],
   "source": [
    "#1\n",
    "x = np.array([0.4, 0.8, 1.6, 3.2])\n",
    "n = x / np.sum(x)\n",
    "print(n)\n",
    "\n",
    "n2= sess.run(tf.nn.softmax(x))\n",
    "print(n2)"
   ]
  },
  {
   "cell_type": "code",
   "execution_count": null,
   "metadata": {
    "ExecuteTime": {
     "end_time": "2018-12-26T11:15:22.801746Z",
     "start_time": "2018-12-26T11:15:22.529475Z"
    }
   },
   "outputs": [],
   "source": [
    "#2\n",
    "plt.subplot(121)\n",
    "plt.pie(n, autopct='%1.1f%%')\n",
    "plt.title('x')\n",
    "\n",
    "plt.subplot(122)\n",
    "plt.pie(n2,autopct='%1.1f%%')\n",
    "plt.title('softmax(x)')"
   ]
  },
  {
   "cell_type": "markdown",
   "metadata": {},
   "source": [
    "# 4. 크로스 엔트로피"
   ]
  },
  {
   "cell_type": "code",
   "execution_count": null,
   "metadata": {},
   "outputs": [],
   "source": [
    "#1\n",
    "p = [0.1,   0.3 ,  0.6]\n",
    "y = [1.0, 0, 0 ]\n",
    "entropy = y *tf.log(p)\n",
    "entropy_sum = -tf.reduce_sum(entropy)\n",
    "print(sess.run(entropy))\n",
    "print(sess.run(entropy_sum))"
   ]
  },
  {
   "cell_type": "code",
   "execution_count": null,
   "metadata": {},
   "outputs": [],
   "source": [
    "#2\n",
    "\n",
    "p = [0.1,   0.3 ,  0.6]\n",
    "y = [0, 0, 1.0 ]\n",
    "entropy = y *tf.log(p)\n",
    "entropy_sum = -tf.reduce_sum(entropy)\n",
    "print(sess.run(entropy))\n",
    "print(sess.run(entropy_sum))"
   ]
  },
  {
   "cell_type": "code",
   "execution_count": null,
   "metadata": {},
   "outputs": [],
   "source": [
    "#3\n",
    "p = [0.08,   0.02 ,  0.9]\n",
    "y = [0, 0, 1.0 ]\n",
    "entropy = y *tf.log(p)\n",
    "entropy_sum = -tf.reduce_sum(entropy)\n",
    "print(sess.run(entropy))\n",
    "print(sess.run(entropy_sum))"
   ]
  },
  {
   "cell_type": "code",
   "execution_count": null,
   "metadata": {},
   "outputs": [],
   "source": [
    "#4\n",
    "nb_classes = 2\n",
    "\n",
    "x_data = [[1],\n",
    "          [2],\n",
    "          [7],\n",
    "          [8],\n",
    "          ]\n",
    "y_data = [\n",
    "          [0, 1],\n",
    "          [0, 1],\n",
    "          [1, 0],\n",
    "          [1, 0]]           \n",
    "\n",
    "          \n",
    "x = tf.placeholder(tf.float32, [None, 1])\n",
    "y = tf.placeholder(tf.float32, [None, nb_classes])\n",
    "w = tf.Variable([[-1.0, 1.0]],)\n",
    "\n",
    "\n",
    "hypothesis = tf.nn.softmax(tf.matmul(x, w) )\n",
    "cost = tf.reduce_mean(-tf.reduce_sum(y * tf.log(hypothesis), axis=1))"
   ]
  },
  {
   "cell_type": "code",
   "execution_count": null,
   "metadata": {
    "ExecuteTime": {
     "end_time": "2018-12-26T15:25:22.467625Z",
     "start_time": "2018-12-26T15:25:22.370906Z"
    }
   },
   "outputs": [],
   "source": [
    "sess.run(tf.global_variables_initializer())\n",
    "\n",
    "print(sess.run(cost , feed_dict={x: x_data, y: y_data}))"
   ]
  },
  {
   "cell_type": "markdown",
   "metadata": {},
   "source": [
    "# 5. SoftMax를 이용한 3-class 분류"
   ]
  },
  {
   "cell_type": "code",
   "execution_count": null,
   "metadata": {
    "ExecuteTime": {
     "end_time": "2018-12-29T07:04:47.769102Z",
     "start_time": "2018-12-29T07:04:47.643412Z"
    }
   },
   "outputs": [],
   "source": [
    "#1\n",
    "nb_classes = 3\n",
    "dim = 2\n",
    "\n",
    "x_data = np.array([\n",
    "          [1, 2],\n",
    "          [1.0, 3],\n",
    "          [1.2, 2.8],\n",
    "          [2.7, 3.2],\n",
    "          [3.2, 2.8],\n",
    "          [3.1, 3.2],\n",
    "          [0.9, 0.2],\n",
    "          [1.2, 1.1],\n",
    "          [2.1, 0.8]])\n",
    "\n",
    "y_data = np.array([0,0,0,1,1,1,2,2,2])\n",
    "\n",
    "colors = [\"red\"  if i == 0  else  (   \"green\"  if i == 1 else \"blue\")   for i  in y_data   ]\n",
    "plt.scatter(x_data[:,0], x_data[:,1], color=colors)"
   ]
  },
  {
   "cell_type": "code",
   "execution_count": null,
   "metadata": {
    "ExecuteTime": {
     "end_time": "2018-12-29T07:16:02.402468Z",
     "start_time": "2018-12-29T07:16:02.393503Z"
    }
   },
   "outputs": [],
   "source": [
    "#2\n",
    "def one_hot(y, nclass) :\n",
    "    r = y.shape[0]\n",
    "    mat = np.zeros([r, nclass])\n",
    "    for i in range(r) :\n",
    "        mat[i, y[i]] = 1        \n",
    "    return mat\n",
    "\n",
    "y_data_one_hot = one_hot(np.array(y_data) , nb_classes)\n",
    "print(y_data_one_hot)"
   ]
  },
  {
   "cell_type": "code",
   "execution_count": null,
   "metadata": {},
   "outputs": [],
   "source": [
    "#3\n",
    "x = tf.placeholder(\"float\", [None, dim])\n",
    "y = tf.placeholder(\"float\", [None, nb_classes])\n",
    "\n",
    "\n",
    "w = tf.Variable(tf.random_normal([dim, nb_classes]))\n",
    "b = tf.Variable(tf.random_normal([nb_classes]))\n",
    "\n",
    "hypothesis = tf.nn.softmax(tf.matmul(x, w) + b)\n",
    "\n",
    "\n",
    "cost = tf.reduce_mean(-tf.reduce_sum(y * tf.log(hypothesis), axis=1))\n",
    "\n",
    "update = tf.train.GradientDescentOptimizer(learning_rate=0.1).minimize(cost)"
   ]
  },
  {
   "cell_type": "code",
   "execution_count": null,
   "metadata": {
    "ExecuteTime": {
     "end_time": "2018-12-29T07:43:01.482737Z",
     "start_time": "2018-12-29T07:42:58.487720Z"
    }
   },
   "outputs": [],
   "source": [
    "#4\n",
    "sess.run(tf.global_variables_initializer())\n",
    "\n",
    "for step in range(7001):\n",
    "    sess.run(update, feed_dict={x: x_data, y: y_data_one_hot})\n",
    "    if step % 1000 == 0:\n",
    "           c= sess.run(cost, feed_dict={x: x_data, y: y_data_one_hot})\n",
    "           print(step, c)"
   ]
  },
  {
   "cell_type": "code",
   "execution_count": null,
   "metadata": {
    "ExecuteTime": {
     "end_time": "2018-12-29T07:43:07.089727Z",
     "start_time": "2018-12-29T07:43:07.047822Z"
    }
   },
   "outputs": [],
   "source": [
    "#5\n",
    "\n",
    "\"\"\"  \n",
    "  softmax(hypothesis) ->   [ 0.1  0.1   0.8]   -> argmax ->  [ 2 1]   \n",
    "                           [ 0,1  0.6   0.3]                            \n",
    "  y =  [ 0 0 1]     argmax ->   [ 2 0]\n",
    "       [ 1 0 0]  \n",
    "  equal(  [2 1] ,   [2  0] )    ->  [true, false]   ->  cast ->   [1.0  0.0]   -> mean   -> 0.5    \n",
    "\"\"\" \n",
    "\n",
    "predicted = tf.argmax(hypothesis, 1)\n",
    "compared = tf.equal(predicted , tf.argmax(y, 1))\n",
    "accuracy = tf.reduce_mean(tf.cast(compared, tf.float32))\n",
    "\n",
    "p, a = sess.run([predicted, accuracy],  feed_dict={x: x_data, y:y_data_one_hot})\n",
    "print(p)\n",
    "print(a)"
   ]
  },
  {
   "cell_type": "code",
   "execution_count": null,
   "metadata": {},
   "outputs": [],
   "source": [
    "#6\n",
    "colors = [\"red\"  if i == 0  else  (   \"green\"  if i == 1 else \"blue\")   for i  in y_data   ]\n",
    "plt.scatter(x_data[:,0], x_data[:,1], color=colors)\n",
    "\n",
    "\n",
    "xx, yy = np.mgrid[0:3.5:0.1, 0:3.5:0.1]\n",
    "print(xx.shape)\n",
    "grid = np.c_[xx.flatten(), yy.flatten()]\n",
    "\n",
    "p = sess.run(predicted, feed_dict={x: grid})\n",
    "colors = [\"red\"  if i == 0  else  (   \"green\"  if i == 1 else \"blue\")      for i  in p   ]\n",
    "plt.scatter(xx.flatten(), yy.flatten(), color = colors, alpha=0.2)"
   ]
  },
  {
   "cell_type": "code",
   "execution_count": null,
   "metadata": {
    "ExecuteTime": {
     "end_time": "2018-12-29T07:31:16.747774Z",
     "start_time": "2018-12-29T07:31:15.841167Z"
    },
    "scrolled": true
   },
   "outputs": [],
   "source": [
    "#7\n",
    "labels = [\"class-1\", \"class-2\", \"class-3\"]\n",
    "\n",
    "plt.figure(1, figsize=(16,8))\n",
    "for i in range(9) :\n",
    "    plt.subplot(3, 3, i+1)\n",
    "    plt.bar(labels, h[i])"
   ]
  },
  {
   "cell_type": "code",
   "execution_count": null,
   "metadata": {},
   "outputs": [],
   "source": []
  },
  {
   "cell_type": "markdown",
   "metadata": {},
   "source": [
    "# 6. 붓꽃 분류"
   ]
  },
  {
   "cell_type": "code",
   "execution_count": null,
   "metadata": {
    "ExecuteTime": {
     "end_time": "2018-12-29T08:35:42.958211Z",
     "start_time": "2018-12-29T08:35:42.941289Z"
    }
   },
   "outputs": [],
   "source": [
    "#1\n",
    "df = pd.read_csv('iris.csv')\n",
    "df.head(4)"
   ]
  },
  {
   "cell_type": "code",
   "execution_count": null,
   "metadata": {},
   "outputs": [],
   "source": [
    "#2\n",
    "data = np.loadtxt(\"iris.csv\", delimiter=\",\", dtype=np.float32)\n",
    "\n",
    "dim = 4\n",
    "nb_classes = 3\n",
    "x_data = data[:, 0:dim]\n",
    "y_data = data[:,dim] -1   \n",
    "\n",
    "x = tf.placeholder(\"float\", [None, dim])\n",
    "y = tf.one_hot(y_data, nb_classes)\n",
    "\n",
    "w = tf.Variable(tf.random_normal([dim, nb_classes]))\n",
    "b = tf.Variable(tf.random_normal([nb_classes]))\n",
    "\n",
    "hypothesis = tf.nn.softmax(tf.matmul(x, w) + b)\n",
    "\n",
    "\n",
    "cost = tf.reduce_mean(-tf.reduce_sum(y * tf.log(hypothesis), axis=1))\n",
    "update = tf.train.GradientDescentOptimizer(learning_rate=0.1).minimize(cost)"
   ]
  },
  {
   "cell_type": "code",
   "execution_count": null,
   "metadata": {
    "ExecuteTime": {
     "end_time": "2018-12-29T08:35:46.621410Z",
     "start_time": "2018-12-29T08:35:44.868126Z"
    }
   },
   "outputs": [],
   "source": [
    "#3\n",
    "sess.run(tf.global_variables_initializer())\n",
    "\n",
    "for step in range(5001):\n",
    "    sess.run(update, feed_dict={x: x_data})\n",
    "    if step % 500 == 0:\n",
    "           print(step, sess.run(cost, feed_dict={x: x_data}))               "
   ]
  },
  {
   "cell_type": "code",
   "execution_count": null,
   "metadata": {
    "ExecuteTime": {
     "end_time": "2018-12-29T08:39:00.301370Z",
     "start_time": "2018-12-29T08:39:00.252522Z"
    }
   },
   "outputs": [],
   "source": [
    "#4\n",
    "predicted = tf.argmax(hypothesis, 1)\n",
    "compared = tf.equal(predicted , tf.argmax(y, 1))\n",
    "accuracy = tf.reduce_mean(tf.cast(compared, tf.float32))\n",
    "\n",
    "print(\"인식률\",   sess.run(accuracy,  feed_dict={x: x_data}) )"
   ]
  },
  {
   "cell_type": "code",
   "execution_count": null,
   "metadata": {
    "ExecuteTime": {
     "end_time": "2018-12-29T08:39:03.538735Z",
     "start_time": "2018-12-29T08:39:03.203629Z"
    },
    "scrolled": true
   },
   "outputs": [],
   "source": [
    "#5\n",
    "h = sess.run(hypothesis, feed_dict={x: x_data})\n",
    "plt.figure(1, figsize=(20,40))\n",
    "print(h.shape)\n",
    "plt.imshow(h.T, cmap='gray')"
   ]
  },
  {
   "cell_type": "code",
   "execution_count": null,
   "metadata": {},
   "outputs": [],
   "source": [
    "#6\n",
    "data = np.loadtxt(\"iris.csv\", delimiter=\",\", dtype=np.float32)\n",
    "\n",
    "dim = 3\n",
    "nb_classes = 3\n",
    "x_data = data[:, 0:dim]\n",
    "y_data = data[:,dim] -1   \n",
    "\n",
    "x = tf.placeholder(\"float\", [None, dim])\n",
    "y = tf.one_hot(y_data, nb_classes)\n",
    "\n",
    "w = tf.Variable(tf.random_normal([dim, nb_classes]))\n",
    "b = tf.Variable(tf.random_normal([nb_classes]))\n",
    "\n",
    "hypothesis = tf.nn.softmax(tf.matmul(x, w) + b)\n",
    "\n",
    "\n",
    "cost = tf.reduce_mean(-tf.reduce_sum(y * tf.log(hypothesis), axis=1))\n",
    "update = tf.train.GradientDescentOptimizer(learning_rate=0.1).minimize(cost)"
   ]
  },
  {
   "cell_type": "code",
   "execution_count": null,
   "metadata": {},
   "outputs": [],
   "source": [
    "#7\n",
    "sess.run(tf.global_variables_initializer())\n",
    "\n",
    "for step in range(5001):\n",
    "    sess.run(update, feed_dict={x: x_data})\n",
    "    if step % 500 == 0:\n",
    "           print(step, sess.run(cost, feed_dict={x: x_data}))     \n",
    "            \n",
    "            \n",
    "predicted = tf.argmax(hypothesis, 1)\n",
    "compared = tf.equal(predicted , tf.argmax(y, 1))\n",
    "accuracy = tf.reduce_mean(tf.cast(compared, tf.float32))\n",
    "\n",
    "print(\"인식률\",   sess.run(accuracy,  feed_dict={x: x_data}) )\n",
    "\n",
    "h = sess.run(hypothesis, feed_dict={x: x_data})\n",
    "plt.figure(1, figsize=(20,40))\n",
    "plt.imshow(h.T, cmap='gray')"
   ]
  },
  {
   "cell_type": "markdown",
   "metadata": {},
   "source": [
    "# 7. 와인셋분류"
   ]
  },
  {
   "cell_type": "code",
   "execution_count": null,
   "metadata": {
    "ExecuteTime": {
     "end_time": "2018-12-29T08:44:49.237970Z",
     "start_time": "2018-12-29T08:44:49.212063Z"
    }
   },
   "outputs": [],
   "source": [
    "#1\n",
    "# https://gist.github.com/tijptjik/9408623\n",
    "df = pd.read_csv('wine.csv')\n",
    "df.head(4)"
   ]
  },
  {
   "cell_type": "code",
   "execution_count": null,
   "metadata": {
    "ExecuteTime": {
     "end_time": "2018-12-29T08:48:49.859313Z",
     "start_time": "2018-12-29T08:48:49.851331Z"
    }
   },
   "outputs": [],
   "source": [
    "#2\n",
    "data = np.loadtxt(\"wine.csv\", delimiter=\",\", dtype=np.float32)\n",
    "print(data.shape) \n",
    "\n",
    "dim = 13   \n",
    "x_data = data[:, 1:]\n",
    "y_data = data[:,0] -1   \n",
    "x_data = x_data / np.max(x_data, axis=0)"
   ]
  },
  {
   "cell_type": "code",
   "execution_count": null,
   "metadata": {},
   "outputs": [],
   "source": [
    "#3\n",
    "x = tf.placeholder(\"float\", [None, dim])\n",
    "y = tf.one_hot(y_data, 3)\n",
    "\n",
    "w = tf.Variable(tf.random_normal([dim, 3]))\n",
    "b = tf.Variable(tf.random_normal([3]))\n",
    "\n",
    "hypothesis = tf.nn.softmax(tf.matmul(x, w) + b)\n",
    "\n",
    "\n",
    "cost = tf.reduce_mean(-tf.reduce_sum(y * tf.log(hypothesis), axis=1))\n",
    "update = tf.train.GradientDescentOptimizer(learning_rate=0.1).minimize(cost)"
   ]
  },
  {
   "cell_type": "code",
   "execution_count": null,
   "metadata": {
    "ExecuteTime": {
     "end_time": "2018-12-29T08:52:08.707413Z",
     "start_time": "2018-12-29T08:52:06.850380Z"
    }
   },
   "outputs": [],
   "source": [
    "#4\n",
    "sess.run(tf.global_variables_initializer())\n",
    "\n",
    "for step in range(5001):\n",
    "    sess.run(update, feed_dict={x: x_data})\n",
    "    if step % 500 == 0:\n",
    "           print(step, sess.run(cost, feed_dict={x: x_data}))      \n",
    "            \n",
    "predicted = tf.argmax(hypothesis, 1)\n",
    "compared = tf.equal(predicted , tf.argmax(y, 1))\n",
    "accuracy = tf.reduce_mean(tf.cast(compared, tf.float32))\n",
    "\n",
    "print(\"인식률\",   sess.run(accuracy,  feed_dict={x: x_data}) )"
   ]
  },
  {
   "cell_type": "code",
   "execution_count": null,
   "metadata": {
    "ExecuteTime": {
     "end_time": "2018-12-29T08:55:21.345239Z",
     "start_time": "2018-12-29T08:55:20.924338Z"
    },
    "scrolled": true
   },
   "outputs": [],
   "source": [
    "#5\n",
    "h = sess.run(hypothesis, feed_dict={x: x_data})\n",
    "\n",
    "plt.figure(1, figsize=(16,8))\n",
    "plt.subplot(3,1,1)\n",
    "plt.imshow(h[0:59].T, cmap='gray')\n",
    "plt.subplot(3,1,2)\n",
    "plt.imshow(h[59:130].T, cmap='gray')\n",
    "plt.subplot(3,1,3)\n",
    "plt.imshow(h[130:178].T, cmap='gray')"
   ]
  },
  {
   "cell_type": "code",
   "execution_count": null,
   "metadata": {
    "ExecuteTime": {
     "end_time": "2018-12-29T09:25:57.305112Z",
     "start_time": "2018-12-29T09:25:53.585162Z"
    },
    "scrolled": false
   },
   "outputs": [],
   "source": [
    "#6\n",
    "labels = [\"wine-1\", \"wine-2\", \"wine-3\"]\n",
    "\n",
    "plt.figure(1, figsize=(10,8))\n",
    "\n",
    "idx = np.where( y_data  == 0)[0]\n",
    "\n",
    "print(h[4])\n",
    "for i in range(10) :\n",
    "    plt.subplot(2, 5, i+1)\n",
    "    plt.bar(labels, h[idx[i]])\n",
    "    plt.xlabel(\"{}-> {} {:2.0f}%\".format(labels[int(y_data[i])], labels[p[i]], 100*np.max(h[i], axis=0) )    )"
   ]
  },
  {
   "cell_type": "code",
   "execution_count": null,
   "metadata": {},
   "outputs": [],
   "source": [
    "#7\n",
    "labels = [\"wine-1\", \"wine-2\", \"wine-3\"]\n",
    "\n",
    "plt.figure(1, figsize=(10,8))\n",
    "\n",
    "idx = np.where( y_data  == 0)[0]\n",
    "\n",
    "print(h[4])\n",
    "for i in range(10) :\n",
    "    plt.subplot(2, 5, i+1)\n",
    "    c =  \"blue\" if  p[idx[i]] == y_data[idx[i]]   else \"red\"\n",
    "    plt.bar(labels, h[idx[i]], color=c)\n",
    "    plt.xlabel(\"{}-> {} {:2.0f}%\".format(labels[int(y_data[i])], labels[p[i]], 100*np.max(h[i], axis=0) ) ,color = c   )"
   ]
  },
  {
   "cell_type": "code",
   "execution_count": null,
   "metadata": {},
   "outputs": [],
   "source": [
    "#8\n",
    "y =    [0, 0, 1, 1, 2, 2]\n",
    "pred = [0, 0, 1, 0, 1, 1]\n",
    "\n",
    "\n",
    "confusion_matrix = tf.confusion_matrix(labels=y, predictions=pred, num_classes=3)    \n",
    "cm = sess.run(confusion_matrix)\n",
    "\n",
    "print(cm)"
   ]
  },
  {
   "cell_type": "code",
   "execution_count": null,
   "metadata": {},
   "outputs": [],
   "source": [
    "#9\n",
    "normal_cm  = cm / cm.sum(axis=1)\n",
    "print(normal_cm)"
   ]
  },
  {
   "cell_type": "code",
   "execution_count": null,
   "metadata": {},
   "outputs": [],
   "source": [
    "#10\n",
    "p = sess.run(predicted, feed_dict={x: x_data})\n",
    "confusion_matrix = tf.confusion_matrix(labels=y_data, predictions=p, num_classes=3)    \n",
    "cm = sess.run(confusion_matrix)\n",
    "\n",
    "print(cm)\n",
    "\n",
    "normal_cm  = cm / cm.sum(axis=1).reshape(3,1)\n",
    "print(normal_cm)"
   ]
  },
  {
   "cell_type": "code",
   "execution_count": null,
   "metadata": {},
   "outputs": [],
   "source": []
  }
 ],
 "metadata": {
  "kernelspec": {
   "display_name": "Python 3",
   "language": "python",
   "name": "python3"
  },
  "language_info": {
   "codemirror_mode": {
    "name": "ipython",
    "version": 3
   },
   "file_extension": ".py",
   "mimetype": "text/x-python",
   "name": "python",
   "nbconvert_exporter": "python",
   "pygments_lexer": "ipython3",
   "version": "3.7.3"
  },
  "varInspector": {
   "cols": {
    "lenName": 16,
    "lenType": 16,
    "lenVar": 40
   },
   "kernels_config": {
    "python": {
     "delete_cmd_postfix": "",
     "delete_cmd_prefix": "del ",
     "library": "var_list.py",
     "varRefreshCmd": "print(var_dic_list())"
    },
    "r": {
     "delete_cmd_postfix": ") ",
     "delete_cmd_prefix": "rm(",
     "library": "var_list.r",
     "varRefreshCmd": "cat(var_dic_list()) "
    }
   },
   "types_to_exclude": [
    "module",
    "function",
    "builtin_function_or_method",
    "instance",
    "_Feature"
   ],
   "window_display": false
  }
 },
 "nbformat": 4,
 "nbformat_minor": 2
}
