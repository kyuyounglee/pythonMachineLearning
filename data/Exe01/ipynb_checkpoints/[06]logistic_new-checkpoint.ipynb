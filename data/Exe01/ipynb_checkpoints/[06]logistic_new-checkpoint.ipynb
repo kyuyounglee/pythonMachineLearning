{
 "cells": [
  {
   "cell_type": "markdown",
   "metadata": {},
   "source": [
    "# 모듈 import"
   ]
  },
  {
   "cell_type": "code",
   "execution_count": null,
   "metadata": {
    "ExecuteTime": {
     "end_time": "2018-12-23T07:34:36.028173Z",
     "start_time": "2018-12-23T07:34:25.737679Z"
    }
   },
   "outputs": [],
   "source": [
    "import tensorflow as tf\n",
    "import matplotlib.pyplot as plt\n",
    "import numpy as np\n",
    "from PIL import Image\n",
    "\n",
    "%matplotlib inline\n",
    "\n",
    "\n",
    "sess = tf.Session()"
   ]
  },
  {
   "cell_type": "markdown",
   "metadata": {
    "ExecuteTime": {
     "end_time": "2018-12-20T15:28:09.493747Z",
     "start_time": "2018-12-20T15:28:09.489759Z"
    }
   },
   "source": [
    "# 1. 로지스틱 함수 그려보기"
   ]
  },
  {
   "cell_type": "code",
   "execution_count": null,
   "metadata": {
    "ExecuteTime": {
     "end_time": "2018-12-23T08:06:51.471273Z",
     "start_time": "2018-12-23T08:06:51.266805Z"
    }
   },
   "outputs": [],
   "source": [
    "#1\n",
    "w = 7\n",
    "b = 0.0\n",
    "x = np.linspace(-4, 4, 100)\n",
    "\n",
    "h =  w * x + b\n",
    "y = tf.sigmoid(h)\n",
    "\n",
    "y_ = sess.run(y)\n",
    "plt.plot(x, y_)"
   ]
  },
  {
   "cell_type": "code",
   "execution_count": null,
   "metadata": {},
   "outputs": [],
   "source": [
    "#2\n",
    "w = 1.0\n",
    "b = 0.0\n",
    "\n",
    "x = np.linspace(-4, 4, 100)\n",
    "h =  w * x + b\n",
    "y = tf.sigmoid(h)\n",
    "\n",
    "y_ = sess.run(y)\n",
    "plt.plot(x, y_)"
   ]
  },
  {
   "cell_type": "code",
   "execution_count": null,
   "metadata": {},
   "outputs": [],
   "source": [
    "#3\n",
    "w = 0.1\n",
    "b = 0.0\n",
    "\n",
    "x = np.linspace(-4, 4, 100)\n",
    "h =  w * x + b\n",
    "y = tf.sigmoid(h)\n",
    "\n",
    "y_ = sess.run(y)\n",
    "plt.plot(x, y_)"
   ]
  },
  {
   "cell_type": "code",
   "execution_count": null,
   "metadata": {
    "ExecuteTime": {
     "end_time": "2018-12-23T08:13:27.994816Z",
     "start_time": "2018-12-23T08:13:27.654724Z"
    }
   },
   "outputs": [],
   "source": [
    " #4\n",
    "ws = [7, 1.0, 0.1]\n",
    "for i in range(3) :\n",
    "    b = 0.0\n",
    "    w = ws[i]\n",
    "    x = np.linspace(-4, 4, 100)\n",
    "   \n",
    "    h =  w * x + b\n",
    "    y = tf.sigmoid(h)\n",
    "    \n",
    "    y_ = sess.run(y)    \n",
    "    plt.plot(x, y_)\n",
    "    \n",
    "    print( np.min(y_), np.max(y_) )\n",
    "plt.legend(ws)"
   ]
  },
  {
   "cell_type": "code",
   "execution_count": null,
   "metadata": {
    "ExecuteTime": {
     "end_time": "2018-12-23T08:16:08.679595Z",
     "start_time": "2018-12-23T08:16:08.299612Z"
    }
   },
   "outputs": [],
   "source": [
    " #5\n",
    "plt.figure(figsize=(10,7))\n",
    "\n",
    "bs = [0, -0.5, 0.5]\n",
    "for i in range(3) :\n",
    "    b = bs[i]\n",
    "    w = 1\n",
    "    x = np.linspace(-4, 4, 100)\n",
    "    h =  w * x + b\n",
    "    y = tf.sigmoid(h)\n",
    "    \n",
    "    y_ = sess.run(y)    \n",
    "    plt.plot(x, y_)    \n",
    "    \n",
    "    print( b, np.min(y_), np.max(y_) )\n",
    "plt.legend(bs)"
   ]
  },
  {
   "cell_type": "markdown",
   "metadata": {},
   "source": [
    "# 2. log 함수 그려보기"
   ]
  },
  {
   "cell_type": "code",
   "execution_count": null,
   "metadata": {
    "ExecuteTime": {
     "end_time": "2018-12-23T08:24:31.715909Z",
     "start_time": "2018-12-23T08:24:31.423689Z"
    }
   },
   "outputs": [],
   "source": [
    "#1\n",
    "x = np.linspace(0, 1, 100)\n",
    "\n",
    "y = sess.run ( -tf.log(x) )\n",
    "plt.plot(x,y)\n",
    "print(y[0])\n",
    "\n",
    "y2 = sess.run ( -tf.log(1-x) )\n",
    "plt.plot(x,y2)\n",
    "print(y2[99])\n",
    "\n",
    "plt.legend(['-log(x)', '-log(1-x)'])    "
   ]
  },
  {
   "cell_type": "code",
   "execution_count": null,
   "metadata": {},
   "outputs": [],
   "source": [
    "#2\n",
    "x = np.linspace(0, 1, 100)\n",
    "\n",
    "y = sess.run ( -tf.log(x + 0.000001) )\n",
    "plt.plot(x,y)\n",
    "print(y[0])\n",
    "\n",
    "y2 = sess.run ( -tf.log(1- x + 0.000001) )\n",
    "plt.plot(x,y2)\n",
    "print(y2[99])\n",
    "\n",
    "plt.legend(['-log(x)', '-log(1-x)'])    "
   ]
  },
  {
   "cell_type": "markdown",
   "metadata": {},
   "source": [
    "#  3. sidmoid 함수에 대한 cost 함수 특성"
   ]
  },
  {
   "cell_type": "code",
   "execution_count": null,
   "metadata": {
    "ExecuteTime": {
     "end_time": "2018-12-23T07:01:26.098210Z",
     "start_time": "2018-12-23T07:01:25.919685Z"
    }
   },
   "outputs": [],
   "source": [
    "#1\n",
    "ws = np.linspace(-10, 10, 50)\n",
    "x_data = np.array([1, 2.4, 3.1,  4.1,  6.3, 7.8, 8.43, 9.6, 10.4])\n",
    "y_data = np.array([0,0,0,0, 1,1,1,1,1])\n",
    "\n",
    "cost = []\n",
    "for w in ws :\n",
    "    h = w * x_data\n",
    "    v =  (h - y_data)**2\n",
    "    cost.append(np.mean(v))\n",
    "plt.plot(ws, cost)"
   ]
  },
  {
   "cell_type": "code",
   "execution_count": null,
   "metadata": {
    "ExecuteTime": {
     "end_time": "2018-12-23T08:34:44.988205Z",
     "start_time": "2018-12-23T08:34:40.893123Z"
    },
    "scrolled": true
   },
   "outputs": [],
   "source": [
    "#2\n",
    "ws = np.linspace(-10, 10, 50)\n",
    "x_data = np.array([1, 2.4, 3.1,  4.1,  6.3, 7.8, 8.43, 9.6, 10.4])\n",
    "y_data = np.array([0,0,0,0, 1,1,1,1,1])\n",
    "\n",
    "cost = []\n",
    "for w in ws :\n",
    "    h = w * x_data\n",
    "    y_ = sess.run(tf.sigmoid(h))\n",
    "    v =  (y_ - y_data)**2\n",
    "    cost.append(np.mean(v))\n",
    "plt.plot(ws, cost)"
   ]
  },
  {
   "cell_type": "code",
   "execution_count": null,
   "metadata": {
    "ExecuteTime": {
     "end_time": "2018-12-23T08:48:05.954154Z",
     "start_time": "2018-12-23T08:47:59.234090Z"
    },
    "scrolled": true
   },
   "outputs": [],
   "source": [
    "#3\n",
    "ws = np.linspace(-10, 10, 100)\n",
    "x_data = np.array([1, 2.4, 3.1,  4.1,  6.3, 7.8, 8.43, 9.6, 10.4])\n",
    "y_data = np.array([0,0,0,0, 1,1,1,1,1])\n",
    "\n",
    "cs = []    \n",
    "for w in ws : \n",
    "    h = w * x_data\n",
    "    y = tf.sigmoid(h)\n",
    "    cost = -tf.reduce_mean(y_data * tf.log(y+10e-5) + ( 1 - y_data) * tf.log(1-y+10e-5 ))\n",
    "    c = sess.run(cost)\n",
    "    cs.append(c)\n",
    "plt.plot(ws, cs)"
   ]
  },
  {
   "cell_type": "markdown",
   "metadata": {},
   "source": [
    "# 4. logistic  regression"
   ]
  },
  {
   "cell_type": "code",
   "execution_count": null,
   "metadata": {
    "ExecuteTime": {
     "end_time": "2018-12-23T08:51:18.240639Z",
     "start_time": "2018-12-23T08:51:17.920494Z"
    }
   },
   "outputs": [],
   "source": [
    "#1\n",
    "x_data = np.array([1.0, 2.4, 2.1,  1.7,  6.3, 7.8, 7.2, 7.86, 6.5])\n",
    "y_data = np.array([0.0, 0,0,0, 1,1,1,1,1])\n",
    "\n",
    "colors = [\"red\"  if i == 0  else  \"blue\"  for i  in y_data   ]\n",
    "plt.scatter(x_data, y_data, color=colors)"
   ]
  },
  {
   "cell_type": "code",
   "execution_count": null,
   "metadata": {
    "ExecuteTime": {
     "end_time": "2018-12-23T08:58:16.906286Z",
     "start_time": "2018-12-23T08:57:57.248815Z"
    },
    "scrolled": true
   },
   "outputs": [],
   "source": [
    "#2\n",
    "w = tf.Variable(1.0)\n",
    "b = tf.Variable(1.0)\n",
    "\n",
    "hypothesis = tf.sigmoid(w * x_data + b)\n",
    "\n",
    "cost = -tf.reduce_mean(y_data * tf.log(hypothesis) + (1 - y_data) * tf.log(1 - hypothesis))\n",
    "\n",
    "update = tf.train.GradientDescentOptimizer(learning_rate=0.01).minimize(cost)\n",
    "predict = tf.cast(hypothesis > 0.5, 1)\n",
    "\n",
    "sess.run(tf.initialize_all_variables())\n",
    "\n",
    "cs = []\n",
    "iteration = 20001\n",
    "for step in range(iteration):\n",
    "    c, w_, b_, p,_ = sess.run([cost, w, b, predict,update])\n",
    "    if step % 5000 == 0:\n",
    "        print(\"step %d  :  cost=%f    w=%f    b=%f  predict=%s\" % (step, c, w_, b_, p))\n",
    "    cs.append(c)\n",
    "plt.plot(cs)"
   ]
  },
  {
   "cell_type": "code",
   "execution_count": null,
   "metadata": {
    "ExecuteTime": {
     "end_time": "2018-12-23T09:00:51.173563Z",
     "start_time": "2018-12-23T09:00:50.953155Z"
    },
    "scrolled": true
   },
   "outputs": [],
   "source": [
    "h =  w_ * x_data + b_\n",
    "y_ = 1 /( 1+  np.exp(-h ))\n",
    "plt.scatter(h,y_, color=colors)\n",
    "\n",
    "x = np.linspace(-7, 7, 100)\n",
    "y = 1 / (1+ np.exp(-x))\n",
    "plt.plot(x,y, color='green')"
   ]
  },
  {
   "cell_type": "markdown",
   "metadata": {},
   "source": [
    "# 5. 학습 횟수에 따른 w의 변화"
   ]
  },
  {
   "cell_type": "code",
   "execution_count": null,
   "metadata": {
    "ExecuteTime": {
     "end_time": "2018-12-23T09:10:45.225697Z",
     "start_time": "2018-12-23T09:10:16.863510Z"
    },
    "scrolled": true
   },
   "outputs": [],
   "source": [
    "#1\n",
    "w = tf.Variable(1.0)\n",
    "b = tf.Variable(1.0)\n",
    "\n",
    "hypothesis = tf.sigmoid(w * x_data + b)\n",
    "\n",
    "cost = -tf.reduce_mean(y_data * tf.log(hypothesis) + (1 - y_data) * tf.log(1 - hypothesis))\n",
    "\n",
    "update = tf.train.GradientDescentOptimizer(learning_rate=0.01).minimize(cost)\n",
    "predict = tf.cast(hypothesis > 0.5, 1)\n",
    "\n",
    "sess.run(tf.initialize_all_variables())\n",
    "\n",
    "iteration = 5000\n",
    "for step in range(iteration+1):\n",
    "    c, w_, b_, p, _ = sess.run([cost, w, b, predict,update])\n",
    "    if step % 5000 == 0:\n",
    "        print(\"step %d  :  cost=%f    w=%f    b=%f  predict=%s\" % (step, c, w_, b_, p))\n",
    "\n",
    "\n",
    "h =  w_ * x_data + b_\n",
    "y_ = 1 /( 1+  np.exp(-h ))\n",
    "plt.scatter(h,y_, color=colors)\n",
    "\n",
    "\n",
    "x = np.linspace(-7, 7, 100)\n",
    "y = 1 / (1+ np.exp(-x))\n",
    "plt.plot(x,y, color='green')\n",
    "plt.title( 'ineration={0}   w={1}'.format(iteration, w_)   )\n",
    "plt.savefig('logstic_{0}.png'.format(iteration))"
   ]
  },
  {
   "cell_type": "code",
   "execution_count": null,
   "metadata": {},
   "outputs": [],
   "source": [
    "#2\n",
    "sess.run(tf.initialize_all_variables())\n",
    "\n",
    "iteration = 10000\n",
    "for step in range(iteration+1):\n",
    "    c, w_, b_, p, _ = sess.run([cost, w, b, predict,update])\n",
    "    if step % 5000 == 0:\n",
    "        print(\"step %d  :  cost=%f    w=%f    b=%f  predict=%s\" % (step, c, w_, b_, p))\n",
    "\n",
    "\n",
    "h =  w_ * x_data + b_\n",
    "y_ = 1 /( 1+  np.exp(-h ))\n",
    "plt.scatter(h,y_, color=colors)\n",
    "\n",
    "\n",
    "x = np.linspace(-7, 7, 100)\n",
    "y = 1 / (1+ np.exp(-x))\n",
    "plt.plot(x,y, color='green')\n",
    "plt.title( 'ineration={0}   w={1}'.format(iteration, w_)   )\n",
    "plt.savefig('logstic_{0}.png'.format(iteration))"
   ]
  },
  {
   "cell_type": "code",
   "execution_count": null,
   "metadata": {},
   "outputs": [],
   "source": [
    "#3\n",
    "sess.run(tf.initialize_all_variables())\n",
    "\n",
    "iteration = 20000\n",
    "for step in range(iteration+1):\n",
    "    c, w_, b_, p, _ = sess.run([cost, w, b, predict,update])\n",
    "    if step % 5000 == 0:\n",
    "        print(\"step %d  :  cost=%f    w=%f    b=%f  predict=%s\" % (step, c, w_, b_, p))\n",
    "\n",
    "\n",
    "h =  w_ * x_data + b_\n",
    "y_ = 1 /( 1+  np.exp(-h ))\n",
    "plt.scatter(h,y_, color=colors)\n",
    "\n",
    "\n",
    "x = np.linspace(-7, 7, 100)\n",
    "y = 1 / (1+ np.exp(-x))\n",
    "plt.plot(x,y, color='green')\n",
    "plt.title( 'ineration={0}   w={1}'.format(iteration, w_)   )\n",
    "plt.savefig('logstic_{0}.png'.format(iteration))"
   ]
  },
  {
   "cell_type": "code",
   "execution_count": null,
   "metadata": {},
   "outputs": [],
   "source": [
    "#4\n",
    "sess.run(tf.initialize_all_variables())\n",
    "\n",
    "iteration =40000\n",
    "for step in range(iteration+1):\n",
    "    c, w_, b_, p, _ = sess.run([cost, w, b, predict,update])\n",
    "    if step % 5000 == 0:\n",
    "        print(\"step %d  :  cost=%f    w=%f    b=%f  predict=%s\" % (step, c, w_, b_, p))\n",
    "\n",
    "\n",
    "h =  w_ * x_data + b_\n",
    "y_ = 1 /( 1+  np.exp(-h ))\n",
    "plt.scatter(h,y_, color=colors)\n",
    "\n",
    "\n",
    "x = np.linspace(-7, 7, 100)\n",
    "y = 1 / (1+ np.exp(-x))\n",
    "plt.plot(x,y, color='green')\n",
    "plt.title( 'ineration={0}   w={1}'.format(iteration, w_)   )\n",
    "plt.savefig('logstic_{0}.png'.format(iteration))"
   ]
  },
  {
   "cell_type": "code",
   "execution_count": null,
   "metadata": {
    "ExecuteTime": {
     "end_time": "2018-12-23T09:12:00.647601Z",
     "start_time": "2018-12-23T09:11:59.398939Z"
    },
    "scrolled": true
   },
   "outputs": [],
   "source": [
    "#5\n",
    "plt.figure(figsize=(20,10))           \n",
    "    \n",
    "iterations = [5000,10000,20000,40000]\n",
    "i = 0\n",
    "for r in range(2) :\n",
    "    for c in range(2) :\n",
    "        img = Image.open('logstic_{0}.png'.format(iterations[i]))                         \n",
    "        i = i + 1\n",
    "        data = np.asarray( img, dtype='uint8' )                     \n",
    "        plt.subplot(2,2 , i)\n",
    "        plt.imshow(data)            "
   ]
  },
  {
   "cell_type": "code",
   "execution_count": null,
   "metadata": {
    "ExecuteTime": {
     "end_time": "2018-12-23T07:44:12.218530Z",
     "start_time": "2018-12-23T07:44:12.184631Z"
    }
   },
   "outputs": [],
   "source": [
    "#6\n",
    "x_test = np.array([3.2, 6.3, 7.8, 8.43, 9.6, 2.4])\n",
    "y_test = np.array([0.0, 1, 1, 1,1, 0])\n",
    "\n",
    "hypothesis = tf.sigmoid(w * x_test + b)\n",
    "predicted = tf.cast(hypothesis > 0.5, dtype=tf.float32)\n",
    "accuracy = tf.reduce_mean(tf.cast(tf.equal(predicted, y_test), dtype=tf.float32))\n",
    "p, a = sess.run([predict, accuracy])\n",
    "\n",
    "print(p, a)"
   ]
  },
  {
   "cell_type": "markdown",
   "metadata": {},
   "source": [
    "# 6. 정규분포 분류"
   ]
  },
  {
   "cell_type": "code",
   "execution_count": null,
   "metadata": {
    "ExecuteTime": {
     "end_time": "2018-12-23T15:36:45.263983Z",
     "start_time": "2018-12-23T15:36:44.690516Z"
    }
   },
   "outputs": [],
   "source": [
    "#1\n",
    "samples = 1000\n",
    "\n",
    "x_data0 = np.random.normal(0, 1, size=[samples,2])\n",
    "x_data1 = np.random.normal(2, 1, size=[samples,2])\n",
    "x_data = np.vstack([x_data0, x_data1])\n",
    "print(x_data.shape)\n",
    "\n",
    "y_data = np.vstack([np.zeros(samples).reshape(samples,1) , np.ones(samples).reshape(samples,1) ]) \n",
    "print(y_data.shape)\n",
    "\n",
    "colors = [\"red\"  if i == 0  else  \"blue\"  for i  in y_data   ]\n",
    "\n",
    "plt.scatter(x_data[:,0], x_data[:,1], color=colors)"
   ]
  },
  {
   "cell_type": "code",
   "execution_count": null,
   "metadata": {},
   "outputs": [],
   "source": [
    "#2\n",
    "x = tf.placeholder(tf.float32, shape=[None,2])\n",
    "y = tf.placeholder(tf.float32)\n",
    "\n",
    "w = tf.Variable([[1.0], [1.0]]) \n",
    "b = tf.Variable(1.0)  \n",
    "\n",
    "hypothesis = tf.sigmoid(tf.matmul(x, w) + b)\n",
    "\n",
    "cost = -tf.reduce_mean(y * tf.log(hypothesis) + (1 - y) * tf.log(1 - hypothesis))\n",
    "update = tf.train.GradientDescentOptimizer(learning_rate=0.01).minimize(cost)\n",
    "\n",
    "predicted = tf.cast(hypothesis > 0.5, dtype=tf.float32)\n",
    "accuracy = tf.reduce_mean(tf.cast(tf.equal(predicted, y), dtype=tf.float32))"
   ]
  },
  {
   "cell_type": "code",
   "execution_count": null,
   "metadata": {
    "ExecuteTime": {
     "end_time": "2018-12-23T15:55:09.991877Z",
     "start_time": "2018-12-23T15:55:05.482904Z"
    }
   },
   "outputs": [],
   "source": [
    "#3\n",
    "sess.run(tf.initialize_all_variables())\n",
    "\n",
    "for step in range(7001) :\n",
    "    _, c, a = sess.run([update, cost, accuracy], feed_dict={x:x_data, y:y_data} )\n",
    "    if  step % 1000 == 0 :\n",
    "        print(step, c, a)"
   ]
  },
  {
   "cell_type": "code",
   "execution_count": null,
   "metadata": {
    "ExecuteTime": {
     "end_time": "2018-12-23T15:56:05.557034Z",
     "start_time": "2018-12-23T15:56:05.546061Z"
    },
    "scrolled": true
   },
   "outputs": [],
   "source": [
    "#4\n",
    "xx, yy = np.mgrid[0:3:1, 0:3:1]\n",
    "print(xx)                      \n",
    "print(yy)                      \n",
    "print(xx.flatten())\n",
    "print(yy.flatten())\n",
    "\n",
    "grid = np.c_[xx.flatten(), yy.flatten()]\n",
    "print(grid)"
   ]
  },
  {
   "cell_type": "code",
   "execution_count": null,
   "metadata": {
    "ExecuteTime": {
     "end_time": "2018-12-23T09:45:04.835925Z",
     "start_time": "2018-12-23T09:45:04.494761Z"
    }
   },
   "outputs": [],
   "source": [
    "#5\n",
    "xx, yy = np.mgrid[-2:5:0.2, -2:5:0.2]\n",
    "grid = np.c_[xx.flatten(), yy.flatten()]\n",
    "\n",
    "p = sess.run(hypothesis, feed_dict={x: grid})\n",
    "colors = [\"red\"  if i<  0.5  else  \"blue\"  for i  in p   ]\n",
    "plt.scatter(xx.flatten(), yy.flatten(), color = colors, alpha=0.2)"
   ]
  },
  {
   "cell_type": "code",
   "execution_count": null,
   "metadata": {
    "ExecuteTime": {
     "end_time": "2018-12-23T15:56:40.016946Z",
     "start_time": "2018-12-23T15:56:39.515263Z"
    },
    "scrolled": false
   },
   "outputs": [],
   "source": [
    "#6\n",
    "xx, yy = np.mgrid[-2:5:0.2, -2:5:0.2]\n",
    "grid = np.c_[xx.flatten(), yy.flatten()]\n",
    "\n",
    "p = sess.run(hypothesis, feed_dict={x: grid})\n",
    "colors = [\"red\"  if i<  0.5  else  \"blue\"  for i  in p   ]\n",
    "plt.scatter(xx.flatten(), yy.flatten(), color = colors, alpha=0.2)\n",
    "\n",
    "colors = [\"red\"  if i == 0  else  \"blue\"  for i  in y_data   ]\n",
    "plt.scatter(x_data[:,0], x_data[:,1], color=colors)"
   ]
  },
  {
   "cell_type": "code",
   "execution_count": null,
   "metadata": {},
   "outputs": [],
   "source": [
    "#7\n",
    "samples = 1000\n",
    "x_data = np.random.normal(0, 1, size=[samples,2])\n",
    "d = np.sqrt([x[0]**2+x[1]**2  for x in x_data ])\n",
    "y_data = np.array([0  if   i < 0.8   else   1 for i  in d   ]).reshape(samples, 1)\n",
    "colors = [\"red\"  if   i  == 0  else   \"blue\"  for i  in y_data   ]\n",
    "plt.scatter(x_data[:,0], x_data[:,1], color=colors)"
   ]
  },
  {
   "cell_type": "code",
   "execution_count": null,
   "metadata": {},
   "outputs": [],
   "source": [
    "#8\n",
    "x = tf.placeholder(tf.float32, shape=[None,2])\n",
    "y = tf.placeholder(tf.float32)\n",
    "w = tf.Variable(tf.random_normal([2,1]))   \n",
    "b = tf.Variable(tf.random_normal([1]))\n",
    "hypothesis = tf.sigmoid(tf.matmul(x, w) + b)\n",
    "\n",
    "cost = -tf.reduce_mean(y * tf.log(hypothesis) + (1 - y) * tf.log(1 - hypothesis))\n",
    "update = tf.train.GradientDescentOptimizer(learning_rate=0.01).minimize(cost)\n",
    "predicted = tf.cast(hypothesis > 0.5, dtype=tf.float32)\n",
    "accuracy = tf.reduce_mean(tf.cast(tf.equal(predicted, y), dtype=tf.float32))\n",
    "\n",
    "sess.run(tf.initialize_all_variables())\n",
    "\n",
    "for step in range(3001) :\n",
    "    _, c, a = sess.run([update, cost,accuracy], feed_dict={x:x_data, y:y_data} )\n",
    "    if  step % 500 == 0 :\n",
    "        print(step, c, a)        "
   ]
  },
  {
   "cell_type": "code",
   "execution_count": null,
   "metadata": {},
   "outputs": [],
   "source": [
    "#10\n",
    "plt.subplot(1,2,1)  \n",
    "colors = [\"red\"  if   i  == 0  else   \"blue\"  for i  in y_data   ]\n",
    "plt.scatter(x_data[:,0], x_data[:,1], color=colors,alpha=0.2)\n",
    "\n",
    "\n",
    "xx, yy = np.mgrid[-3.0:3:0.2, -3.0:3.0:0.2]\n",
    "grid = np.c_[xx.ravel(), yy.ravel()]\n",
    "\n",
    "plt.subplot(1,2,2)  \n",
    "p = sess.run(hypothesis, feed_dict={x: grid})\n",
    "colors = [\"red\"  if i<  0.5  else  \"blue\"  for i  in p   ]\n",
    "plt.scatter(np.array([xx]).flatten(), np.array([yy]).flatten(), color = colors, alpha=0.2)"
   ]
  },
  {
   "cell_type": "markdown",
   "metadata": {},
   "source": [
    "# 7. 당뇨병 진단"
   ]
  },
  {
   "cell_type": "code",
   "execution_count": null,
   "metadata": {
    "ExecuteTime": {
     "end_time": "2018-12-23T14:31:02.464105Z",
     "start_time": "2018-12-23T14:31:02.438183Z"
    }
   },
   "outputs": [],
   "source": [
    "#1\n",
    "data = np.loadtxt(\"diabetes.csv\", delimiter=\",\", dtype=np.float32)\n",
    "print(data.shape)\n",
    "\n",
    "\"\"\"\n",
    "임신횟수\n",
    "글루코스 내성 실험 후의 혈당수치\n",
    "확장기 혈압(mm Hg)\n",
    "상완 삼두근 피부 두께 (mm)\n",
    "혈액내 인슐린 수치 (mu U/ml)\n",
    "BMI(비만도) 수치 (weight in kg/(height in m)^2)\n",
    "당뇨병 가족력: 계산식은 데이터세트의 출처에서 확인하세요.\n",
    "나이 (years)\n",
    "당뇨병 여부 (0 or 1; 1은 발병)\n",
    "\"\"\"\n",
    "\n",
    "label = [\"임신횟수\", \"글루코스 내성 실험 후의 혈당수치\", \"확장기 혈압\", \"상완 삼두근 피부 두께\",\n",
    "         \"혈액내 인슐린 수치\", \"BMI\", \"당뇨병 가족력\", \"나이\"]\n"
   ]
  },
  {
   "cell_type": "code",
   "execution_count": null,
   "metadata": {
    "ExecuteTime": {
     "end_time": "2018-12-23T14:31:04.234354Z",
     "start_time": "2018-12-23T14:31:04.190471Z"
    }
   },
   "outputs": [],
   "source": [
    "#2\n",
    "dim = 8\n",
    "x_data = data[:, 0:dim]\n",
    "y_data = data[:, dim]\n",
    "print(y_data.shape)\n",
    "y_data = y_data.reshape(768,1)   \n",
    "print(x_data.shape)\n",
    "print(y_data.shape)\n",
    "\n",
    "mx = np.max(x_data, axis=0)\n",
    "x_data = x_data / mx"
   ]
  },
  {
   "cell_type": "code",
   "execution_count": null,
   "metadata": {},
   "outputs": [],
   "source": [
    "#3\n",
    "x = tf.placeholder(tf.float32, shape=[None,  dim])\n",
    "y = tf.placeholder(tf.float32)\n",
    "\n",
    "w = tf.Variable(tf.random_normal([dim ,1])) \n",
    "b = tf.Variable(tf.random_normal([1]))\n",
    "hypothesis = tf.sigmoid(tf.matmul(x, w) + b)"
   ]
  },
  {
   "cell_type": "code",
   "execution_count": null,
   "metadata": {
    "ExecuteTime": {
     "end_time": "2018-12-23T14:31:07.021903Z",
     "start_time": "2018-12-23T14:31:06.870308Z"
    }
   },
   "outputs": [],
   "source": [
    "#4\n",
    "cost = -tf.reduce_mean(y * tf.log(hypothesis) + (1 - y) * tf.log(1 - hypothesis))\n",
    "\n",
    "predicted = tf.cast(hypothesis > 0.5, dtype=tf.float32)\n",
    "accuracy = tf.reduce_mean(tf.cast(tf.equal(predicted, y), dtype=tf.float32))\n",
    "\n",
    "update = tf.train.GradientDescentOptimizer(learning_rate=0.01).minimize(cost) "
   ]
  },
  {
   "cell_type": "code",
   "execution_count": null,
   "metadata": {
    "ExecuteTime": {
     "end_time": "2018-12-23T14:31:28.210267Z",
     "start_time": "2018-12-23T14:31:09.261916Z"
    }
   },
   "outputs": [],
   "source": [
    "#5\n",
    "sess.run(tf.initialize_all_variables())\n",
    "for step in range(40001) :\n",
    "    _, c, a = sess.run([update, cost, accuracy], feed_dict={x:x_data, y:y_data} )\n",
    "    if  step % 5000 == 0 :\n",
    "        print(step, c, a)"
   ]
  },
  {
   "cell_type": "code",
   "execution_count": null,
   "metadata": {
    "ExecuteTime": {
     "end_time": "2018-12-23T14:31:31.531388Z",
     "start_time": "2018-12-23T14:31:31.463571Z"
    },
    "scrolled": true
   },
   "outputs": [],
   "source": [
    "#6\n",
    "w_ =  sess.run(w)\n",
    "for i in range(dim) :\n",
    "    print(label[i] , w_[i])"
   ]
  },
  {
   "cell_type": "code",
   "execution_count": null,
   "metadata": {
    "ExecuteTime": {
     "end_time": "2018-12-23T14:42:49.094936Z",
     "start_time": "2018-12-23T14:42:49.079944Z"
    }
   },
   "outputs": [],
   "source": [
    "#7\n",
    "\"\"\"\n",
    "임신횟수 : 0\n",
    "글루코스 내성 실험 후의 혈당수치 : 90\n",
    "확장기 혈압 :  66\n",
    "상완 삼두근 피부 두께 :  29\n",
    "혈액내 인슐린 수치 : 0 \n",
    "BMI(비만도) 수치 : 26.6\n",
    "당뇨병 가족력 : 0.351\n",
    "나이 : 30\n",
    "\"\"\"\n",
    "x_data2 = np.array([\n",
    "    [0,\t90\t,66\t,29,\t0\t,26.6,\t0.351,\t30],\n",
    "    [0,\t90\t,66\t,29,\t0\t,26.6,\t0.351,\t60],\n",
    "])\n",
    "\n",
    "\n",
    "x_data2 = x_data2 / mx\n",
    "\n",
    "p = sess.run(hypothesis, feed_dict={x:x_data2} )  \n",
    "print(p*100)"
   ]
  },
  {
   "cell_type": "markdown",
   "metadata": {},
   "source": [
    "# 8. 스펨 메일 검출"
   ]
  },
  {
   "cell_type": "code",
   "execution_count": null,
   "metadata": {
    "ExecuteTime": {
     "end_time": "2018-12-23T14:56:43.877305Z",
     "start_time": "2018-12-23T14:56:43.272922Z"
    }
   },
   "outputs": [],
   "source": [
    "#1\n",
    "data = np.loadtxt(\"spambase.csv\", delimiter=\",\", dtype=np.float32)\n",
    "print(data.shape)\n",
    "\n",
    "lab = [\"make\", \"address\", \"all\", \"3d\", \"our\", \"over\",  \"remove\",  \"internet\", \"order\", \"mail\",   \"receive\",\n",
    "       \"will\", \"people\",  \"report\", \"addresses\", \"free\",  \"business\",   \"email\",  \"you\",  \"credit\", \"your\",  \"font\",  \"000\", \n",
    "       \"money\",   \"hp\",  \"hpl\", \"george\", \"650\",  \"lab\",  \"labs\",  \"telnet\",   \"857\",  \"data\",  \"415\",   \"85\",           \n",
    "       \"technology\",   \"1999\",   \"parts\",   \"pm\",   \"direct\",  \"cs\",   \"meeting\", \"original\", \"project\",  \"re\",  \"edu\",          \n",
    "       \"table\", \"conference\", \"char_freq_;\", \"char_freq_(\",  \"char_freq_[\",   \"char_freq_!\",   \"char_freq_$\",   \"char_freq_#\",            \n",
    "       \"capital_run_length_average\", \"capital_run_length_longest\", \"capital_run_length_total\"]   "
   ]
  },
  {
   "cell_type": "code",
   "execution_count": null,
   "metadata": {
    "ExecuteTime": {
     "end_time": "2018-12-23T14:57:24.194483Z",
     "start_time": "2018-12-23T14:57:24.167555Z"
    }
   },
   "outputs": [],
   "source": [
    "#2\n",
    "dim = 57\n",
    "x_data = data[:, 0:57]\n",
    "y_data = data[:,57]\n",
    "y_data = y_data.reshape(4601,1)  \n",
    "\n",
    "mx = np.max(x_data, axis=0)\n",
    "x_data = x_data / mx"
   ]
  },
  {
   "cell_type": "code",
   "execution_count": null,
   "metadata": {
    "ExecuteTime": {
     "end_time": "2018-12-23T15:01:44.102126Z",
     "start_time": "2018-12-23T15:01:02.559998Z"
    }
   },
   "outputs": [],
   "source": [
    "#3\n",
    "x= tf.placeholder(tf.float32, shape=[None,  dim])\n",
    "y = tf.placeholder(tf.float32)\n",
    "w = tf.Variable(tf.random_normal([dim ,1])) \n",
    "b = tf.Variable(tf.random_normal([1]))\n",
    "hypothesis = tf.sigmoid(tf.matmul(x, w) + b)\n"
   ]
  },
  {
   "cell_type": "code",
   "execution_count": null,
   "metadata": {},
   "outputs": [],
   "source": [
    "#4\n",
    "cost = -tf.reduce_mean(y * tf.log(hypothesis) + (1 - y) * tf.log(1 - hypothesis))\n",
    "train = tf.train.GradientDescentOptimizer(learning_rate=0.01).minimize(cost)\n",
    "predicted = tf.cast(hypothesis > 0.5, dtype=tf.float32)\n",
    "accuracy = tf.reduce_mean(tf.cast(tf.equal(predicted, y), dtype=tf.float32))"
   ]
  },
  {
   "cell_type": "code",
   "execution_count": null,
   "metadata": {},
   "outputs": [],
   "source": [
    "#5\n",
    "init = tf.initialize_all_variables()\n",
    "sess.run(init)\n",
    "for step in range(25001) :\n",
    "    _, c, a = sess.run([train, cost, accuracy], feed_dict={x:x_data, y:y_data} )\n",
    "    if  step % 5000 == 0 :\n",
    "        print(step, c, a)"
   ]
  },
  {
   "cell_type": "code",
   "execution_count": null,
   "metadata": {
    "ExecuteTime": {
     "end_time": "2018-12-23T15:25:50.331715Z",
     "start_time": "2018-12-23T15:25:50.169126Z"
    }
   },
   "outputs": [],
   "source": [
    "#6\n",
    "w_ = sess.run(w)\n",
    "plt.bar(np.arange(0,dim), w_.flatten())"
   ]
  },
  {
   "cell_type": "code",
   "execution_count": null,
   "metadata": {
    "ExecuteTime": {
     "end_time": "2018-12-23T15:26:50.311055Z",
     "start_time": "2018-12-23T15:26:50.305071Z"
    }
   },
   "outputs": [],
   "source": [
    "#7\n",
    "idx = np.where( np.abs(w_) > 2.0  ) \n",
    "print(idx[0])\n",
    "word = [ lab[v] for v in idx[0]]\n",
    "print(word)"
   ]
  },
  {
   "cell_type": "code",
   "execution_count": null,
   "metadata": {},
   "outputs": [],
   "source": []
  }
 ],
 "metadata": {
  "kernelspec": {
   "display_name": "Python 3",
   "language": "python",
   "name": "python3"
  },
  "language_info": {
   "codemirror_mode": {
    "name": "ipython",
    "version": 3
   },
   "file_extension": ".py",
   "mimetype": "text/x-python",
   "name": "python",
   "nbconvert_exporter": "python",
   "pygments_lexer": "ipython3",
   "version": "3.7.1"
  },
  "varInspector": {
   "cols": {
    "lenName": 16,
    "lenType": 16,
    "lenVar": 40
   },
   "kernels_config": {
    "python": {
     "delete_cmd_postfix": "",
     "delete_cmd_prefix": "del ",
     "library": "var_list.py",
     "varRefreshCmd": "print(var_dic_list())"
    },
    "r": {
     "delete_cmd_postfix": ") ",
     "delete_cmd_prefix": "rm(",
     "library": "var_list.r",
     "varRefreshCmd": "cat(var_dic_list()) "
    }
   },
   "types_to_exclude": [
    "module",
    "function",
    "builtin_function_or_method",
    "instance",
    "_Feature"
   ],
   "window_display": false
  }
 },
 "nbformat": 4,
 "nbformat_minor": 2
}
