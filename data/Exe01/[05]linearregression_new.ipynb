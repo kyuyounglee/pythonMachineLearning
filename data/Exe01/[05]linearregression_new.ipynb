{
 "cells": [
  {
   "cell_type": "markdown",
   "metadata": {},
   "source": [
    "# 모듈 import"
   ]
  },
  {
   "cell_type": "code",
   "execution_count": null,
   "metadata": {
    "ExecuteTime": {
     "end_time": "2018-12-22T07:47:33.840774Z",
     "start_time": "2018-12-22T07:47:28.415482Z"
    }
   },
   "outputs": [],
   "source": [
    "import tensorflow as tf\n",
    "import matplotlib.pyplot as plt\n",
    "import numpy as np \n",
    "%matplotlib inline\n",
    "\n",
    "sess = tf.Session()"
   ]
  },
  {
   "cell_type": "markdown",
   "metadata": {},
   "source": [
    "# 1. Cost 이해하기"
   ]
  },
  {
   "cell_type": "code",
   "execution_count": null,
   "metadata": {
    "ExecuteTime": {
     "end_time": "2018-12-21T12:39:49.407867Z",
     "start_time": "2018-12-21T12:39:49.365978Z"
    }
   },
   "outputs": [],
   "source": [
    "#1\n",
    "x_data = [1.0, 2, 3, 4 ]\n",
    "y_data = [1.1, 2.2, 3, 4.2]\n",
    "\n",
    "w = tf.placeholder(tf.float32)\n",
    "x = tf.placeholder(tf.float32)\n",
    "y = tf.placeholder(tf.float32)\n",
    "hypothesis = w * x\n",
    "# error = hypothesis - y\n",
    "cost = tf.reduce_mean(tf.square(hypothesis - y))"
   ]
  },
  {
   "cell_type": "code",
   "execution_count": null,
   "metadata": {
    "ExecuteTime": {
     "end_time": "2018-12-21T12:39:51.917185Z",
     "start_time": "2018-12-21T12:39:51.841362Z"
    }
   },
   "outputs": [],
   "source": [
    "#2\n",
    "c = sess.run(cost, feed_dict={x: x_data, y: y_data, w:-4})\n",
    "print(cost)\n",
    "print(c)"
   ]
  },
  {
   "cell_type": "code",
   "execution_count": null,
   "metadata": {
    "ExecuteTime": {
     "end_time": "2018-12-21T12:41:23.539810Z",
     "start_time": "2018-12-21T12:41:23.525846Z"
    }
   },
   "outputs": [],
   "source": [
    "#3\n",
    "c = sess.run(cost, feed_dict={x: x_data, y: y_data, w:-3})\n",
    "print(c)\n",
    "c = sess.run(cost, feed_dict={x: x_data, y: y_data, w:-2})\n",
    "print(c)\n",
    "c = sess.run(cost, feed_dict={x: x_data, y: y_data, w:-1})\n",
    "print(c)\n",
    "c = sess.run(cost, feed_dict={x: x_data, y: y_data, w:0})\n",
    "print(c)"
   ]
  },
  {
   "cell_type": "code",
   "execution_count": null,
   "metadata": {
    "ExecuteTime": {
     "end_time": "2018-12-21T12:50:07.024708Z",
     "start_time": "2018-12-21T12:50:07.006746Z"
    },
    "scrolled": false
   },
   "outputs": [],
   "source": [
    "#4\n",
    "for value in  [-4, -3,-2,-1,0,1,2,3,4,5,6] :\n",
    "    c = sess.run(cost, feed_dict={x: x_data, y: y_data, w:value})\n",
    "    print(value, c)"
   ]
  },
  {
   "cell_type": "code",
   "execution_count": null,
   "metadata": {
    "ExecuteTime": {
     "end_time": "2018-12-21T12:51:55.766419Z",
     "start_time": "2018-12-21T12:51:55.629783Z"
    }
   },
   "outputs": [],
   "source": [
    "#5\n",
    "cs = []\n",
    "for v in [-4, -3,-2,-1,0,1,2,3,4,5,6]:\n",
    "    c = sess.run(cost, feed_dict={x: x_data, y: y_data, w:v})\n",
    "    cs.append(c)    \n",
    "plt.plot([-4, -3,-2,-1,0,1,2,3,4,5,6], cs)"
   ]
  },
  {
   "cell_type": "code",
   "execution_count": null,
   "metadata": {},
   "outputs": [],
   "source": [
    "#6\n",
    "\n",
    "cs = []\n",
    "fromto = np.linspace(-10, 12, 1000)\n",
    "for v in  fromto:\n",
    "    c = sess.run(cost, feed_dict={x: x_data, y: y_data, w:v})\n",
    "    cs.append(c)    \n",
    "plt.plot(fromto, cs)\n",
    "\n",
    "print(np.array(cs).min())\n",
    "print(np.array(cs).argmin())\n",
    "print(fromto[np.array(cs).argmin()])"
   ]
  },
  {
   "cell_type": "markdown",
   "metadata": {},
   "source": [
    "# 2.경사하강법이해하기"
   ]
  },
  {
   "cell_type": "code",
   "execution_count": null,
   "metadata": {
    "ExecuteTime": {
     "end_time": "2018-12-21T13:18:18.050548Z",
     "start_time": "2018-12-21T13:18:18.031597Z"
    }
   },
   "outputs": [],
   "source": [
    "#1\n",
    "\n",
    "learning_rate = 0.1\n",
    "\n",
    "w = tf.Variable(2.0)\n",
    "x = tf.placeholder(tf.float32)\n",
    "y = tf.placeholder(tf.float32)\n",
    "hypothesis = w * x\n",
    "# error = hypothesis - y\n",
    "cost = tf.reduce_mean(tf.square(hypothesis - y))\n",
    "\n",
    "\n",
    "cost = tf.reduce_mean(tf.square(hypothesis - y))\n",
    "\n",
    "gradient = tf.reduce_mean((w * x - y) * x)\n",
    "#w = w - learning_rate * gradient\n",
    "descent = w - learning_rate * gradient\n",
    "update = w.assign(descent)"
   ]
  },
  {
   "cell_type": "code",
   "execution_count": null,
   "metadata": {
    "ExecuteTime": {
     "end_time": "2018-12-21T13:19:16.574101Z",
     "start_time": "2018-12-21T13:19:16.567109Z"
    }
   },
   "outputs": [],
   "source": [
    "#2\n",
    "init = tf.global_variables_initializer()\n",
    "sess.run(init)\n",
    "\n",
    "sess.run(update, feed_dict={x: x_data, y: y_data})\n",
    "c, w_ = sess.run([cost, w], feed_dict={x: x_data, y: y_data})\n",
    "print(c, w_) "
   ]
  },
  {
   "cell_type": "code",
   "execution_count": null,
   "metadata": {
    "ExecuteTime": {
     "end_time": "2018-12-21T13:19:45.694408Z",
     "start_time": "2018-12-21T13:19:45.679422Z"
    },
    "scrolled": true
   },
   "outputs": [],
   "source": [
    "#3  \n",
    "sess.run(update, feed_dict={x: x_data, y: y_data})\n",
    "c = sess.run(cost, feed_dict={x: x_data, y: y_data})\n",
    "print(c) \n",
    "\n",
    "sess.run(update, feed_dict={x: x_data, y: y_data})\n",
    "c = sess.run(cost, feed_dict={x: x_data, y: y_data})\n",
    "print(c)\n",
    "\n",
    "sess.run(update, feed_dict={x: x_data, y: y_data})\n",
    "c = sess.run(cost, feed_dict={x: x_data, y: y_data})\n",
    "print(c)"
   ]
  },
  {
   "cell_type": "code",
   "execution_count": null,
   "metadata": {
    "ExecuteTime": {
     "end_time": "2018-12-21T13:23:29.598132Z",
     "start_time": "2018-12-21T13:23:29.513359Z"
    },
    "scrolled": true
   },
   "outputs": [],
   "source": [
    "#4\n",
    "sess.run(tf.global_variables_initializer())   \n",
    "for i in range(0,10) :\n",
    "    sess.run(update, feed_dict={x: x_data, y: y_data})\n",
    "    c, w_ = sess.run([cost, w], feed_dict={x: x_data, y: y_data})      \n",
    "    print(i, c, w_)"
   ]
  },
  {
   "cell_type": "code",
   "execution_count": null,
   "metadata": {},
   "outputs": [],
   "source": [
    "#5\n",
    "sess.run(tf.global_variables_initializer())   \n",
    "for i in range(0,20) :\n",
    "    sess.run(update, feed_dict={x: x_data, y: y_data})\n",
    "    c, w_ = sess.run([cost, w], feed_dict={x: x_data, y: y_data})      \n",
    "    print(i, c, w_)"
   ]
  },
  {
   "cell_type": "code",
   "execution_count": null,
   "metadata": {
    "ExecuteTime": {
     "end_time": "2018-12-21T13:38:19.811268Z",
     "start_time": "2018-12-21T13:38:19.735443Z"
    }
   },
   "outputs": [],
   "source": [
    "#6\n",
    "sess.run(tf.global_variables_initializer())   \n",
    "cs = []\n",
    "gs = []\n",
    "for i in range(0,10) :\n",
    "    _, c, g = sess.run([update,cost,gradient], feed_dict={x: x_data, y: y_data})\n",
    "    cs.append(c)\n",
    "    gs.append(g)   \n",
    "    \n",
    "plt.plot(cs)\n",
    "plt.plot(gs)\n",
    "plt.legend(['cost', 'gradient'])"
   ]
  },
  {
   "cell_type": "code",
   "execution_count": null,
   "metadata": {
    "ExecuteTime": {
     "end_time": "2018-12-21T13:47:35.506864Z",
     "start_time": "2018-12-21T13:47:35.425069Z"
    }
   },
   "outputs": [],
   "source": [
    "#7\n",
    "sess.run(tf.global_variables_initializer())   \n",
    "\n",
    "oldc = 1000\n",
    "for i in range(0,10) :  \n",
    "    _, c, g = sess.run([update,cost,gradient], feed_dict={x: x_data, y: y_data})\n",
    "    print(i, c)\n",
    "    if oldc - c < 0.00001  : break\n",
    "    oldc = c"
   ]
  },
  {
   "cell_type": "code",
   "execution_count": null,
   "metadata": {},
   "outputs": [],
   "source": [
    "#8\n",
    "sess.run(tf.global_variables_initializer())   \n",
    "\n",
    "oldc = 1000\n",
    "for i in range(0,1000) :  \n",
    "    _, c, g = sess.run([update,cost,gradient], feed_dict={x: x_data, y: y_data})\n",
    "    print(i, c)\n",
    "    if oldc - c < 0.00001  : break\n",
    "    oldc = c"
   ]
  },
  {
   "cell_type": "markdown",
   "metadata": {},
   "source": [
    "# 3. 학습결과 시각화하기"
   ]
  },
  {
   "cell_type": "code",
   "execution_count": null,
   "metadata": {
    "ExecuteTime": {
     "end_time": "2018-12-21T06:26:05.832193Z",
     "start_time": "2018-12-21T06:26:05.677607Z"
    }
   },
   "outputs": [],
   "source": [
    "#1\n",
    "plt.xlabel('x')\n",
    "plt.ylabel('y')\n",
    "plt.plot(x_data, y_data, 'go')\n",
    "\n",
    "w_ = sess.run(w)\n",
    "print(w_)\n",
    "plt.plot(x_data, np.array(x_data) * w_,  'b')"
   ]
  },
  {
   "cell_type": "markdown",
   "metadata": {
    "ExecuteTime": {
     "end_time": "2018-12-20T14:08:42.191008Z",
     "start_time": "2018-12-20T14:08:42.187018Z"
    }
   },
   "source": [
    "# 4. 초기값에 따른 수렴 분석"
   ]
  },
  {
   "cell_type": "code",
   "execution_count": null,
   "metadata": {
    "ExecuteTime": {
     "end_time": "2018-12-22T07:59:12.063666Z",
     "start_time": "2018-12-22T07:59:11.544816Z"
    }
   },
   "outputs": [],
   "source": [
    "#1\n",
    "x_data = [1.0, 2, 3, 4 ]\n",
    "y_data = [1.1, 2.2, 3, 4.2]\n",
    "\n",
    "\n",
    "ws = [-3.0, 3.0, 0.2, 1.2]\n",
    "colors = ['r', 'g', 'b', 'k']\n",
    "for i  in range(4) :\n",
    "    w = tf.Variable(ws[i])  \n",
    "    x = tf.placeholder(tf.float32)\n",
    "    y = tf.placeholder(tf.float32)\n",
    "    hypothesis = w * x\n",
    "    cost = tf.reduce_mean(tf.square(hypothesis - y))\n",
    "    \n",
    "    learning_rate = 0.1\n",
    "    gradient = tf.reduce_mean((w * x - y) * x)\n",
    "    descent = w - learning_rate * gradient\n",
    "    update = w.assign(descent)\n",
    "\n",
    "    sess.run(tf.global_variables_initializer())\n",
    "    \n",
    "    cs = []\n",
    "    for step in range(13):\n",
    "        sess.run(update, feed_dict={x: x_data, y: y_data})\n",
    "        c = sess.run(cost, feed_dict={x: x_data, y: y_data})\n",
    "        cs.append(c)\n",
    "    plt.plot(cs, colors[i])        \n",
    "plt.legend(ws)  "
   ]
  },
  {
   "cell_type": "markdown",
   "metadata": {},
   "source": [
    "# 5. 다양한 학습률에 따른 수렴 분석 "
   ]
  },
  {
   "cell_type": "code",
   "execution_count": null,
   "metadata": {
    "ExecuteTime": {
     "end_time": "2018-12-21T06:34:43.372622Z",
     "start_time": "2018-12-21T06:34:42.510927Z"
    },
    "scrolled": true
   },
   "outputs": [],
   "source": [
    "#1\n",
    "x_data = [1.0, 2, 3, 4 ]\n",
    "y_data = [1.1, 2.2, 3, 4.2]\n",
    "\n",
    "\n",
    "lrs = [0.1, 0.01, 0.001]\n",
    "colors = ['r', 'g', 'b']\n",
    "for i  in range(3) :\n",
    "    w = tf.Variable(3.0)  \n",
    "    x = tf.placeholder(tf.float32)\n",
    "    y = tf.placeholder(tf.float32)\n",
    "    hypothesis = w * x\n",
    "    cost = tf.reduce_mean(tf.square(hypothesis - y))\n",
    "    learning_rate = lrs[i]\n",
    "    gradient = tf.reduce_mean((w * x - y) * x)\n",
    "    descent = w - learning_rate * gradient\n",
    "    update = w.assign(descent)\n",
    "\n",
    "    \n",
    "    sess.run(tf.global_variables_initializer())\n",
    "    \n",
    "    cs = []\n",
    "    for step in range(30):\n",
    "        sess.run(update, feed_dict={x: x_data, y: y_data})\n",
    "        c = sess.run(cost, feed_dict={x: x_data, y: y_data})\n",
    "        cs.append(c)        \n",
    "    plt.plot(cs, colors[i])        \n",
    "plt.legend(lrs)     "
   ]
  },
  {
   "cell_type": "code",
   "execution_count": null,
   "metadata": {
    "scrolled": true
   },
   "outputs": [],
   "source": [
    "#2\n",
    "x_data = [1.0, 2, 3, 4 ]\n",
    "y_data = [1.1, 2.2, 3, 4.2]\n",
    "\n",
    "\n",
    "lrs = [0.1, 0.01, 0.001]\n",
    "colors = ['r', 'g', 'b']\n",
    "for i  in range(3) :\n",
    "    w = tf.Variable(3.0)  \n",
    "    x = tf.placeholder(tf.float32)\n",
    "    y = tf.placeholder(tf.float32)\n",
    "    hypothesis = w * x\n",
    "    cost = tf.reduce_sum(tf.square(hypothesis - y))\n",
    "    learning_rate = lrs[i]\n",
    "    gradient = tf.reduce_mean((w * x - y) * x)\n",
    "    descent = w - learning_rate * gradient\n",
    "    update = w.assign(descent)\n",
    "    \n",
    "    sess.run(tf.global_variables_initializer())\n",
    "    \n",
    "    cs = []\n",
    "    for step in range(300):\n",
    "        sess.run(update, feed_dict={x: x_data, y: y_data})\n",
    "        c = sess.run(cost, feed_dict={x: x_data, y: y_data})\n",
    "        cs.append(c)        \n",
    "    plt.plot(cs, colors[i])        \n",
    "plt.legend(lrs)     "
   ]
  },
  {
   "cell_type": "markdown",
   "metadata": {},
   "source": [
    "# 6. Tensorflow 최적화  함수"
   ]
  },
  {
   "cell_type": "code",
   "execution_count": null,
   "metadata": {},
   "outputs": [],
   "source": [
    "#1\n",
    "x_data = [1.0, 2, 3, 4 ]\n",
    "y_data = [1.1, 2.2, 3, 4.2]\n",
    "\n",
    "w = tf.Variable(0.0)\n",
    "\n",
    "hypothesis = w * x_data \n",
    "cost = tf.sqrt(tf.reduce_mean(tf.square( hypothesis - y_data )))\n",
    " \n",
    "learning_rate = 0.1\n",
    "update = tf.train.GradientDescentOptimizer(learning_rate).minimize(cost)\n",
    "\n",
    "# gradient = tf.reduce_mean((w * x - y) * x)\n",
    "# descent = w - learning_rate * gradient\n",
    "# update = w.assign(descent)   "
   ]
  },
  {
   "cell_type": "code",
   "execution_count": null,
   "metadata": {
    "ExecuteTime": {
     "end_time": "2018-12-22T08:10:31.194478Z",
     "start_time": "2018-12-22T08:10:30.903977Z"
    },
    "scrolled": true
   },
   "outputs": [],
   "source": [
    "#2\n",
    "sess.run(tf.global_variables_initializer())\n",
    "cs = []\n",
    "for step in range(100) :\n",
    "    c, _ = sess.run([cost,update])    \n",
    "    cs.append(c)        \n",
    "w_ = sess.run(w)\n",
    "print(w_, c)\n",
    "plt.plot(cs)"
   ]
  },
  {
   "cell_type": "code",
   "execution_count": null,
   "metadata": {},
   "outputs": [],
   "source": [
    "#3\n",
    "x_data = [1.0, 2, 3, 4 ]\n",
    "y_data = [1.1, 2.2, 3, 4.2]\n",
    "\n",
    "w = tf.Variable(0.0)\n",
    "b =  tf.Variable(0.0)\n",
    "hypothesis = w * x_data + b"
   ]
  },
  {
   "cell_type": "code",
   "execution_count": null,
   "metadata": {
    "ExecuteTime": {
     "end_time": "2018-12-22T08:11:12.955334Z",
     "start_time": "2018-12-22T08:11:12.441227Z"
    }
   },
   "outputs": [],
   "source": [
    "#3-2\n",
    "cost = tf.sqrt(tf.reduce_mean(tf.square( hypothesis - y_data )))\n",
    " \n",
    "learning_rate = 0.1\n",
    "\n",
    "\n",
    "update = tf.train.GradientDescentOptimizer(learning_rate).minimize(cost)\n",
    "\n",
    "sess.run(tf.global_variables_initializer())\n",
    "cs = []\n",
    "for step in range(100) :\n",
    "    c, _ = sess.run([cost,update])    \n",
    "    cs.append(c)        \n",
    "w_, b_ = sess.run([w, b])\n",
    "print(w_, b_, c)\n",
    "plt.plot(cs)"
   ]
  },
  {
   "cell_type": "markdown",
   "metadata": {},
   "source": [
    "# 7. 수학점수 추정하기"
   ]
  },
  {
   "cell_type": "code",
   "execution_count": null,
   "metadata": {
    "ExecuteTime": {
     "end_time": "2018-12-22T08:18:21.314798Z",
     "start_time": "2018-12-22T08:18:21.200685Z"
    },
    "scrolled": true
   },
   "outputs": [],
   "source": [
    "#1\n",
    "x_data = np.array([4,9,10,14,4,7,12,22,1,3,8,11,5,6,10,11,16,13,13,10])\n",
    "y_data = np.array([390,580,650,730,410,530,600,790,350,400,590,640,450,520,690,690,770,700,730,640])\n",
    "plt.scatter(x_data, y_data)"
   ]
  },
  {
   "cell_type": "code",
   "execution_count": null,
   "metadata": {
    "ExecuteTime": {
     "end_time": "2018-12-22T09:02:00.864213Z",
     "start_time": "2018-12-22T09:02:00.721930Z"
    }
   },
   "outputs": [],
   "source": [
    "#2\n",
    "w = tf.Variable(1.0)\n",
    "b =  tf.Variable(1.0)\n",
    "\n",
    "hypothesis = w * x_data + b\n",
    "\n",
    "cost = tf.sqrt(tf.reduce_mean(tf.square( hypothesis - y_data )))\n",
    "learning_rate = 0.1\n",
    "update = tf.train.GradientDescentOptimizer(learning_rate).minimize(cost)"
   ]
  },
  {
   "cell_type": "code",
   "execution_count": null,
   "metadata": {
    "ExecuteTime": {
     "end_time": "2018-12-22T09:05:13.274146Z",
     "start_time": "2018-12-22T09:05:00.020872Z"
    },
    "scrolled": true
   },
   "outputs": [],
   "source": [
    "#3\n",
    "sess.run(tf.global_variables_initializer())\n",
    "\n",
    "cs = []\n",
    "for step in range(1001):  \n",
    "    c, w_, b_, _ = sess.run([cost,w,b,update])\n",
    "    cs.append(c)   \n",
    "    if  step % 200 ==  0:\n",
    "        print(\"step %d  :  cost=%f    w=%f    b=%f\"\n",
    "          % (step, c, w_, b_) )\n",
    "    \n",
    "plt.plot(cs)"
   ]
  },
  {
   "cell_type": "code",
   "execution_count": null,
   "metadata": {},
   "outputs": [],
   "source": [
    "#4\n",
    "sess.run(tf.global_variables_initializer())\n",
    "\n",
    "cs = []\n",
    "for step in range(10001):   #  100, 1000, 10000\n",
    "    c, w_, b_, _ = sess.run([cost,w,b,update])\n",
    "    cs.append(c)   \n",
    "    if  step % 2000 ==  0:\n",
    "        print(\"step %d  :  cost=%f    w=%f    b=%f\"\n",
    "          % (step, c, w_, b_) )\n",
    "    \n",
    "plt.plot(cs)"
   ]
  },
  {
   "cell_type": "code",
   "execution_count": null,
   "metadata": {},
   "outputs": [],
   "source": [
    "#5\n",
    "sess.run(tf.global_variables_initializer())\n",
    "\n",
    "cs = []\n",
    "for step in range(30001):   \n",
    "    c, w_, b_, _ = sess.run([cost,w,b,update])\n",
    "    cs.append(c)   \n",
    "    if  step % 5000 ==  0:\n",
    "        print(\"step %d  :  cost=%f    w=%f    b=%f\"\n",
    "          % (step, c, w_, b_) )\n",
    "    \n",
    "plt.plot(cs)"
   ]
  },
  {
   "cell_type": "code",
   "execution_count": null,
   "metadata": {
    "ExecuteTime": {
     "end_time": "2018-12-22T09:08:50.556809Z",
     "start_time": "2018-12-22T09:08:50.428133Z"
    },
    "scrolled": true
   },
   "outputs": [],
   "source": [
    "#6\n",
    "plt.xlabel('hour')\n",
    "plt.ylabel('score')\n",
    "plt.plot(x_data, y_data, 'go')\n",
    "h = sess.run(hypothesis)\n",
    "plt.plot(x_data, h ,  'b')"
   ]
  },
  {
   "cell_type": "markdown",
   "metadata": {},
   "source": [
    "# 8.위도에 따른 피부암 사망률 경향 분석  #1\n"
   ]
  },
  {
   "cell_type": "code",
   "execution_count": null,
   "metadata": {
    "ExecuteTime": {
     "end_time": "2018-12-22T09:32:24.450443Z",
     "start_time": "2018-12-22T09:32:24.317301Z"
    }
   },
   "outputs": [],
   "source": [
    "# https://onlinecourses.science.psu.edu/stat501/node/251/  \n",
    "data = np.loadtxt(\"skin.csv\", delimiter=\",\", dtype=np.float32)\n",
    "\n",
    "print(data.shape)\n",
    "\n",
    "x_data = data[:,0]\n",
    "y_data = data[:,1]\n",
    "\n",
    "plt.scatter(x_data, y_data, color='red')"
   ]
  },
  {
   "cell_type": "code",
   "execution_count": null,
   "metadata": {
    "ExecuteTime": {
     "end_time": "2018-12-22T09:34:11.734784Z",
     "start_time": "2018-12-22T09:33:51.316457Z"
    }
   },
   "outputs": [],
   "source": [
    "#2\n",
    "w = tf.Variable(1.0)\n",
    "b =  tf.Variable(1.0)\n",
    "hypothesis = w * x_data + b\n",
    "cost = tf.sqrt(tf.reduce_mean(tf.square( hypothesis - y_data )))\n",
    "learning_rate = 0.1   \n",
    "update = tf.train.GradientDescentOptimizer(learning_rate).minimize(cost)\n",
    "\n",
    "sess.run(tf.global_variables_initializer())\n",
    "\n",
    "cs = []\n",
    "for step in range(50001):\n",
    "    c, w_, b_, _ = sess.run([cost,w, b,update])\n",
    "    cs.append(c)   \n",
    "    if  step % 5000 == 0 :\n",
    "        print(\"step %d  :  cost=%f    w=%f    b=%f\"  % (step, c, w_, b_) )\n",
    "    \n",
    "plt.plot(cs)"
   ]
  },
  {
   "cell_type": "code",
   "execution_count": null,
   "metadata": {
    "ExecuteTime": {
     "end_time": "2018-12-22T09:32:54.729703Z",
     "start_time": "2018-12-22T09:32:54.580847Z"
    },
    "scrolled": true
   },
   "outputs": [],
   "source": [
    "#3\n",
    "plt.scatter(x_data, y_data, color='red')\n",
    "h = sess.run(hypothesis)\n",
    "plt.plot(x_data, h ,  'b')"
   ]
  },
  {
   "cell_type": "markdown",
   "metadata": {},
   "source": [
    "# 9.위도에 따른 피부암 사망률 경향 분석 #2"
   ]
  },
  {
   "cell_type": "code",
   "execution_count": null,
   "metadata": {
    "ExecuteTime": {
     "end_time": "2018-12-22T09:42:07.876519Z",
     "start_time": "2018-12-22T09:42:07.717621Z"
    },
    "scrolled": true
   },
   "outputs": [],
   "source": [
    "#1\n",
    "data = np.loadtxt(\"skin.csv\", delimiter=\",\", dtype=np.float32)\n",
    "\n",
    "x_data = data[:,0] / 50\n",
    "y_data = data[:,1] / 250"
   ]
  },
  {
   "cell_type": "code",
   "execution_count": null,
   "metadata": {
    "ExecuteTime": {
     "end_time": "2018-12-22T09:45:57.060165Z",
     "start_time": "2018-12-22T09:45:55.550018Z"
    }
   },
   "outputs": [],
   "source": [
    "#2\n",
    "w = tf.Variable(1.0)\n",
    "b =  tf.Variable(1.0)\n",
    "hypothesis = w * x_data + b\n",
    "cost = tf.sqrt(tf.reduce_mean(tf.square( hypothesis - y_data )))\n",
    "learning_rate = 0.11   \n",
    "update = tf.train.GradientDescentOptimizer(learning_rate).minimize(cost)\n",
    "\n",
    "sess.run(tf.global_variables_initializer())\n",
    "\n",
    "cs = []\n",
    "for step in range(3001):\n",
    "    sess.run(update)\n",
    "    c, w_, b_ = sess.run([cost,w, b])\n",
    "    cs.append(c)   \n",
    "    if  step % 1000 == 0 :\n",
    "        print(\"step %d  :  cost=%f    w=%f    b=%f\"\n",
    "          % (step, c, w_, b_) )\n",
    "    \n"
   ]
  },
  {
   "cell_type": "code",
   "execution_count": null,
   "metadata": {
    "ExecuteTime": {
     "end_time": "2018-12-22T09:46:00.177187Z",
     "start_time": "2018-12-22T09:46:00.037150Z"
    }
   },
   "outputs": [],
   "source": [
    "#3\n",
    "plt.scatter(x_data, y_data, color='red')\n",
    "h = sess.run(hypothesis)\n",
    "plt.plot(x_data, h ,  'b')"
   ]
  },
  {
   "cell_type": "code",
   "execution_count": null,
   "metadata": {
    "ExecuteTime": {
     "end_time": "2018-12-22T09:47:36.898636Z",
     "start_time": "2018-12-22T09:47:36.893641Z"
    }
   },
   "outputs": [],
   "source": [
    "#4\n",
    "predict = w * [33] + b\n",
    "p = sess.run(predict)\n",
    "print(p)"
   ]
  },
  {
   "cell_type": "code",
   "execution_count": null,
   "metadata": {
    "ExecuteTime": {
     "end_time": "2018-12-21T07:15:19.717034Z",
     "start_time": "2018-12-21T07:15:19.711051Z"
    }
   },
   "outputs": [],
   "source": [
    "#5\n",
    "predict = w * [33/50.0] + b\n",
    "p = sess.run(predict)\n",
    "print(p*250)"
   ]
  },
  {
   "cell_type": "markdown",
   "metadata": {},
   "source": [
    "# 10.위도에 따른 피부암 사망률 경향 분석 #3"
   ]
  },
  {
   "cell_type": "code",
   "execution_count": null,
   "metadata": {},
   "outputs": [],
   "source": [
    "#1\n",
    "data = np.loadtxt(\"skin.csv\", delimiter=\",\", dtype=np.float32)\n",
    "\n",
    "x=data[:,0]\n",
    "y=data[:,1]\n",
    "\n",
    "x_data = x / np.max(x)\n",
    "y_data = y / np.max(y)\n",
    "plt.scatter(x_data, y_data, color='red')"
   ]
  },
  {
   "cell_type": "code",
   "execution_count": null,
   "metadata": {},
   "outputs": [],
   "source": [
    "#2\n",
    "w = tf.Variable(1.0)\n",
    "b =  tf.Variable(1.0)\n",
    "hypothesis = w * x_data + b\n",
    "cost = tf.sqrt(tf.reduce_mean(tf.square( hypothesis - y_data )))\n",
    "learning_rate = 0.1  \n",
    "update = tf.train.GradientDescentOptimizer(learning_rate).minimize(cost)\n",
    "\n",
    "sess.run(tf.global_variables_initializer())\n",
    "\n",
    "cs = []\n",
    "for step in range(3001):\n",
    "    sess.run(update)\n",
    "    c, w_, b_ = sess.run([cost,w, b])\n",
    "    cs.append(c)   \n",
    "    if  step % 1000 == 0 :\n",
    "        print(\"step %d  :  cost=%f    w=%f    b=%f\"\n",
    "          % (step, c, w_, b_) )\n",
    "\n",
    "plt.scatter(x_data, y_data, color='red')\n",
    "plt.plot(x_data, sess.run(hypothesis) ,  'b')\n",
    "\n"
   ]
  },
  {
   "cell_type": "code",
   "execution_count": null,
   "metadata": {},
   "outputs": [],
   "source": [
    "#3\n",
    "predict = w * [33/np.max(x)] + b\n",
    "p = sess.run(predict)\n",
    "print(p*np.max(y))"
   ]
  },
  {
   "cell_type": "markdown",
   "metadata": {},
   "source": [
    "# 11.위도에 따른 피부암 사망률 경향 분석 #4"
   ]
  },
  {
   "cell_type": "code",
   "execution_count": null,
   "metadata": {},
   "outputs": [],
   "source": [
    "#1\n",
    "x = tf.constant(x_data, shape = (49,1), dtype=tf.float32)\n",
    "y = tf.constant(y_data, shape = (49,1), dtype=tf.float32)\n",
    "\n",
    "t = tf.ones([49,1], dtype=tf.float32)\n",
    "A = tf.concat([x, t],1)\n",
    "\n",
    "#  pinv = (AtA)-1At\n",
    "    \n",
    "pinv = tf.matmul(tf.linalg.inv(tf.matmul(tf.transpose(A), A)), tf.transpose(A))\n",
    "output  =  tf.matmul(pinv,  y)\n",
    "o = sess.run(output)\n",
    "\n",
    "w_ = o[0]\n",
    "b_ = o[1]\n",
    "\n",
    "print(w_, b_)\n",
    "plt.scatter(x_data, y_data, color='red')\n",
    "plt.plot(x_data, sess.run(hypothesis) ,  'b')"
   ]
  },
  {
   "cell_type": "markdown",
   "metadata": {},
   "source": [
    "# 12. Boston Housing 예측하기 #1"
   ]
  },
  {
   "cell_type": "code",
   "execution_count": null,
   "metadata": {
    "ExecuteTime": {
     "end_time": "2018-12-22T14:15:59.736633Z",
     "start_time": "2018-12-22T14:15:59.580309Z"
    },
    "scrolled": true
   },
   "outputs": [],
   "source": [
    "#1\n",
    "data = np.loadtxt(\"bostonhousing.csv\", delimiter=\",\", dtype=np.float32)\n",
    "\n",
    "print(data.shape)\n",
    "tit = ['#CRIM',\t'ZN', 'INDUS','CHAS', 'NOX', 'RM', 'AGE' ,'DIS' ,'RAD', 'TAX', 'PTRATIO', 'B', 'LSTAT', 'MEDV'  ]\n",
    "\n",
    "x =  data[:, 5]    \n",
    "y =  data[:, 13]              \n",
    "plt.scatter(x, y, color='red')"
   ]
  },
  {
   "cell_type": "code",
   "execution_count": null,
   "metadata": {
    "ExecuteTime": {
     "end_time": "2018-12-22T14:16:51.499323Z",
     "start_time": "2018-12-22T14:16:51.354925Z"
    },
    "scrolled": false
   },
   "outputs": [],
   "source": [
    "#2\n",
    "x_data = x / np.max(x)\n",
    "y_data = y / np.max(y)\n",
    "plt.scatter(x_data, y_data, color='red')"
   ]
  },
  {
   "cell_type": "code",
   "execution_count": null,
   "metadata": {
    "ExecuteTime": {
     "end_time": "2018-12-22T14:17:23.872480Z",
     "start_time": "2018-12-22T14:17:22.388381Z"
    },
    "scrolled": true
   },
   "outputs": [],
   "source": [
    "#3\n",
    "w = tf.Variable(1.0)\n",
    "b =  tf.Variable(1.0)\n",
    "hypothesis = w * x_data + b\n",
    "cost = tf.sqrt(tf.reduce_mean(tf.square( hypothesis - y_data )))\n",
    "learning_rate = 0.1\n",
    "update = tf.train.GradientDescentOptimizer(learning_rate).minimize(cost)\n",
    "\n",
    "sess.run(tf.global_variables_initializer())\n",
    "\n",
    "cs = []\n",
    "for step in range(4001):\n",
    "    c, w_, b_, _ = sess.run([cost,w, b,update])\n",
    "    cs.append(c)   \n",
    "    if  step % 1000 == 0 :\n",
    "        print(\"step %d  :  cost=%f    w=%f    b=%f\"\n",
    "          % (step, c, w_, b_) )    \n",
    "plt.plot(cs)\n",
    "print(w_, b_)"
   ]
  },
  {
   "cell_type": "code",
   "execution_count": null,
   "metadata": {
    "ExecuteTime": {
     "end_time": "2018-12-22T14:17:30.234528Z",
     "start_time": "2018-12-22T14:17:30.075661Z"
    }
   },
   "outputs": [],
   "source": [
    "#4\n",
    "plt.scatter(x_data, y_data, color='red')\n",
    "plt.plot(x_data, sess.run(hypothesis) ,  'g')"
   ]
  },
  {
   "cell_type": "markdown",
   "metadata": {},
   "source": [
    "# 13. Boston Housing 예측하기 #2"
   ]
  },
  {
   "cell_type": "code",
   "execution_count": null,
   "metadata": {
    "ExecuteTime": {
     "end_time": "2018-12-22T14:18:42.914879Z",
     "start_time": "2018-12-22T14:18:42.627958Z"
    }
   },
   "outputs": [],
   "source": [
    "x = tf.constant(x_data, shape = (506,1), dtype=tf.float32)\n",
    "y = tf.constant(y_data, shape = (506,1), dtype=tf.float32)\n",
    "\n",
    "t = tf.ones([506,1], dtype=tf.float32)\n",
    "A = tf.concat([x, t],1)\n",
    "\n",
    "pinv = tf.matmul(tf.linalg.inv(tf.matmul(tf.transpose(A), A)), tf.transpose(A))\n",
    "output  =  tf.matmul(pinv,  y)\n",
    "o = sess.run(output)\n",
    "\n",
    "w_ = o[0]\n",
    "b_ = o[1]\n",
    "\n",
    "print(w_, b_)"
   ]
  },
  {
   "cell_type": "code",
   "execution_count": null,
   "metadata": {},
   "outputs": [],
   "source": []
  }
 ],
 "metadata": {
  "kernelspec": {
   "display_name": "Python 3",
   "language": "python",
   "name": "python3"
  },
  "language_info": {
   "codemirror_mode": {
    "name": "ipython",
    "version": 3
   },
   "file_extension": ".py",
   "mimetype": "text/x-python",
   "name": "python",
   "nbconvert_exporter": "python",
   "pygments_lexer": "ipython3",
   "version": "3.7.1"
  },
  "varInspector": {
   "cols": {
    "lenName": 16,
    "lenType": 16,
    "lenVar": 40
   },
   "kernels_config": {
    "python": {
     "delete_cmd_postfix": "",
     "delete_cmd_prefix": "del ",
     "library": "var_list.py",
     "varRefreshCmd": "print(var_dic_list())"
    },
    "r": {
     "delete_cmd_postfix": ") ",
     "delete_cmd_prefix": "rm(",
     "library": "var_list.r",
     "varRefreshCmd": "cat(var_dic_list()) "
    }
   },
   "types_to_exclude": [
    "module",
    "function",
    "builtin_function_or_method",
    "instance",
    "_Feature"
   ],
   "window_display": false
  }
 },
 "nbformat": 4,
 "nbformat_minor": 2
}
