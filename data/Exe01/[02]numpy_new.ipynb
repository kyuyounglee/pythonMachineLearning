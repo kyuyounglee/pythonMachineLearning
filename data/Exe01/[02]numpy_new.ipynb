{
 "cells": [
  {
   "cell_type": "code",
   "execution_count": null,
   "metadata": {
    "ExecuteTime": {
     "end_time": "2018-12-19T17:00:39.193517Z",
     "start_time": "2018-12-19T17:00:39.188531Z"
    }
   },
   "outputs": [],
   "source": [
    "import numpy as np\n",
    "import numpy.linalg as lin\n",
    "import time "
   ]
  },
  {
   "cell_type": "markdown",
   "metadata": {},
   "source": [
    "# 1. NumPy array 생성과 저장"
   ]
  },
  {
   "cell_type": "markdown",
   "metadata": {
    "heading_collapsed": true
   },
   "source": [
    "## 1.1) NumPy array 생성"
   ]
  },
  {
   "cell_type": "code",
   "execution_count": null,
   "metadata": {
    "hidden": true
   },
   "outputs": [],
   "source": [
    "#1 \n",
    "a = np.array(2.0)\n",
    "print(a)"
   ]
  },
  {
   "cell_type": "code",
   "execution_count": null,
   "metadata": {
    "code_folding": [],
    "hidden": true
   },
   "outputs": [],
   "source": [
    "#2\n",
    "print(type(a))"
   ]
  },
  {
   "cell_type": "code",
   "execution_count": null,
   "metadata": {
    "ExecuteTime": {
     "end_time": "2018-12-19T16:24:21.544725Z",
     "start_time": "2018-12-19T16:24:21.538736Z"
    },
    "code_folding": [],
    "hidden": true
   },
   "outputs": [],
   "source": [
    "#3\n",
    "print(a.shape)\n",
    "if a.shape == () : print(\"차원 0\")"
   ]
  },
  {
   "cell_type": "code",
   "execution_count": null,
   "metadata": {
    "hidden": true
   },
   "outputs": [],
   "source": [
    "# 4\n",
    "b = np.array([2.0])\n",
    "print(b)"
   ]
  },
  {
   "cell_type": "code",
   "execution_count": null,
   "metadata": {
    "ExecuteTime": {
     "end_time": "2018-12-19T16:25:20.393255Z",
     "start_time": "2018-12-19T16:25:20.386273Z"
    },
    "code_folding": [],
    "hidden": true
   },
   "outputs": [],
   "source": [
    "#5\n",
    "print(b.shape)  \n",
    "print(\"length \", b.shape[0])"
   ]
  },
  {
   "cell_type": "code",
   "execution_count": null,
   "metadata": {
    "ExecuteTime": {
     "end_time": "2018-12-19T16:26:21.008844Z",
     "start_time": "2018-12-19T16:26:21.002827Z"
    },
    "hidden": true
   },
   "outputs": [],
   "source": [
    "#6 \n",
    "c = np.array([2,3,4])\n",
    "print(c)\n",
    "print(c.shape)\n",
    "print(\"length \", c.shape[0])"
   ]
  },
  {
   "cell_type": "code",
   "execution_count": null,
   "metadata": {
    "ExecuteTime": {
     "end_time": "2018-12-19T16:28:19.386300Z",
     "start_time": "2018-12-19T16:28:19.379293Z"
    },
    "hidden": true
   },
   "outputs": [],
   "source": [
    "#7\n",
    "m = np.array([[1,2], [3,4], [5,6]])\n",
    "print(m)\n",
    "print(m.shape)\n",
    "print(\"행  \", m.shape[0])\n",
    "print(\"열  \", m.shape[1])                             "
   ]
  },
  {
   "cell_type": "code",
   "execution_count": null,
   "metadata": {
    "ExecuteTime": {
     "end_time": "2018-12-19T16:29:23.197882Z",
     "start_time": "2018-12-19T16:29:23.187908Z"
    },
    "hidden": true
   },
   "outputs": [],
   "source": [
    "#8\n",
    "m = np.array( [[1, 2, 3]] )                \n",
    "print(m)\n",
    "print(m.shape) "
   ]
  },
  {
   "cell_type": "code",
   "execution_count": null,
   "metadata": {
    "hidden": true
   },
   "outputs": [],
   "source": [
    "#9\n",
    "m = np.array([[1], [2], [3]] )                \n",
    "print(m)\n",
    "print(m.shape) "
   ]
  },
  {
   "cell_type": "code",
   "execution_count": null,
   "metadata": {
    "hidden": true
   },
   "outputs": [],
   "source": [
    "#10\n",
    "a = [1, 2.0]\n",
    "b = np.array([1, 2, 3] )\n",
    "c = np.array([1, 2, 3.0] )\n",
    "\n",
    "print(type(a[0]))\n",
    "print(type(a[1]))\n",
    "print(b.dtype)\n",
    "print(c.dtype)\n",
    "print(type(c[0]))\n",
    "print(type(c[2]))"
   ]
  },
  {
   "cell_type": "code",
   "execution_count": null,
   "metadata": {
    "hidden": true
   },
   "outputs": [],
   "source": [
    "#11 \n",
    "a = [[1, 2 ], [3,4,5]]\n",
    "print(a)\n",
    "b = np.array([[1, 2 ], [3,4,5]])\n",
    "print(b)"
   ]
  },
  {
   "cell_type": "markdown",
   "metadata": {},
   "source": [
    "## 1.2) array 원소 접근"
   ]
  },
  {
   "cell_type": "code",
   "execution_count": null,
   "metadata": {
    "ExecuteTime": {
     "end_time": "2018-12-19T16:37:02.344368Z",
     "start_time": "2018-12-19T16:37:02.332399Z"
    },
    "code_folding": []
   },
   "outputs": [],
   "source": [
    "#1\n",
    "a = np.array([[1, 2, 3], [4, 5, 6], [7, 8, 9]] )\n",
    "print(a) \n",
    "print(\"a[0,0]==>\", a[0,0])\n",
    "print(\"a[0]==>\", a[0])\n",
    "print(\"a[:,1] ==> \" , a[:,1]) \n",
    "print(\"a[1, 1:3] ==> \", a[1, 1:3]) "
   ]
  },
  {
   "cell_type": "code",
   "execution_count": null,
   "metadata": {},
   "outputs": [],
   "source": [
    "#2\n",
    "i = [0, 2]\n",
    "b = a[i, :]\n",
    "print(b)"
   ]
  },
  {
   "cell_type": "code",
   "execution_count": null,
   "metadata": {},
   "outputs": [],
   "source": [
    "#3\n",
    "c = np.array([1,2,3,4,5,6,7,8,9])\n",
    "print(c[0::2])"
   ]
  },
  {
   "cell_type": "code",
   "execution_count": null,
   "metadata": {},
   "outputs": [],
   "source": [
    "#4\n",
    "print(a[1:-1]) "
   ]
  },
  {
   "cell_type": "code",
   "execution_count": null,
   "metadata": {},
   "outputs": [],
   "source": [
    "#5\n",
    "print(a[1:]) "
   ]
  },
  {
   "cell_type": "code",
   "execution_count": null,
   "metadata": {
    "ExecuteTime": {
     "end_time": "2018-12-19T16:37:14.664074Z",
     "start_time": "2018-12-19T16:37:14.659084Z"
    },
    "scrolled": false
   },
   "outputs": [],
   "source": [
    "#6\n",
    "print(a)\n",
    "a[1, 2] = 7 \n",
    "a[:, 0] = [0, 9, 1] \n",
    "print(a)"
   ]
  },
  {
   "cell_type": "code",
   "execution_count": null,
   "metadata": {},
   "outputs": [],
   "source": [
    "#7\n",
    "\n",
    "a = np.array([[1,2,3,4], [5,6,7,8], [9,10,11,12,], [13,14,15,16]] )\n",
    "print(a)\n",
    "\n",
    "a[1:-1,1:-1] = 0\n",
    "print(a)\n"
   ]
  },
  {
   "cell_type": "markdown",
   "metadata": {},
   "source": [
    "## 1.3) shape 재구성"
   ]
  },
  {
   "cell_type": "code",
   "execution_count": null,
   "metadata": {
    "ExecuteTime": {
     "end_time": "2018-12-19T16:41:24.226974Z",
     "start_time": "2018-12-19T16:41:24.219994Z"
    }
   },
   "outputs": [],
   "source": [
    "#1\n",
    "a = np.array([[1,2,3], [4,5,6]])\n",
    "b = np.array([[1,2,3], [4,5,6]]).T\n",
    "c = np.array([[1,2,3], [4,5,6]]).transpose()\n",
    "print( a.shape, b.shape, c.shape)"
   ]
  },
  {
   "cell_type": "code",
   "execution_count": null,
   "metadata": {
    "ExecuteTime": {
     "end_time": "2018-12-19T16:41:28.473599Z",
     "start_time": "2018-12-19T16:41:28.466618Z"
    }
   },
   "outputs": [],
   "source": [
    "#2\n",
    "a = np.array([[1,2,3,4]])        \n",
    "b = np.array([[1,2,3,4]]).T      \n",
    "print(a)\n",
    "print(b)\n",
    "print(a.shape)\n",
    "print(b.shape)"
   ]
  },
  {
   "cell_type": "code",
   "execution_count": null,
   "metadata": {},
   "outputs": [],
   "source": [
    "#3\n",
    "a = np.array([1,2,3,4])              \n",
    "b = np.array([1,2,3,4]).T     \n",
    "print(a.shape, b.shape)"
   ]
  },
  {
   "cell_type": "code",
   "execution_count": null,
   "metadata": {
    "scrolled": true
   },
   "outputs": [],
   "source": [
    "#4\n",
    "a = np.array([[1,2], [3,4], [5,6], [7,8], [9,10], [11,12]])\n",
    "b = a.reshape(3,4) \n",
    "print(a.shape)\n",
    "print(a)\n",
    "print(b.shape)\n",
    "print(b)"
   ]
  },
  {
   "cell_type": "code",
   "execution_count": null,
   "metadata": {},
   "outputs": [],
   "source": [
    "#5 ( 에러 원인을 찾으시요 )\n",
    "a = np.array([[1,2], [3,4], [5,6], [7,8], [9,10], [11,12]])\n",
    "b = a.reshape(3,5) \n",
    "print(a.shape)\n",
    "print(b.shape)"
   ]
  },
  {
   "cell_type": "code",
   "execution_count": null,
   "metadata": {},
   "outputs": [],
   "source": []
  },
  {
   "cell_type": "code",
   "execution_count": null,
   "metadata": {},
   "outputs": [],
   "source": [
    "#6\n",
    "a = np.array([1,2,3,4,5,6])\n",
    "b = a.reshape(2,3) \n",
    "print(a)\n",
    "print(a.shape)\n",
    "print(b)\n",
    "print(b.shape)"
   ]
  },
  {
   "cell_type": "code",
   "execution_count": null,
   "metadata": {
    "ExecuteTime": {
     "end_time": "2018-12-19T16:44:13.228886Z",
     "start_time": "2018-12-19T16:44:13.220906Z"
    },
    "code_folding": []
   },
   "outputs": [],
   "source": [
    "#7\n",
    "a = np.array([[1], [2], [3], [4]]) \n",
    "b = np.array([[1,2,3,4]]).T\n",
    "c = np.array([1,2,3,4]).reshape(4,1) \n",
    "d = np.array([1,2,3,4]).T\n",
    "print(a)\n",
    "print(b)\n",
    "print(c)\n",
    "print(d)"
   ]
  },
  {
   "cell_type": "markdown",
   "metadata": {},
   "source": [
    "## 1.4) 저장과 로딩"
   ]
  },
  {
   "cell_type": "code",
   "execution_count": null,
   "metadata": {
    "ExecuteTime": {
     "end_time": "2018-11-14T04:07:24.999973Z",
     "start_time": "2018-11-14T04:07:24.991995Z"
    }
   },
   "outputs": [],
   "source": [
    "#1 \n",
    "a = np.array([[1, 2, 3], [4, 5, 6], [7, 8, 9]] )\n",
    "np.save(\"a.npy\", a)\n",
    "b = np.load(\"a.npy\")   \n",
    "print(b)"
   ]
  },
  {
   "cell_type": "markdown",
   "metadata": {},
   "source": [
    "![iris.txt](iris.jpg)"
   ]
  },
  {
   "cell_type": "code",
   "execution_count": null,
   "metadata": {
    "ExecuteTime": {
     "end_time": "2018-12-19T16:48:01.022787Z",
     "start_time": "2018-12-19T16:48:01.012821Z"
    },
    "scrolled": true
   },
   "outputs": [],
   "source": [
    "#2\n",
    "data = np.loadtxt(\"iris.csv\", delimiter=\",\", dtype=np.float32)\n",
    "print(data[0:5,:])\n",
    "print(data[:, 0:2 ])\n",
    "print(data[:, [1,3] ])"
   ]
  },
  {
   "cell_type": "markdown",
   "metadata": {},
   "source": [
    "# 2. 기본연산"
   ]
  },
  {
   "cell_type": "markdown",
   "metadata": {},
   "source": [
    "## 2.1) 벡터 연산"
   ]
  },
  {
   "cell_type": "code",
   "execution_count": null,
   "metadata": {},
   "outputs": [],
   "source": [
    "#1\n",
    "a = np.array([1,3,5,7,9]) \n",
    "b = np.array([3,5,6,7,9])\n",
    "c = a + b\n",
    "print(c)\n",
    "print(type(c))\n",
    "print(c.dtype)"
   ]
  },
  {
   "cell_type": "code",
   "execution_count": null,
   "metadata": {},
   "outputs": [],
   "source": [
    "#2\n",
    "a = np.array([1,3,5,7,9]) \n",
    "b = np.array([3,5,6,7,9.0])\n",
    "c = a + b\n",
    "print(c)\n",
    "print(a.dtype)\n",
    "print(c.dtype)"
   ]
  },
  {
   "cell_type": "code",
   "execution_count": null,
   "metadata": {},
   "outputs": [],
   "source": [
    "#3 ( 에러 원인을 찾으시요 )\n",
    "a = np.array([1,3,5,7,9]) \n",
    "b = np.array([3,5,6,7])\n",
    "c = a + b"
   ]
  },
  {
   "cell_type": "code",
   "execution_count": null,
   "metadata": {},
   "outputs": [],
   "source": [
    "#4\n",
    "a = np.array([1, 2, 3, 4, 5])\n",
    "b = np.array([1, 2, 3, 4, 5])\n",
    "print( np.sum(a*b))"
   ]
  },
  {
   "cell_type": "markdown",
   "metadata": {},
   "source": [
    "![벡터거리](distance.jpg)"
   ]
  },
  {
   "cell_type": "code",
   "execution_count": null,
   "metadata": {},
   "outputs": [],
   "source": [
    "#5\n",
    "p = np.array([2, 2])\n",
    "q = np.array([3, 7])\n",
    "(np.sum(  (p-q) ** 2) ) ** (0.5)"
   ]
  },
  {
   "cell_type": "markdown",
   "metadata": {},
   "source": [
    "## 2.2) 행열 연산"
   ]
  },
  {
   "cell_type": "code",
   "execution_count": null,
   "metadata": {
    "ExecuteTime": {
     "end_time": "2018-12-19T16:52:01.168222Z",
     "start_time": "2018-12-19T16:52:01.156253Z"
    }
   },
   "outputs": [],
   "source": [
    "#1\n",
    "a = np.array([1, 2, 3, 3, 2, 5]).reshape(2,3) \n",
    "b = np.array([[-1,3,5],[1,4,2]])\n",
    "print(a)\n",
    "print(b)\n",
    "print(a+b )"
   ]
  },
  {
   "cell_type": "code",
   "execution_count": null,
   "metadata": {},
   "outputs": [],
   "source": [
    "#2\n",
    "a = np.array([1, 2, 3, 3, 2, 5]).reshape(2,3) \n",
    "b = np.array([[-1,-1, -1],[0, 0, 0]])\n",
    "print(a)\n",
    "print(b)\n",
    "print(a*b )"
   ]
  },
  {
   "cell_type": "code",
   "execution_count": null,
   "metadata": {},
   "outputs": [],
   "source": [
    "#3\n",
    "a = np.array([[1,2], [3,4], [5,6]])\n",
    "b = a ** 2\n",
    "c = a * a\n",
    "print(b)\n",
    "print(c)"
   ]
  },
  {
   "cell_type": "markdown",
   "metadata": {},
   "source": [
    "# 3. 행렬연산"
   ]
  },
  {
   "cell_type": "markdown",
   "metadata": {},
   "source": [
    "## 3.1) 행렬곱"
   ]
  },
  {
   "cell_type": "code",
   "execution_count": null,
   "metadata": {
    "ExecuteTime": {
     "end_time": "2018-12-19T16:59:23.214423Z",
     "start_time": "2018-12-19T16:59:23.206444Z"
    }
   },
   "outputs": [],
   "source": [
    "#1 행렬곱\n",
    "x = np.array([[1,2],[4,5], [6,7]])\n",
    "y = np.array([[1,2],[4,5]])\n",
    "print(x)\n",
    "print(y)\n",
    "print(np.matmul(x, y))"
   ]
  },
  {
   "cell_type": "code",
   "execution_count": null,
   "metadata": {},
   "outputs": [],
   "source": [
    "#2 행렬곱 ( 에러 원인을 찾으시요 )\n",
    "x = np.array([[1,2,3],[4,5,1]])\n",
    "y = np.array([[1,2],[4,5]])\n",
    "print(x)\n",
    "print(y)\n",
    "print(np.matmul(x, y))"
   ]
  },
  {
   "cell_type": "code",
   "execution_count": null,
   "metadata": {},
   "outputs": [],
   "source": [
    "#3\n",
    "x = np.array([[1,2,3],[4,5,6]])    # 2 x 3\n",
    "\n",
    "print(np.matmul(x, x.T))\n",
    "print(np.matmul(x, np.transpose(x) ))"
   ]
  },
  {
   "cell_type": "markdown",
   "metadata": {},
   "source": [
    "## 3.2) 행렬곱 연산 비교"
   ]
  },
  {
   "cell_type": "code",
   "execution_count": null,
   "metadata": {},
   "outputs": [],
   "source": [
    "#1\n",
    "a = np.random.normal(0, 0.1, [500,500])\n",
    "b = np.random.normal(0, 0.1, [500,500])\n",
    "\n",
    "start_time = time.time() \n",
    "c = np.matmul(a, b)\n",
    "print(time.time() - start_time)"
   ]
  },
  {
   "cell_type": "code",
   "execution_count": null,
   "metadata": {},
   "outputs": [],
   "source": [
    "#2\n",
    "def matmul_py(A, B):\n",
    "    m = len(A)\n",
    "    n = len(A[0])\n",
    "    p = len(B[0])\n",
    "    C = [[0]*p for i in range(m)]      \n",
    "\n",
    "    \n",
    "    for i in range(0,m):\n",
    "        for j in range(0,p):\n",
    "            for k in range(0,n):\n",
    "                C[i][j] += A[i][k]*B[k][j] \n",
    "    return C\n",
    "\n",
    "\n",
    "A = a.tolist()\n",
    "B = b.tolist()\n",
    "start_time = time.time() \n",
    "matmul_py(A,B)\n",
    "print(time.time() - start_time)"
   ]
  },
  {
   "cell_type": "markdown",
   "metadata": {},
   "source": [
    "## 3.3) 역행렬"
   ]
  },
  {
   "cell_type": "code",
   "execution_count": null,
   "metadata": {
    "ExecuteTime": {
     "end_time": "2018-12-19T17:01:46.806337Z",
     "start_time": "2018-12-19T17:01:46.798343Z"
    }
   },
   "outputs": [],
   "source": [
    "#1\n",
    "a = np.array([[2,2,0],[-2,1,1],[3,0,1]])\n",
    "inv = lin.inv(a)\n",
    "print(inv.shape)\n",
    "print(inv.dtype)\n",
    "print(inv)"
   ]
  },
  {
   "cell_type": "code",
   "execution_count": null,
   "metadata": {},
   "outputs": [],
   "source": [
    "#2 ( 에러 원인을 찾으시요 )\n",
    "\n",
    "a = np.array([[2,2,0],[-2,1,1]]) \n",
    "lin.inv(a)"
   ]
  },
  {
   "cell_type": "markdown",
   "metadata": {},
   "source": [
    "![의사역행렬](pinv.jpg)"
   ]
  },
  {
   "cell_type": "code",
   "execution_count": null,
   "metadata": {
    "ExecuteTime": {
     "end_time": "2018-12-19T17:03:58.998244Z",
     "start_time": "2018-12-19T17:03:58.708012Z"
    }
   },
   "outputs": [],
   "source": [
    "#3\n",
    "A = np.array([[1,2], [2,4], [3,6.4]]) \n",
    "pinv = np.matmul(np.linalg.inv(np.matmul(A.T, A)), A.T)  \n",
    "print(A)\n",
    "print(pinv)"
   ]
  },
  {
   "cell_type": "code",
   "execution_count": null,
   "metadata": {},
   "outputs": [],
   "source": [
    "#4\n",
    "def pinv(A) :\n",
    "    return np.matmul(np.linalg.inv(np.matmul(A.T, A)), A.T)\n",
    "\n",
    "A = np.array([[1,2], [2,4], [3,6.4]]) \n",
    "print(pinv(A))"
   ]
  },
  {
   "cell_type": "markdown",
   "metadata": {},
   "source": [
    "# 4. 브로드케스팅"
   ]
  },
  {
   "cell_type": "code",
   "execution_count": null,
   "metadata": {},
   "outputs": [],
   "source": [
    "#1\n",
    "a = np.array([1, 2, 3, 4, 5, 6])\n",
    "b = a + 4\n",
    "print(a)\n",
    "print(b)"
   ]
  },
  {
   "cell_type": "code",
   "execution_count": null,
   "metadata": {},
   "outputs": [],
   "source": [
    "#1-2\n",
    "a = np.array([1, 2, 3, 4, 5, 6])\n",
    "b = a * 2\n",
    "print(a)\n",
    "print(b)"
   ]
  },
  {
   "cell_type": "code",
   "execution_count": null,
   "metadata": {},
   "outputs": [],
   "source": [
    "#1-3\n",
    "a = np.array([1, 2, 3, 4, 5, 6])\n",
    "b = a * 2 + 3\n",
    "print(a)\n",
    "print(b)"
   ]
  },
  {
   "cell_type": "code",
   "execution_count": null,
   "metadata": {},
   "outputs": [],
   "source": [
    "#1-4\n",
    "#(화씨온도 - 32) ÷ 1.8 = 섭씨온도\n",
    "a = np.array([78, 77,76,75])\n",
    "b= (a - 32)  / 1.8\n",
    "print(a)\n",
    "print(b)"
   ]
  },
  {
   "cell_type": "code",
   "execution_count": null,
   "metadata": {},
   "outputs": [],
   "source": [
    "#1-5\n",
    "# (섭씨온도 × 1.8) + 32 = 화씨온도\n",
    "a = np.array([26,25,24,23])\n",
    "b = a * 1.8 + 32\n",
    "print(a)\n",
    "print(b)"
   ]
  },
  {
   "cell_type": "code",
   "execution_count": null,
   "metadata": {},
   "outputs": [],
   "source": [
    "#1-6\n",
    "a = np.arange(31)\n",
    "b = a * 1.8 + 32\n",
    "print(a)\n",
    "print(b)"
   ]
  },
  {
   "cell_type": "code",
   "execution_count": null,
   "metadata": {},
   "outputs": [],
   "source": [
    "#1-7 정수 반올림\n",
    "a = np.array([121.5732, 458.4221])\n",
    "b =  ((a +5)/ 10).astype(int) * 10\n",
    "print(a)\n",
    "print(b)"
   ]
  },
  {
   "cell_type": "code",
   "execution_count": null,
   "metadata": {},
   "outputs": [],
   "source": [
    "#1-8 실수 반올림\n",
    "a = np.array([31.5732, 8.4221])\n",
    "b =  ((a +0.05)* 10).astype(int) / 10\n",
    "print(a)\n",
    "print(b)"
   ]
  },
  {
   "cell_type": "code",
   "execution_count": null,
   "metadata": {},
   "outputs": [],
   "source": [
    "#1-9\n",
    "x = np.array([1,2,3,4,5])\n",
    "w = 4.5\n",
    "b = 7.2\n",
    "print(w*x + b)"
   ]
  },
  {
   "cell_type": "code",
   "execution_count": null,
   "metadata": {},
   "outputs": [],
   "source": [
    "#1-10\n",
    "x = np.arange(-3, 3, 1) \n",
    "print(x)\n",
    "print(2 * x + 0.1)"
   ]
  },
  {
   "cell_type": "code",
   "execution_count": null,
   "metadata": {},
   "outputs": [],
   "source": [
    "#2\n",
    "a = np.array([1, 2, 3, 4, 5, 6])\n",
    "a2 = np.array([4 for i in range(6)])\n",
    "print(a)\n",
    "print(a2)\n",
    "print(a + a2)"
   ]
  },
  {
   "cell_type": "code",
   "execution_count": null,
   "metadata": {},
   "outputs": [],
   "source": [
    "#3\n",
    "a = np.array([1, 2, 3, 4, 5, 6]).reshape(2,3) \n",
    "b = a + 4\n",
    "print(a)\n",
    "print(b)"
   ]
  },
  {
   "cell_type": "code",
   "execution_count": null,
   "metadata": {},
   "outputs": [],
   "source": [
    "#3-2\n",
    "a = np.array([1, 2, 3, 4, 5, 6]).reshape(2,3) \n",
    "b = a * -1\n",
    "print(a)\n",
    "print(b)"
   ]
  },
  {
   "cell_type": "code",
   "execution_count": null,
   "metadata": {
    "ExecuteTime": {
     "end_time": "2018-12-19T17:14:56.473071Z",
     "start_time": "2018-12-19T17:14:56.462100Z"
    }
   },
   "outputs": [],
   "source": [
    "#4\n",
    "a = np.array([ [1,1,1], [1,1,1], [1,1,1] ])         \n",
    "b = np.array([0,1,2])  \n",
    "print( a + b) "
   ]
  },
  {
   "cell_type": "markdown",
   "metadata": {},
   "source": [
    "![브로디케스팅](broadcasting.jpg)"
   ]
  },
  {
   "cell_type": "code",
   "execution_count": null,
   "metadata": {},
   "outputs": [],
   "source": [
    "#4-2\n",
    "a = np.array([ [1,2,3], [4,5,6] ])         \n",
    "b = np.array([1,2,3])  \n",
    "print( a + b) "
   ]
  },
  {
   "cell_type": "code",
   "execution_count": null,
   "metadata": {
    "code_folding": []
   },
   "outputs": [],
   "source": [
    "#5\n",
    "x = np.array([ [1,2], [3 ,4], [5,6], [7,8] ]) \n",
    "w = np.array([ [0.1,0.2, 0.3], [0.2,0.3, 1]])\n",
    "b = np.array([1,2,3])\n",
    "print(np.matmul(x, w) + b)"
   ]
  },
  {
   "cell_type": "code",
   "execution_count": null,
   "metadata": {},
   "outputs": [],
   "source": [
    "#6 \n",
    "a = np.array([ [0.1, 2, 34], [0.9, 7, 12], [0.2, 1, 6], [0.5, 1.5, 27] ])\n",
    "n = a / np.max(a, axis=0)\n",
    "print(a)\n",
    "print(n)"
   ]
  },
  {
   "cell_type": "markdown",
   "metadata": {
    "ExecuteTime": {
     "end_time": "2018-11-14T06:37:33.966135Z",
     "start_time": "2018-11-14T06:37:33.962148Z"
    }
   },
   "source": [
    "# 5. 학습모델 추정"
   ]
  },
  {
   "cell_type": "markdown",
   "metadata": {},
   "source": [
    "## 5.1 수학 점수 예측하기"
   ]
  },
  {
   "attachments": {
    "image.png": {
     "image/png": "[encoded data removed]"
    }
   },
   "cell_type": "markdown",
   "metadata": {},
   "source": [
    "![image.png](attachment:image.png)\n",
    "https://mathbits.com/MathBits/TISection/Statistics2/linear.htm"
   ]
  },
  {
   "cell_type": "markdown",
   "metadata": {},
   "source": [
    "1) 13,15,20 시간 공부하면 SAT는 몇점인지 예측\n",
    "\n",
    "2) SAT 840점을 얻기 위해 몇 시간 공부야 하는가?\n",
    "\n",
    "3) 최적 w,b로 부터 발생하는 학습 오차는 얼마인가?\n",
    "\n",
    "4) 최적의 가중치 w, b 는 얼마인가?\n",
    "\n",
    "5) 이전 모델보다 좋은가?"
   ]
  },
  {
   "cell_type": "code",
   "execution_count": null,
   "metadata": {
    "ExecuteTime": {
     "end_time": "2018-11-16T11:59:09.664317Z",
     "start_time": "2018-11-16T11:59:09.656339Z"
    }
   },
   "outputs": [],
   "source": [
    "#1\n",
    "w = 20.3\n",
    "b = 351.2\n",
    "x = [13, 15, 20]\n",
    "y = np.array(x) * w + b\n",
    "print(y)"
   ]
  },
  {
   "cell_type": "code",
   "execution_count": null,
   "metadata": {
    "ExecuteTime": {
     "end_time": "2018-11-16T12:15:53.000024Z",
     "start_time": "2018-11-16T12:15:52.993013Z"
    }
   },
   "outputs": [],
   "source": [
    "#2\n",
    "y = 840\n",
    "x = (y  - b) / w\n",
    "print(y)\n",
    "print(x)"
   ]
  },
  {
   "cell_type": "code",
   "execution_count": null,
   "metadata": {
    "ExecuteTime": {
     "end_time": "2018-11-16T12:28:05.021278Z",
     "start_time": "2018-11-16T12:28:05.009284Z"
    }
   },
   "outputs": [],
   "source": [
    "#3\n",
    "w = 20.3\n",
    "b = 351.2\n",
    "\n",
    "x = np.array([4,9,10,14,4,7,12,22,1,3,8,11,5,6,10,11,16,13,13,10])\n",
    "y = np.array([390,580,650,730,410,530,600,790,350,400,590,640,450,520,690,690,770,700,730,640])\n",
    "\n",
    "error = (y - (x*w+b))**2\n",
    "result = np.sqrt(np.mean(error) )\n",
    "\n",
    "print(result)"
   ]
  },
  {
   "cell_type": "code",
   "execution_count": null,
   "metadata": {
    "ExecuteTime": {
     "end_time": "2018-11-16T12:34:19.617271Z",
     "start_time": "2018-11-16T12:34:19.608267Z"
    }
   },
   "outputs": [],
   "source": [
    "#4\n",
    "x = np.array([[4,9,10,14,4,7,12,22,1,3,8,11,5,6,10,11,16,13,13,10]]).T\n",
    "y = np.array([[390,580,650,730,410,530,600,790,350,400,590,640,450,520,690,690,770,700,730,640]]).T\n",
    "print(x.shape)\n",
    "print(y.shape)"
   ]
  },
  {
   "cell_type": "markdown",
   "metadata": {},
   "source": [
    "![ones](행렬.png)"
   ]
  },
  {
   "cell_type": "code",
   "execution_count": null,
   "metadata": {},
   "outputs": [],
   "source": [
    "#5\n",
    "A = np.append(x, np.ones((x.shape[0], 1)), axis = 1)\n",
    "print(A)\n",
    "print(A.shape)"
   ]
  },
  {
   "cell_type": "code",
   "execution_count": null,
   "metadata": {
    "ExecuteTime": {
     "end_time": "2018-11-16T12:43:13.184386Z",
     "start_time": "2018-11-16T12:43:12.895144Z"
    }
   },
   "outputs": [],
   "source": [
    "#6\n",
    "def pinv(A) :\n",
    "    return np.matmul(np.linalg.inv(np.matmul(A.T, A)), A.T)\n",
    "\n",
    "W = np.matmul(  pinv(A), y)\n",
    "w,b = W\n",
    "print(w, b)"
   ]
  },
  {
   "cell_type": "code",
   "execution_count": null,
   "metadata": {
    "ExecuteTime": {
     "end_time": "2018-11-16T12:08:09.054371Z",
     "start_time": "2018-11-16T12:08:09.047387Z"
    }
   },
   "outputs": [],
   "source": [
    "#7\n",
    "error2 = (y - (x*w+b))**2\n",
    "result2 = np.sqrt(np.mean(error2) )\n",
    "\n",
    "print(result)\n",
    "print(result2)"
   ]
  },
  {
   "cell_type": "markdown",
   "metadata": {},
   "source": [
    "## 5.2주가 예측"
   ]
  },
  {
   "cell_type": "markdown",
   "metadata": {},
   "source": [
    "https://datatofish.com/multiple-linear-regression-python/\n",
    "![주가예측](stock.png)"
   ]
  },
  {
   "cell_type": "markdown",
   "metadata": {},
   "source": [
    "1) 이자율과 실업률에 대한 주가 예측 모델은 무엇인가?\n",
    "\n",
    "2) 실업률이 6.2에서 6.1로 0.1 떨어졌을 때, 이자율이 5.1에서 5.2로 0.1 올라갔을때 주가에는 어떤 영향이 있는가?"
   ]
  },
  {
   "cell_type": "code",
   "execution_count": null,
   "metadata": {
    "ExecuteTime": {
     "end_time": "2018-11-16T12:59:27.787804Z",
     "start_time": "2018-11-16T12:59:27.713974Z"
    }
   },
   "outputs": [],
   "source": [
    "#1\n",
    "Interest_Rate =  np.array([[2.75,2.5,2.5,2.5,2.5,2.5,2.5,2.25,2.25,2.25,2,2,2,1.75,1.75,1.75,1.75,1.75,1.75,1.75,1.75,1.75,1.75,1.75]]).T\n",
    "Unemployment_Rate = np.array([[5.3,5.3,5.3,5.3,5.4,5.6,5.5,5.5,5.5,5.6,5.7,5.9,6,5.9,5.8,6.1,6.2,6.1,6.1,6.1,5.9,6.2,6.2,6.1]]).T\n",
    "Stock_Index_Price =  [1464,1394,1357,1293,1256,1254,1234,1195,1159,1167,1130,1075,1047,965,943,958,971,949,884,866,876,822,704,719]\n",
    "\n",
    "A = np.append(Interest_Rate, Unemployment_Rate, axis = 1)\n",
    "A = np.append(A, np.ones((Interest_Rate.size , 1)), axis = 1)\n",
    "print(A.shape)\n",
    "\n",
    "W = np.matmul(pinv(A), Stock_Index_Price)\n",
    "print(W)"
   ]
  },
  {
   "cell_type": "code",
   "execution_count": null,
   "metadata": {},
   "outputs": [],
   "source": [
    "#2\n",
    "x_data = np.array([[5.1, 6.2, 1], [5.1,6.1, 1], [5.1, 6.2 ,1], [5.2, 6.2, 1] ])\n",
    "result = np.matmul(x_data, W)\n",
    "print(result)"
   ]
  },
  {
   "cell_type": "code",
   "execution_count": null,
   "metadata": {
    "ExecuteTime": {
     "end_time": "2018-11-16T13:15:33.075725Z",
     "start_time": "2018-11-16T13:15:33.065751Z"
    }
   },
   "outputs": [],
   "source": [
    "#3\n",
    "print( result[1]-result[0])\n",
    "print( result[3]-result[2])"
   ]
  },
  {
   "cell_type": "code",
   "execution_count": null,
   "metadata": {},
   "outputs": [],
   "source": []
  },
  {
   "cell_type": "code",
   "execution_count": null,
   "metadata": {},
   "outputs": [],
   "source": []
  }
 ],
 "metadata": {
  "kernelspec": {
   "display_name": "Python 3",
   "language": "python",
   "name": "python3"
  },
  "language_info": {
   "codemirror_mode": {
    "name": "ipython",
    "version": 3
   },
   "file_extension": ".py",
   "mimetype": "text/x-python",
   "name": "python",
   "nbconvert_exporter": "python",
   "pygments_lexer": "ipython3",
   "version": "3.7.1"
  },
  "varInspector": {
   "cols": {
    "lenName": 16,
    "lenType": 16,
    "lenVar": 40
   },
   "kernels_config": {
    "python": {
     "delete_cmd_postfix": "",
     "delete_cmd_prefix": "del ",
     "library": "var_list.py",
     "varRefreshCmd": "print(var_dic_list())"
    },
    "r": {
     "delete_cmd_postfix": ") ",
     "delete_cmd_prefix": "rm(",
     "library": "var_list.r",
     "varRefreshCmd": "cat(var_dic_list()) "
    }
   },
   "types_to_exclude": [
    "module",
    "function",
    "builtin_function_or_method",
    "instance",
    "_Feature"
   ],
   "window_display": false
  }
 },
 "nbformat": 4,
 "nbformat_minor": 2
}
