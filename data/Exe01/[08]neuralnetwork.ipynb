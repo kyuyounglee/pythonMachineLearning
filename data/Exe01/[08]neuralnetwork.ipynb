{
 "cells": [
  {
   "cell_type": "code",
   "execution_count": null,
   "metadata": {
    "ExecuteTime": {
     "end_time": "2018-12-22T05:20:30.653426Z",
     "start_time": "2018-12-22T05:20:06.755163Z"
    }
   },
   "outputs": [],
   "source": [
    "import tensorflow as tf\n",
    "import numpy as np\n",
    "import matplotlib.pyplot as plt\n",
    "%matplotlib inline\n",
    "\n",
    "sess = tf.Session()"
   ]
  },
  {
   "cell_type": "markdown",
   "metadata": {},
   "source": [
    "# 1.  NOT 게이트 학습"
   ]
  },
  {
   "cell_type": "code",
   "execution_count": null,
   "metadata": {},
   "outputs": [],
   "source": [
    "#1\n",
    "learning_rate = 0.1\n",
    "\n",
    "x_data = [[0],   [1]]\n",
    "y_data = [[1],  [0]]\n",
    "\n",
    "x_data = np.array(x_data, dtype=np.float32)\n",
    "y_data = np.array(y_data, dtype=np.float32)\n",
    "\n",
    "x = tf.placeholder(tf.float32, [None, 1])\n",
    "y = tf.placeholder(tf.float32, [None, 1])\n",
    "\n",
    "w = tf.Variable(tf.random_normal([1, 1]))\n",
    "b = tf.Variable(tf.random_normal([1]))"
   ]
  },
  {
   "cell_type": "code",
   "execution_count": null,
   "metadata": {},
   "outputs": [],
   "source": [
    "#2\n",
    "hypothesis = tf.matmul(x, w) + b\n",
    "cost = tf.reduce_sum(tf.square(hypothesis - y))\n",
    "train = tf.train.GradientDescentOptimizer(learning_rate=learning_rate).minimize(cost)\n",
    "\n",
    "#  hypothesis = [[ 0.7  0.2  ] ]  ->     [ 0.7 > 0.5    0.2 >  0.5]   ->  [ true  false]     ->   [  1 0 ]\n",
    "predicted = tf.cast(hypothesis > 0.5, dtype=tf.float32)\n",
    "\n",
    "# [[1 0 ]]   == [[ 1  1] ]   ->   [[ true   false ] ] ->  [] [ 1  0] ] ->   [ 0.5 ]\n",
    "accuracy = tf.reduce_mean(tf.cast(tf.equal(predicted, y), dtype=tf.float32))"
   ]
  },
  {
   "cell_type": "code",
   "execution_count": null,
   "metadata": {
    "ExecuteTime": {
     "end_time": "2018-12-22T05:20:34.018066Z",
     "start_time": "2018-12-22T05:20:33.875836Z"
    }
   },
   "outputs": [],
   "source": [
    "#3\n",
    "sess.run(tf.global_variables_initializer())\n",
    "\n",
    "for step in range(10):\n",
    "        sess.run(train, feed_dict={x: x_data, y: y_data})\n",
    "        a =  sess.run(accuracy, feed_dict={x: x_data, y: y_data})\n",
    "        print(\"인식률 \", a)     \n",
    "        \n",
    "w_, b_ = sess.run([w,b])\n",
    "print(\"w=%f, b=%f\" % (w_, b_))"
   ]
  },
  {
   "cell_type": "code",
   "execution_count": null,
   "metadata": {},
   "outputs": [],
   "source": [
    "#4\n",
    "sess.run(tf.global_variables_initializer())\n",
    "\n",
    "for step in range(20):\n",
    "        sess.run(train, feed_dict={x: x_data, y: y_data})\n",
    "        a =  sess.run(accuracy, feed_dict={x: x_data, y: y_data})\n",
    "        print(\"인식률 \", a)     \n",
    "\n",
    "w_, b_ = sess.run([w,b])\n",
    "\n",
    "print(\"w=%f, b=%f\" % (w_, b_))"
   ]
  },
  {
   "cell_type": "markdown",
   "metadata": {},
   "source": [
    "# 2. 평균인식률 계산"
   ]
  },
  {
   "cell_type": "code",
   "execution_count": null,
   "metadata": {},
   "outputs": [],
   "source": [
    "#1\n",
    "result = [];\n",
    "experiment = 30\n",
    "for n in range (experiment) :\n",
    "    sess.run(tf.global_variables_initializer())\n",
    "    for step in range(10):\n",
    "            sess.run([train, cost], feed_dict={x: x_data, y: y_data})\n",
    "            a =  sess.run([accuracy], feed_dict={x: x_data, y: y_data})    \n",
    "    result.append(a[0])   \n",
    "print('실험끝')"
   ]
  },
  {
   "cell_type": "code",
   "execution_count": null,
   "metadata": {
    "ExecuteTime": {
     "end_time": "2018-12-22T05:21:18.587982Z",
     "start_time": "2018-12-22T05:21:17.460242Z"
    },
    "code_folding": []
   },
   "outputs": [],
   "source": [
    "#2\n",
    "print(result)\n",
    "print(  sum(result) / experiment)\n",
    "plt.plot(result)"
   ]
  },
  {
   "cell_type": "code",
   "execution_count": null,
   "metadata": {},
   "outputs": [],
   "source": [
    "#3\n",
    "result = [];\n",
    "experiment = 30\n",
    "for n in range (experiment) :\n",
    "    sess.run(tf.global_variables_initializer())\n",
    "    for step in range(20):\n",
    "            sess.run([train, cost], feed_dict={x: x_data, y: y_data})\n",
    "            a =  sess.run([accuracy], feed_dict={x: x_data, y: y_data})    \n",
    "    result.append(a[0])   \n",
    "print(result)\n",
    "plt.plot(result)\n",
    "print(  sum(result) / experiment)"
   ]
  },
  {
   "cell_type": "markdown",
   "metadata": {},
   "source": [
    "# 3. 학습중지 조건"
   ]
  },
  {
   "cell_type": "code",
   "execution_count": null,
   "metadata": {
    "ExecuteTime": {
     "end_time": "2018-12-12T14:39:59.831036Z",
     "start_time": "2018-12-12T14:39:57.275016Z"
    }
   },
   "outputs": [],
   "source": [
    "result = [];\n",
    "for n in range (experiment) :\n",
    "    sess.run(tf.global_variables_initializer())\n",
    "    for step in range(100):\n",
    "            sess.run(train, feed_dict={x: x_data, y: y_data})\n",
    "            a =  sess.run([accuracy], feed_dict={x: x_data, y: y_data})\n",
    "            if a[0] >= 1.0 : \n",
    "                break    \n",
    "    result.append(step+1)\n",
    "\n",
    "print( '평균 %d     최소 %d    최대 %d' % ( sum(result) / experiment, min(result),   max(result)))\n",
    "plt.hist(result)"
   ]
  },
  {
   "cell_type": "markdown",
   "metadata": {},
   "source": [
    "# 4 OR, NAND 게이트 학습"
   ]
  },
  {
   "cell_type": "code",
   "execution_count": null,
   "metadata": {},
   "outputs": [],
   "source": [
    "#1\n",
    "learning_rate = 0.1\n",
    "x_data = [[0, 0],       [0, 1],        [1, 0],        [1, 1]]\n",
    "#y_data = [[0],  [0],      [0],   [1]]       # OR 게이트\n",
    "y_data = [[1],  [1],      [1],   [0]]      # NANND 게이트\n",
    "\n",
    "\n",
    "x_data = np.array(x_data, dtype=np.float32)\n",
    "y_data = np.array(y_data, dtype=np.float32)\n",
    "\n",
    "x = tf.placeholder(tf.float32, [None, 2])\n",
    "y = tf.placeholder(tf.float32, [None, 1])\n",
    "\n",
    "\n",
    "w = tf.Variable(tf.random_normal([2, 1]))\n",
    "b = tf.Variable(tf.random_normal([1]))"
   ]
  },
  {
   "cell_type": "code",
   "execution_count": null,
   "metadata": {},
   "outputs": [],
   "source": [
    "#2\n",
    "hypothesis = tf.matmul(x, w) + b\n",
    "cost = tf.reduce_sum(tf.square(hypothesis - y))\n",
    "\n",
    "train = tf.train.GradientDescentOptimizer(learning_rate=learning_rate).minimize(cost)\n",
    "\n",
    "predicted = tf.cast(hypothesis > 0.5, dtype=tf.float32)\n",
    "accuracy = tf.reduce_mean(tf.cast(tf.equal(predicted, y), dtype=tf.float32))"
   ]
  },
  {
   "cell_type": "code",
   "execution_count": null,
   "metadata": {
    "ExecuteTime": {
     "end_time": "2018-12-19T09:12:27.552737Z",
     "start_time": "2018-12-19T09:12:26.482108Z"
    },
    "scrolled": true
   },
   "outputs": [],
   "source": [
    "#3\n",
    "sess.run(tf.global_variables_initializer())\n",
    "\n",
    "for step in range(1000):\n",
    "        sess.run(train, feed_dict={x: x_data, y: y_data})\n",
    "        p, a =  sess.run([predicted, accuracy], feed_dict={x: x_data, y: y_data})\n",
    "        print(step +1 , p.reshape(1,4), a)\n",
    "        if a >= 1.0 :             \n",
    "            break "
   ]
  },
  {
   "cell_type": "markdown",
   "metadata": {},
   "source": [
    "# 5. 학습 중단 조건 분석"
   ]
  },
  {
   "cell_type": "code",
   "execution_count": null,
   "metadata": {
    "ExecuteTime": {
     "end_time": "2018-12-19T09:12:31.255153Z",
     "start_time": "2018-12-19T09:12:30.858748Z"
    }
   },
   "outputs": [],
   "source": [
    "#1\n",
    "sess.run(tf.global_variables_initializer())\n",
    "\n",
    "result = []\n",
    "result_cost = []\n",
    "\n",
    "for step in range(1000):\n",
    "        sess.run(train, feed_dict={x: x_data, y: y_data})\n",
    "        a, c =  sess.run([accuracy, cost], feed_dict={x: x_data, y: y_data})\n",
    "        result.append(a)\n",
    "        result_cost.append(c)        \n",
    "        if a >= 1.0 :             \n",
    "            break \n",
    "        \n",
    "          \n",
    "plt.figure(1, figsize=(15,5))        \n",
    "\n",
    "plt.subplot(1,3,1)\n",
    "plt.plot(result)\n",
    "plt.subplot(1,3,2)\n",
    "plt.plot(result_cost)\n",
    "\n",
    "plt.subplot(1,3,3)\n",
    "xx, yy = np.mgrid[0:1:0.02, 0:1:0.02]\n",
    "grid = np.c_[xx.flatten(), yy.flatten()]\n",
    "h = sess.run(hypothesis, feed_dict={x: grid})\n",
    "colors = [\"red\"  if i>  0.5  else  \"blue\"  for i  in h   ]\n",
    "plt.scatter(xx.flatten(), yy.flatten(), color = colors, alpha=0.2)        "
   ]
  },
  {
   "cell_type": "code",
   "execution_count": null,
   "metadata": {},
   "outputs": [],
   "source": [
    "#2\n",
    "sess.run(tf.global_variables_initializer())\n",
    "\n",
    "result = []\n",
    "result_cost = []\n",
    "\n",
    "old = 100\n",
    "for step in range(101):\n",
    "        sess.run(train, feed_dict={x: x_data, y: y_data})\n",
    "        a, c =  sess.run([accuracy, cost], feed_dict={x: x_data, y: y_data})\n",
    "        result_cost.append(c)\n",
    "        result.append(a)\n",
    "        if (old - c  <= 0.0000001 ) :      break\n",
    "        if step % 10 == 0 : \n",
    "            print( step+ 1, c  )                \n",
    "        old = c\n",
    "          \n",
    "\n",
    "plt.figure(1, figsize=(15,5))        \n",
    "\n",
    "plt.subplot(1,3,1)\n",
    "plt.plot(result)\n",
    "plt.subplot(1,3,2)\n",
    "plt.plot(result_cost)\n",
    "\n",
    "plt.subplot(1,3,3)\n",
    "xx, yy = np.mgrid[0:1:0.02, 0:1:0.02]\n",
    "grid = np.c_[xx.flatten(), yy.flatten()]\n",
    "h = sess.run(hypothesis, feed_dict={x: grid})\n",
    "colors = [\"red\"  if i>  0.5  else  \"blue\"  for i  in h   ]\n",
    "plt.scatter(xx.flatten(), yy.flatten(), color = colors, alpha=0.2)        "
   ]
  },
  {
   "cell_type": "markdown",
   "metadata": {},
   "source": [
    "#  6 바이어스"
   ]
  },
  {
   "cell_type": "code",
   "execution_count": null,
   "metadata": {
    "ExecuteTime": {
     "end_time": "2018-12-12T14:48:04.856652Z",
     "start_time": "2018-12-12T14:48:04.140295Z"
    }
   },
   "outputs": [],
   "source": [
    "#1\n",
    "learning_rate = 0.1\n",
    "x_data = [[0, 0],       [0, 1],        [1, 0],        [1, 1]]\n",
    "y_data = [[1],  [1],      [1],   [0]]  \n",
    "\n",
    "x_data = np.array(x_data, dtype=np.float32)\n",
    "y_data = np.array(y_data, dtype=np.float32)\n",
    "\n",
    "x = tf.placeholder(tf.float32, [None, 2])\n",
    "y = tf.placeholder(tf.float32, [None, 1])\n",
    "\n",
    "\n",
    "w = tf.Variable(tf.random_normal([2, 1]))\n",
    "b = tf.Variable(tf.random_normal([1]))\n",
    "\n",
    "# 바이어스 제거\n",
    "hypothesis = tf.matmul(x, w)\n",
    "\n",
    "cost = tf.reduce_sum(tf.square(hypothesis - y))\n",
    "\n",
    "train = tf.train.GradientDescentOptimizer(learning_rate=learning_rate).minimize(cost)\n",
    "\n",
    "predicted = tf.cast(hypothesis > 0.5, dtype=tf.float32)\n",
    "accuracy = tf.reduce_mean(tf.cast(tf.equal(predicted, y), dtype=tf.float32))\n",
    "\n",
    "\n",
    "\n",
    "sess.run(tf.global_variables_initializer())\n",
    "\n",
    "result = []\n",
    "result_cost = []\n",
    "\n",
    "old = 100\n",
    "for step in range(101):\n",
    "        sess.run(train, feed_dict={x: x_data, y: y_data})\n",
    "        a, c =  sess.run([accuracy, cost], feed_dict={x: x_data, y: y_data})\n",
    "        result_cost.append(c)\n",
    "        result.append(a)\n",
    "        if step % 10 == 0 : \n",
    "            print( step+ 1, c  )                \n",
    "        old = c\n",
    "          \n",
    "\n",
    "plt.figure(1, figsize=(15,5))        \n",
    "\n",
    "plt.subplot(1,3,1)\n",
    "plt.plot(result)\n",
    "plt.subplot(1,3,2)\n",
    "plt.plot(result_cost)\n",
    "\n",
    "plt.subplot(1,3,3)\n",
    "xx, yy = np.mgrid[0:1:0.02, 0:1:0.02]\n",
    "grid = np.c_[xx.flatten(), yy.flatten()]\n",
    "h = sess.run(hypothesis, feed_dict={x: grid})\n",
    "colors = [\"red\"  if i>  0.5  else  \"blue\"  for i  in h   ]\n",
    "plt.scatter(xx.flatten(), yy.flatten(), color = colors, alpha=0.2)        "
   ]
  },
  {
   "cell_type": "code",
   "execution_count": null,
   "metadata": {},
   "outputs": [],
   "source": [
    "#2\n",
    "learning_rate = 0.1\n",
    "x_data = [[0, 0, 1],       [0, 1, 1],        [1, 0, 1],        [1, 1, 1]]\n",
    "y_data = [[1],  [1],      [1],   [0]]   \n",
    "\n",
    "x_data = np.array(x_data, dtype=np.float32)\n",
    "y_data = np.array(y_data, dtype=np.float32)\n",
    "\n",
    "x = tf.placeholder(tf.float32, [None, 3])\n",
    "y = tf.placeholder(tf.float32, [None, 1])\n",
    "\n",
    "\n",
    "w = tf.Variable(tf.random_normal([3, 1]))\n",
    "\n",
    "hypothesis = tf.matmul(x, w)\n",
    "\n",
    "cost = tf.reduce_sum(tf.square(hypothesis - y))\n",
    "\n",
    "train = tf.train.GradientDescentOptimizer(learning_rate=learning_rate).minimize(cost)\n",
    "\n",
    "predicted = tf.cast(hypothesis > 0.5, dtype=tf.float32)\n",
    "accuracy = tf.reduce_mean(tf.cast(tf.equal(predicted, y), dtype=tf.float32))\n",
    "\n",
    "sess.run(tf.global_variables_initializer())\n",
    "\n",
    "\n",
    "old = 100\n",
    "for step in range(101):\n",
    "        sess.run(train, feed_dict={x: x_data, y: y_data})\n",
    "        a, c =  sess.run([accuracy, cost], feed_dict={x: x_data, y: y_data})\n",
    "        if (old - c  <= 0.0000001 ) :     \n",
    "            break\n",
    "        if step % 10 == 0 : \n",
    "            print( step+ 1, c)                \n",
    "        old = c      \n",
    "print(\"인식률 \", a)\n"
   ]
  },
  {
   "cell_type": "markdown",
   "metadata": {
    "ExecuteTime": {
     "end_time": "2018-12-04T15:01:01.043804Z",
     "start_time": "2018-12-04T15:01:01.038844Z"
    }
   },
   "source": [
    "# 7. 정규분포 분류"
   ]
  },
  {
   "cell_type": "code",
   "execution_count": null,
   "metadata": {},
   "outputs": [],
   "source": [
    "#1\n",
    "samples = 1000\n",
    "x_data1 = np.random.normal(0, 1, size=[samples,2])\n",
    "x_data2 = np.random.normal(2, 1, size=[samples,2])\n",
    "x_data = np.vstack([x_data1, x_data2])\n",
    "y_data = np.hstack([np.zeros(samples), np.ones(samples)]).reshape(samples*2,1)   \n",
    "\n",
    "colors = [\"red\"  if i == 0  else  \"blue\"  for i  in y_data   ]\n",
    "plt.scatter(x_data[:,0], x_data[:,1], color=colors)"
   ]
  },
  {
   "cell_type": "code",
   "execution_count": null,
   "metadata": {},
   "outputs": [],
   "source": [
    "#2\n",
    "learning_rate = 0.1\n",
    "\n",
    "x = tf.placeholder(tf.float32, [None, 2])\n",
    "y = tf.placeholder(tf.float32, [None, 1])\n",
    "\n",
    "\n",
    "w = tf.Variable(tf.random_normal([2, 1]))\n",
    "b = tf.Variable(tf.random_normal([1]))"
   ]
  },
  {
   "cell_type": "code",
   "execution_count": null,
   "metadata": {},
   "outputs": [],
   "source": [
    "#3\n",
    "hypothesis = tf.sigmoid(tf.matmul(x, w) + b)\n",
    "\n",
    "cost = -tf.reduce_mean(y * tf.log(hypothesis) + (1 - y) * tf.log(1 - hypothesis))  \n",
    "\n",
    "train = tf.train.GradientDescentOptimizer(learning_rate=learning_rate).minimize(cost)\n",
    "\n",
    "predicted = tf.cast(hypothesis > 0.5, dtype=tf.float32)\n",
    "accuracy = tf.reduce_mean(tf.cast(tf.equal(predicted, y), dtype=tf.float32))"
   ]
  },
  {
   "cell_type": "code",
   "execution_count": null,
   "metadata": {},
   "outputs": [],
   "source": [
    "#4\n",
    "sess.run(tf.global_variables_initializer())\n",
    "\n",
    "for step in range(1000):\n",
    "        sess.run(train, feed_dict={x: x_data, y: y_data})"
   ]
  },
  {
   "cell_type": "code",
   "execution_count": null,
   "metadata": {
    "ExecuteTime": {
     "end_time": "2018-12-12T15:05:01.134651Z",
     "start_time": "2018-12-12T15:04:58.716932Z"
    },
    "scrolled": true
   },
   "outputs": [],
   "source": [
    "#5        \n",
    "\n",
    "colors = [\"red\"  if i == 0  else  \"blue\"  for i  in y_data   ]\n",
    "plt.scatter(x_data[:,0], x_data[:,1], color=colors)\n",
    "\n",
    "xx, yy = np.mgrid[-3:3:0.2, -3:3:0.2]\n",
    "grid = np.c_[xx.flatten(), yy.flatten()]\n",
    "p = sess.run(hypothesis, feed_dict={x: grid})\n",
    "colors = [\"red\"  if i <  0.5  else  \"blue\"  for i  in p   ]\n",
    "plt.scatter(xx.flatten(), yy.flatten(), color = colors, alpha=0.2)        "
   ]
  },
  {
   "cell_type": "markdown",
   "metadata": {},
   "source": [
    "# 8 XOR"
   ]
  },
  {
   "cell_type": "code",
   "execution_count": null,
   "metadata": {},
   "outputs": [],
   "source": [
    "#1\n",
    "learning_rate = 0.1\n",
    "x_data = [[0, 0],       [0, 1],        [1, 0],        [1, 1]]\n",
    "y_data = [[0],  [1],      [1],   [0]]\n",
    "\n",
    "x_data = np.array(x_data, dtype=np.float32)\n",
    "y_data = np.array(y_data, dtype=np.float32)\n",
    "\n",
    "x = tf.placeholder(tf.float32, [None, 2])\n",
    "y = tf.placeholder(tf.float32, [None, 1])\n",
    "\n",
    "\n",
    "w = tf.Variable(tf.random_normal([2, 1]))\n",
    "b = tf.Variable(tf.random_normal([1]))"
   ]
  },
  {
   "cell_type": "code",
   "execution_count": null,
   "metadata": {},
   "outputs": [],
   "source": [
    "#2\n",
    "hypothesis = tf.sigmoid(tf.matmul(x, w) + b)\n",
    "\n",
    "cost = -tf.reduce_mean(y * tf.log(hypothesis) + (1 - y) * tf.log(1 - hypothesis)) \n",
    "\n",
    "train = tf.train.GradientDescentOptimizer(learning_rate=learning_rate).minimize(cost)\n",
    "\n",
    "predicted = tf.cast(hypothesis > 0.5, dtype=tf.float32)\n",
    "accuracy = tf.reduce_mean(tf.cast(tf.equal(predicted, y), dtype=tf.float32))"
   ]
  },
  {
   "cell_type": "code",
   "execution_count": null,
   "metadata": {},
   "outputs": [],
   "source": [
    "#3\n",
    "sess.run(tf.global_variables_initializer())\n",
    "\n",
    "result = []\n",
    "result_cost = []\n",
    "\n",
    "for step in range(1001):\n",
    "        sess.run(train, feed_dict={x: x_data, y: y_data})\n",
    "        p, a, c =  sess.run([predicted, accuracy, cost], feed_dict={x: x_data, y: y_data})\n",
    "        result.append(a)        \n",
    "        result_cost.append(c)        \n",
    "        if step % 100 == 0 :\n",
    "            print(step+1, p.reshape(1,4), a, c)\n",
    "print(\"학습완료\")          "
   ]
  },
  {
   "cell_type": "code",
   "execution_count": null,
   "metadata": {
    "ExecuteTime": {
     "end_time": "2018-12-12T15:07:31.466415Z",
     "start_time": "2018-12-12T15:07:29.619469Z"
    }
   },
   "outputs": [],
   "source": [
    "#4\n",
    "plt.figure(1, figsize=(15,5))\n",
    "\n",
    "plt.subplot(1,3,1)\n",
    "plt.plot(result)\n",
    "\n",
    "plt.subplot(1,3,2)\n",
    "plt.plot(result_cost)\n",
    "\n",
    "plt.subplot(1,3,3)                \n",
    "xx, yy = np.mgrid[0:1:0.02, 0:1:0.02]\n",
    "grid = np.c_[xx.flatten(), yy.flatten()]\n",
    "p = sess.run(hypothesis, feed_dict={x: grid})\n",
    "colors = [\"red\"  if i>  0.5  else  \"blue\"  for i  in p   ]\n",
    "plt.scatter(xx.flatten(), yy.flatten(), color = colors, alpha=0.2)            "
   ]
  },
  {
   "cell_type": "markdown",
   "metadata": {},
   "source": [
    "# 9. 도넛 모양의 비선형 분포 분류"
   ]
  },
  {
   "cell_type": "code",
   "execution_count": null,
   "metadata": {},
   "outputs": [],
   "source": [
    "#1\n",
    "samples = 1000\n",
    "x_data = np.random.normal(0, 1, size=[samples,2])\n",
    "d = np.sqrt([x[0]**2+x[1]**2  for x in x_data ])\n",
    "y_data = np.array([0  if   i < 0.8   else   1 for i  in d   ]).reshape(samples, 1)\n",
    "\n",
    "colors = [\"red\"  if   i  == 0  else   \"blue\"  for i  in y_data   ]\n",
    "plt.scatter(x_data[:,0], x_data[:,1], color=colors)"
   ]
  },
  {
   "cell_type": "code",
   "execution_count": null,
   "metadata": {},
   "outputs": [],
   "source": [
    "#2\n",
    "x = tf.placeholder(tf.float32, [None, 2])\n",
    "y = tf.placeholder(tf.float32, [None, 1])\n",
    "\n",
    "w = tf.Variable(tf.random_normal([2, 1]))\n",
    "b = tf.Variable(tf.random_normal([1]))\n",
    "\n",
    "\n",
    "hypothesis = tf.sigmoid(tf.matmul(x, w) + b)\n",
    "\n",
    "cost = -tf.reduce_mean(y * tf.log(hypothesis) + (1 - y) * tf.log(1 - hypothesis)) \n",
    "\n",
    "train = tf.train.GradientDescentOptimizer(learning_rate=learning_rate).minimize(cost)\n",
    "\n",
    "predicted = tf.cast(hypothesis > 0.5, dtype=tf.float32)\n",
    "accuracy = tf.reduce_mean(tf.cast(tf.equal(predicted, y), dtype=tf.float32))"
   ]
  },
  {
   "cell_type": "code",
   "execution_count": null,
   "metadata": {},
   "outputs": [],
   "source": [
    "#3\n",
    "sess.run(tf.global_variables_initializer())\n",
    "\n",
    "result = []\n",
    "result_cost = []\n",
    "\n",
    "\n",
    "for step in range(1001):\n",
    "        sess.run(train, feed_dict={x: x_data, y: y_data})\n",
    "        a, c =  sess.run([accuracy, cost], feed_dict={x: x_data, y: y_data})\n",
    "        result.append(a)        \n",
    "        result_cost.append(c)        \n",
    "        if step % 100 == 0 :\n",
    "            print(step+1,c, a)\n",
    "print(\"학습완료\")                       "
   ]
  },
  {
   "cell_type": "code",
   "execution_count": null,
   "metadata": {
    "ExecuteTime": {
     "end_time": "2018-12-04T15:02:22.292186Z",
     "start_time": "2018-12-04T15:02:19.190342Z"
    }
   },
   "outputs": [],
   "source": [
    "#4\n",
    "plt.figure(1, figsize=(15,5))\n",
    "\n",
    "plt.subplot(1,3,1)\n",
    "plt.plot(result)\n",
    "plt.subplot(1,3,2)\n",
    "plt.plot(result_cost)\n",
    "plt.subplot(1,3,3)\n",
    "\n",
    "\n",
    "colors = [\"red\"  if   i  == 0  else   \"blue\"  for i  in y_data   ]\n",
    "plt.scatter(x_data[:,0], x_data[:,1], color=colors)\n",
    "\n",
    "xx, yy = np.mgrid[-3:3:0.2, -3:3:0.2]\n",
    "grid = np.c_[xx.ravel(), yy.ravel()]\n",
    "p = sess.run(hypothesis, feed_dict={x: grid})\n",
    "colors = [\"red\"  if i <  0.5  else  \"blue\"  for i  in p   ]\n",
    "plt.scatter(np.array([xx]).flatten(), np.array([yy]).flatten(), color = colors, alpha=0.2)                   "
   ]
  }
 ],
 "metadata": {
  "kernelspec": {
   "display_name": "Python 3",
   "language": "python",
   "name": "python3"
  },
  "language_info": {
   "codemirror_mode": {
    "name": "ipython",
    "version": 3
   },
   "file_extension": ".py",
   "mimetype": "text/x-python",
   "name": "python",
   "nbconvert_exporter": "python",
   "pygments_lexer": "ipython3",
   "version": "3.7.3"
  },
  "varInspector": {
   "cols": {
    "lenName": 16,
    "lenType": 16,
    "lenVar": 40
   },
   "kernels_config": {
    "python": {
     "delete_cmd_postfix": "",
     "delete_cmd_prefix": "del ",
     "library": "var_list.py",
     "varRefreshCmd": "print(var_dic_list())"
    },
    "r": {
     "delete_cmd_postfix": ") ",
     "delete_cmd_prefix": "rm(",
     "library": "var_list.r",
     "varRefreshCmd": "cat(var_dic_list()) "
    }
   },
   "types_to_exclude": [
    "module",
    "function",
    "builtin_function_or_method",
    "instance",
    "_Feature"
   ],
   "window_display": false
  }
 },
 "nbformat": 4,
 "nbformat_minor": 2
}
