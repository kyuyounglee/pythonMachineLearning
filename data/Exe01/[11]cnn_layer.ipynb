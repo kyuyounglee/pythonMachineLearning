{
 "cells": [
  {
   "cell_type": "code",
   "execution_count": null,
   "metadata": {
    "ExecuteTime": {
     "end_time": "2019-01-02T05:09:11.735548Z",
     "start_time": "2019-01-02T05:09:11.720587Z"
    }
   },
   "outputs": [],
   "source": [
    "import numpy as np\n",
    "import tensorflow as tf\n",
    "import matplotlib.pyplot as plt\n",
    "from PIL import Image\n",
    "\n",
    "%matplotlib inline\n",
    "\n",
    "sess = tf.Session()"
   ]
  },
  {
   "cell_type": "markdown",
   "metadata": {
    "ExecuteTime": {
     "end_time": "2018-12-10T09:47:53.879105Z",
     "start_time": "2018-12-10T09:47:53.864145Z"
    }
   },
   "source": [
    "# 1.도형 인식 데이터셋 구성하기"
   ]
  },
  {
   "cell_type": "code",
   "execution_count": null,
   "metadata": {
    "code_folding": []
   },
   "outputs": [],
   "source": [
    "#1\n",
    "x_data = []\n",
    "y_data = []\n",
    "\n",
    "im = 10\n",
    "\n",
    "for i in range(40) :\n",
    "    img = Image.open(('shapedata/네모%d.png') % (i+1))\n",
    "    gray = img.convert('L').resize((im, im))    \n",
    "    data = np.array( gray, dtype='uint8' )    \n",
    "    x_data.append(  data.flatten()   )\n",
    "    y_data.append(0)\n",
    "    \n",
    "for i in range(40) :\n",
    "    img = Image.open(('shapedata/세모%d.png') % (i+1))\n",
    "    gray = img.convert('L').resize((im, im))    \n",
    "    data = np.array( gray, dtype='uint8' )    \n",
    "    x_data.append(  data.flatten()   )\n",
    "    y_data.append(1)\n",
    "    \n",
    "for i in range(40) :\n",
    "    img = Image.open(('shapedata/원%d.png') % (i+1))\n",
    "    gray = img.convert('L').resize((im, im))    \n",
    "    data = np.array( gray, dtype='uint8' )    \n",
    "    x_data.append(  data.flatten()   )\n",
    "    y_data.append(2)\n",
    "    \n",
    "x_data = np.array(x_data) / 255.0\n",
    "y_data = np.array(y_data)\n",
    "print(x_data.shape)\n",
    "print(y_data.shape)"
   ]
  },
  {
   "cell_type": "code",
   "execution_count": null,
   "metadata": {
    "ExecuteTime": {
     "end_time": "2019-01-02T05:09:14.328611Z",
     "start_time": "2019-01-02T05:09:14.172032Z"
    }
   },
   "outputs": [],
   "source": [
    "#2\n",
    "#  0 -> [ 100 ]   1-> [ 0 1 0 ]\n",
    "def one_hot(y, nclass) :\n",
    "    r = y.shape[0]\n",
    "    mat = np.zeros([r, nclass])\n",
    "    for i in range(r) :\n",
    "        mat[i, int(y[i])] = 1        \n",
    "    return mat\n",
    "\n",
    "y_data_onehot = one_hot(y_data, 3)\n",
    "print(y_data.shape)\n",
    "print(y_data[0:5])\n",
    "print(y_data_onehot.shape)\n",
    "print(y_data_onehot[0:5, :])"
   ]
  },
  {
   "cell_type": "code",
   "execution_count": null,
   "metadata": {
    "ExecuteTime": {
     "end_time": "2018-12-19T09:26:46.787330Z",
     "start_time": "2018-12-19T09:26:42.667198Z"
    }
   },
   "outputs": [],
   "source": [
    "#3\n",
    "plt.figure(figsize=(10,10))\n",
    "for i  in range(60) :\n",
    "    plt.subplot(12, 5, i+1)\n",
    "    plt.imshow(x_data[i,:].reshape(im,im), cmap='gray')"
   ]
  },
  {
   "cell_type": "code",
   "execution_count": null,
   "metadata": {
    "ExecuteTime": {
     "end_time": "2019-01-01T13:05:19.032064Z",
     "start_time": "2019-01-01T13:05:19.000148Z"
    }
   },
   "outputs": [],
   "source": [
    "#4\n",
    "\n",
    "def split(x_data, y_data, rate) :\n",
    "    n = x_data.shape[0]\n",
    "    arr = np.arange(n)  \n",
    "    np.random.shuffle(arr)\n",
    "\n",
    "    n0 = int(n * rate)\n",
    "    x_train = x_data[arr[0:n0], :]\n",
    "    y_train = y_data[arr[0:n0], :]\n",
    "    x_test =  x_data[arr[n0:], :]\n",
    "    y_test =  y_data[arr[n0::], :]\n",
    "    \n",
    "    return (x_train, y_train, x_test, y_test)\n",
    "\n",
    "x_train, y_train, x_test, y_test = split(x_data, y_data_onehot, 0.8)\n",
    "\n",
    "print(x_train.shape, y_train.shape)\n",
    "print(x_test.shape, y_test.shape)"
   ]
  },
  {
   "cell_type": "markdown",
   "metadata": {},
   "source": [
    "# 2. 도형인식을 위한 컨볼루션 신경망"
   ]
  },
  {
   "cell_type": "code",
   "execution_count": null,
   "metadata": {},
   "outputs": [],
   "source": [
    "#1\n",
    "nclass = 3\n",
    "dim = im * im\n",
    "nfilter = 32\n",
    "nhidden = 300\n",
    "\n",
    "x = tf.placeholder(\"float\", shape=[None, dim])\n",
    "y = tf.placeholder(\"float\", shape=[None, nclass])\n",
    "\n",
    "x_image = tf.reshape(x, [-1,im,im,1])"
   ]
  },
  {
   "cell_type": "code",
   "execution_count": null,
   "metadata": {},
   "outputs": [],
   "source": [
    "#2\n",
    "filter = tf.Variable(tf.random_normal([3, 3, 1, nfilter], stddev=0.1))\n",
    "b = tf.Variable(tf.constant(0.1, shape=[nfilter]))\n",
    "conv = tf.nn.sigmoid(tf.nn.conv2d(x_image, filter, strides=[1, 1, 1, 1], padding='SAME') + b)\n",
    "print(conv.shape)"
   ]
  },
  {
   "cell_type": "code",
   "execution_count": null,
   "metadata": {
    "ExecuteTime": {
     "end_time": "2019-01-02T05:09:47.600610Z",
     "start_time": "2019-01-02T05:09:47.534817Z"
    }
   },
   "outputs": [],
   "source": [
    "#3\n",
    "pool = tf.nn.max_pool(conv, ksize=[1, 2, 2, 1], strides=[1, 2, 2, 1], padding='SAME')\n",
    "print(pool.shape)"
   ]
  },
  {
   "cell_type": "code",
   "execution_count": null,
   "metadata": {},
   "outputs": [],
   "source": [
    "#4\n",
    "h_flat = tf.reshape(pool, [-1, int(im/2) * int(im/2) * nfilter])\n",
    "\n",
    "w_fc = tf.Variable(tf.random_normal([int(im/2) * int(im/2) * nfilter, nhidden], stddev=0.1))   #1250\n",
    "b_fc = tf.Variable(tf.constant(0.1, shape=[nhidden]))\n",
    "\n",
    "h_fc = tf.sigmoid(tf.matmul(h_flat, w_fc) + b_fc)\n",
    "\n",
    "print(pool.shape)\n",
    "print(h_flat.shape)\n",
    "print(w_fc.shape)\n",
    "print(h_fc.shape)"
   ]
  },
  {
   "cell_type": "code",
   "execution_count": null,
   "metadata": {},
   "outputs": [],
   "source": [
    "#5\n",
    "w_out = tf.Variable(tf.random_normal([nhidden, nclass], stddev=0.1))\n",
    "b_out = tf.Variable(tf.constant(0.1, shape=[nclass]))\n",
    "\n",
    "logits = tf.matmul(h_fc, w_out) + b_out\n",
    "\n",
    "print(w_out.shape)\n",
    "print(logits.shape)"
   ]
  },
  {
   "cell_type": "code",
   "execution_count": null,
   "metadata": {
    "ExecuteTime": {
     "end_time": "2018-12-29T12:43:46.621420Z",
     "start_time": "2018-12-29T12:43:46.466873Z"
    }
   },
   "outputs": [],
   "source": [
    "#6\n",
    "hypothesis = tf.nn.softmax(logits)\n",
    "\n",
    "cost = -tf.reduce_mean(y*tf.log(hypothesis))\n",
    "update = tf.train.GradientDescentOptimizer(0.1).minimize(cost)\n",
    "\n",
    "    \n",
    "\n",
    "# argmax    :  [ 0.2   0.1   0.7    ]   -> 2\n",
    "predicted = tf.argmax(hypothesis, 1)\n",
    "\n",
    "#predict \n",
    "#  equal  [  1 1  1 1   ] ==  [ 0 0 1 1 ]   ->  [ false false true rue]\n",
    "#  cast [ false false true true ]  ->  [ 0 0 1 1 ]\n",
    "# reduce_mean[ 0 0 1 1] -> 2/4 = 0.5\n",
    "accuracy = tf.reduce_mean(tf.cast(tf.equal(predicted, tf.argmax(y, 1)), tf.float32))"
   ]
  },
  {
   "cell_type": "code",
   "execution_count": null,
   "metadata": {},
   "outputs": [],
   "source": [
    "#7\n",
    "print(filter.shape)\n",
    "print(b.shape)\n",
    "print(w_fc.shape)\n",
    "print(b_fc.shape)\n",
    "print(w_out.shape)\n",
    "print(b_out.shape)"
   ]
  },
  {
   "cell_type": "code",
   "execution_count": null,
   "metadata": {
    "ExecuteTime": {
     "end_time": "2018-12-29T12:44:28.601778Z",
     "start_time": "2018-12-29T12:43:51.674131Z"
    }
   },
   "outputs": [],
   "source": [
    "#8\n",
    "sess.run(tf.global_variables_initializer())\n",
    "\n",
    "for i in range(6001) :    \n",
    "    sess.run(update,feed_dict={x: x_train, y: y_train})\n",
    "    \n",
    "    if i % 300 == 0 :\n",
    "        a, c = sess.run([accuracy, cost], feed_dict={ x:x_test, y: y_test})\n",
    "        print(i, \"test : \",  a, c)    \n",
    "a = sess.run(accuracy, feed_dict={ x:x_train, y: y_train})     \n",
    "print(a)"
   ]
  },
  {
   "cell_type": "markdown",
   "metadata": {
    "ExecuteTime": {
     "end_time": "2018-12-11T13:35:52.656073Z",
     "start_time": "2018-12-11T13:35:52.651084Z"
    }
   },
   "source": [
    "# 3. 함수로 정리하기"
   ]
  },
  {
   "cell_type": "code",
   "execution_count": null,
   "metadata": {},
   "outputs": [],
   "source": [
    "#1\n",
    "def convolutionLayer(input, nfilter, sfilter) :\n",
    "    \n",
    "    size = input.shape.as_list() \n",
    "    nhidden = size[3]       \n",
    "    \n",
    "    filter = tf.Variable(tf.random_normal([sfilter, sfilter, nhidden, nfilter], stddev=0.1))\n",
    "    b = tf.Variable(tf.constant(0.1, shape=[nfilter]))\n",
    "    conv = tf.nn.sigmoid(tf.nn.conv2d(input, filter, strides=[1, 1, 1, 1], padding='SAME') + b)\n",
    "    pool = tf.nn.max_pool(conv, ksize=[1, 2, 2, 1], strides=[1, 2, 2, 1], padding='SAME')    \n",
    "    return pool"
   ]
  },
  {
   "cell_type": "code",
   "execution_count": null,
   "metadata": {},
   "outputs": [],
   "source": [
    "#2\n",
    "def neuralnetworkLayer(pool, nhidden) :\n",
    "    \n",
    "    size = pool.shape.as_list()    \n",
    "    flatten =  size[1] *  size[2] * size[3]\n",
    "    \n",
    "    h_flatten = tf.reshape(pool, [-1, flatten])\n",
    "    \n",
    "    w_fc = tf.Variable(tf.random_normal([flatten, nhidden], stddev=0.1))\n",
    "    b_fc = tf.Variable(tf.constant(0.1, shape=[nhidden]))\n",
    "    \n",
    "    h_fc = tf.nn.sigmoid(tf.matmul(h_flatten, w_fc) + b_fc)\n",
    "    \n",
    "    \n",
    "    return  h_fc    "
   ]
  },
  {
   "cell_type": "code",
   "execution_count": null,
   "metadata": {},
   "outputs": [],
   "source": [
    "#3    \n",
    "def outputLayer(h_fc, nclass) :            \n",
    "    size = h_fc.shape.as_list()        \n",
    "    nhidden = size[1]\n",
    "    w_fc = tf.Variable(tf.random_normal([nhidden, nclass], stddev=0.1))\n",
    "    b_fc = tf.Variable(tf.constant(0.1, shape=[nclass]))\n",
    "    logits = tf.matmul(h_fc, w_fc) + b_fc\n",
    "    return  logits"
   ]
  },
  {
   "cell_type": "code",
   "execution_count": null,
   "metadata": {},
   "outputs": [],
   "source": [
    "#4\n",
    "pool = convolutionLayer(x_image, 32, 3)\n",
    "hidden = neuralnetworkLayer(pool, 300)\n",
    "logits = outputLayer(hidden, 3)\n",
    "\n",
    "print(x_image.shape)\n",
    "print(pool.shape)\n",
    "print(hidden.shape)\n",
    "print(logits.shape)"
   ]
  },
  {
   "cell_type": "code",
   "execution_count": null,
   "metadata": {
    "ExecuteTime": {
     "end_time": "2018-12-29T13:10:45.718709Z",
     "start_time": "2018-12-29T13:10:11.625791Z"
    }
   },
   "outputs": [],
   "source": [
    "#5\n",
    "hypothesis = tf.nn.softmax(logits)\n",
    "\n",
    "cost = -tf.reduce_mean(y*tf.log(hypothesis))\n",
    "update = tf.train.GradientDescentOptimizer(0.1).minimize(cost)\n",
    "\n",
    "predicted = tf.argmax(hypothesis, 1)\n",
    "\n",
    "accuracy = tf.reduce_mean(tf.cast(tf.equal(predicted, tf.argmax(y, 1)), tf.float32))\n",
    "\n",
    "sess.run(tf.global_variables_initializer())\n",
    "\n",
    "for i in range(6001) :    \n",
    "    sess.run(update,feed_dict={x: x_train, y: y_train})\n",
    "    \n",
    "    if i % 300 == 0 :\n",
    "        a, c = sess.run([accuracy, cost], feed_dict={ x:x_test, y: y_test})\n",
    "        print(i, \"test : \",  a, c)    \n",
    "a = sess.run(accuracy, feed_dict={ x:x_train, y: y_train})     \n",
    "print(a)"
   ]
  },
  {
   "cell_type": "markdown",
   "metadata": {},
   "source": [
    "# 4. 다층 구조로 일반화 시키기"
   ]
  },
  {
   "cell_type": "code",
   "execution_count": null,
   "metadata": {},
   "outputs": [],
   "source": [
    "#1\n",
    "def neuralnetworkLayer2(hidden, nhidden) :  #from 1d  to 1d\n",
    "    \n",
    "    size = hidden.shape.as_list()        \n",
    "    prehidden = size[1]\n",
    "    \n",
    "    w_fc = tf.Variable(tf.random_normal([prehidden, nhidden], stddev=0.1))\n",
    "    b_fc = tf.Variable(tf.constant(0.1, shape=[nhidden]))\n",
    "    h_fc = tf.nn.sigmoid(tf.matmul(hidden, w_fc) + b_fc)\n",
    "    return  h_fc    \n",
    "    \n",
    "    "
   ]
  },
  {
   "cell_type": "code",
   "execution_count": null,
   "metadata": {},
   "outputs": [],
   "source": [
    "#2\n",
    "pool = convolutionLayer(x_image, 32,3 )\n",
    "pool2 = convolutionLayer(pool, 64,3 )\n",
    "hidden  = neuralnetworkLayer(pool2, 300)\n",
    "hidden2  = neuralnetworkLayer2(hidden, 100)\n",
    "logits = outputLayer(hidden2, 3)\n",
    "\n",
    "\n",
    "print(x_image.shape)\n",
    "print(pool.shape)\n",
    "print(pool2.shape)\n",
    "print(hidden.shape)\n",
    "print(hidden2.shape)\n",
    "print(logits.shape)"
   ]
  },
  {
   "cell_type": "code",
   "execution_count": null,
   "metadata": {
    "ExecuteTime": {
     "end_time": "2019-01-02T05:10:55.225714Z",
     "start_time": "2019-01-02T05:10:07.888340Z"
    }
   },
   "outputs": [],
   "source": [
    "#3\n",
    "hypothesis = tf.nn.softmax(logits)\n",
    "\n",
    "cost = -tf.reduce_mean(y*tf.log(hypothesis))\n",
    "update = tf.train.GradientDescentOptimizer(0.1).minimize(cost)\n",
    "\n",
    "predicted = tf.argmax(hypothesis, 1)\n",
    "\n",
    "accuracy = tf.reduce_mean(tf.cast(tf.equal(predicted, tf.argmax(y, 1)), tf.float32))\n",
    "\n",
    "sess.run(tf.global_variables_initializer())\n",
    "\n",
    "for i in range(3001) :    \n",
    "    sess.run(update,feed_dict={x: x_train, y: y_train})\n",
    "    \n",
    "    if i % 300 == 0 :\n",
    "        a, c = sess.run([accuracy, cost], feed_dict={ x:x_test, y: y_test})\n",
    "        print(i, \"test : \",  a, c)    \n",
    "a = sess.run(accuracy, feed_dict={ x:x_train, y: y_train})     \n",
    "print(a)"
   ]
  },
  {
   "cell_type": "markdown",
   "metadata": {},
   "source": [
    "# 5. 결과 분석하기"
   ]
  },
  {
   "cell_type": "code",
   "execution_count": null,
   "metadata": {},
   "outputs": [],
   "source": [
    "#1\n",
    "h, p = sess.run([hypothesis, predicted], feed_dict={ x:x_test, y: y_test})   \n",
    "\n",
    "labels = ['S', 'T', 'C']\n",
    "y_data2 = np.argmax(y_test, axis=1)\n",
    "\n",
    "print(h.shape)\n",
    "print(p.shape)\n",
    "print(y_data2.shape)"
   ]
  },
  {
   "cell_type": "code",
   "execution_count": null,
   "metadata": {},
   "outputs": [],
   "source": [
    "    \n",
    "plt.figure(figsize=(20, 25))\n",
    "\n",
    "for i in range(24) :        \n",
    "  plt.subplot(6, 4*2, i*2+1)\n",
    "  plt.imshow(x_test[i,:].reshape(im,im), cmap='gray')    \n",
    "  c =  \"blue\" if  p[i] == y_data2[i]   else \"red\"    \n",
    "  plt.subplot(6, 4*2, i*2+2)\n",
    "  plt.bar(labels, h[i], color=c)\n",
    "  plt.xlabel(\"{}-> {} {:2.0f}%\".format(labels[int(y_data2[  i ])], labels[p[  i ]],        100*np.max(h[i], axis=0)),  color = c )   \n",
    "    "
   ]
  }
 ],
 "metadata": {
  "kernelspec": {
   "display_name": "Python 3",
   "language": "python",
   "name": "python3"
  },
  "language_info": {
   "codemirror_mode": {
    "name": "ipython",
    "version": 3
   },
   "file_extension": ".py",
   "mimetype": "text/x-python",
   "name": "python",
   "nbconvert_exporter": "python",
   "pygments_lexer": "ipython3",
   "version": "3.7.3"
  },
  "varInspector": {
   "cols": {
    "lenName": 16,
    "lenType": 16,
    "lenVar": 40
   },
   "kernels_config": {
    "python": {
     "delete_cmd_postfix": "",
     "delete_cmd_prefix": "del ",
     "library": "var_list.py",
     "varRefreshCmd": "print(var_dic_list())"
    },
    "r": {
     "delete_cmd_postfix": ") ",
     "delete_cmd_prefix": "rm(",
     "library": "var_list.r",
     "varRefreshCmd": "cat(var_dic_list()) "
    }
   },
   "types_to_exclude": [
    "module",
    "function",
    "builtin_function_or_method",
    "instance",
    "_Feature"
   ],
   "window_display": false
  }
 },
 "nbformat": 4,
 "nbformat_minor": 2
}
