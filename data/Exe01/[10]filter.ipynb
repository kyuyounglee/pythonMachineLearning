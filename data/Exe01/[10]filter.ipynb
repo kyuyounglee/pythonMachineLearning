{
 "cells": [
  {
   "cell_type": "code",
   "execution_count": null,
   "metadata": {
    "ExecuteTime": {
     "end_time": "2018-12-22T07:04:49.742997Z",
     "start_time": "2018-12-22T07:04:45.550898Z"
    }
   },
   "outputs": [],
   "source": [
    "import numpy as np\n",
    "import tensorflow as tf\n",
    "import matplotlib.pyplot as plt\n",
    "from PIL import Image\n",
    "\n",
    "%matplotlib inline\n",
    "\n",
    "sess = tf.Session()"
   ]
  },
  {
   "cell_type": "markdown",
   "metadata": {},
   "source": [
    "# 1 1D 필터"
   ]
  },
  {
   "cell_type": "code",
   "execution_count": null,
   "metadata": {
    "ExecuteTime": {
     "end_time": "2018-12-22T07:04:50.179205Z",
     "start_time": "2018-12-22T07:04:50.079824Z"
    }
   },
   "outputs": [],
   "source": [
    "#1 1 D filter - 데이터 1개  / 필터 1개\n",
    "i = tf.constant([1, 0, 2, 3, 0, 1, 1], dtype=tf.float32)\n",
    "f = tf.constant([2, 1], dtype=tf.float32)\n",
    "\n",
    "data   = tf.reshape(i, [1, 7, 1])  \n",
    "filter = tf.reshape(f, [2, 1, 1])  \n",
    "\n",
    "conv = tf.nn.conv1d(data, filter, 1, padding='VALID')  \n",
    "\n",
    "c = sess.run(conv)\n",
    "print(c.shape)\n",
    "print(c[0,:,0])"
   ]
  },
  {
   "cell_type": "code",
   "execution_count": null,
   "metadata": {},
   "outputs": [],
   "source": [
    "#2\n",
    "conv = tf.nn.conv1d(data, filter, 1, padding='SAME')  \n",
    "\n",
    "c = sess.run(conv)\n",
    "print(c.shape)\n",
    "print(c[0,:,0])"
   ]
  },
  {
   "cell_type": "code",
   "execution_count": null,
   "metadata": {
    "ExecuteTime": {
     "end_time": "2018-12-22T07:05:49.341868Z",
     "start_time": "2018-12-22T07:05:49.303735Z"
    }
   },
   "outputs": [],
   "source": [
    "#3 1 D filter - 데이터 1개  / 필터 2개\n",
    "i = tf.constant([1, 0, 2, 3, 0, 1, 1], dtype=tf.float32)\n",
    "\n",
    "f = tf.constant([[2, 1], [1,-1] ], dtype=tf.float32)\n",
    "\n",
    "data   = tf.reshape(i, [1, 7, 1])   \n",
    "filter = tf.reshape(f, [2, 1, 2])   \n",
    "\n",
    "conv = tf.nn.conv1d(data, filter, 1, padding='SAME')   #  뺀끊에만 0 이다고\n",
    "\n",
    "c = sess.run(conv)\n",
    "print(c.shape)\n",
    "\n",
    "print(\"filter 1 결과\", c[0,:,0])\n",
    "print(\"filter 2 결과\", c[0,:,1])"
   ]
  },
  {
   "cell_type": "code",
   "execution_count": null,
   "metadata": {
    "ExecuteTime": {
     "end_time": "2018-12-09T09:37:45.377009Z",
     "start_time": "2018-12-09T09:37:45.298155Z"
    }
   },
   "outputs": [],
   "source": [
    "#4 1D filter - 데이터 3개  / 필터 1개\n",
    "\n",
    "i = tf.constant([[1, 0, 2, 3, 0, 1, 1], \n",
    "                 [1, 1, 1, 1, 1, 1, 1.0],\n",
    "                 [2, 2, 2, 1, 1, 1, 1.0]                \n",
    "                ], dtype=tf.float32)\n",
    "\n",
    "f = tf.constant([2, 1], dtype=tf.float32)\n",
    "\n",
    "data   = tf.reshape(i, [3, 7, 1]) \n",
    "filter = tf.reshape(f, [2, 1, 1]) \n",
    "\n",
    "conv = tf.nn.conv1d(data, filter, 1, padding='SAME') \n",
    "\n",
    "c = sess.run(conv)\n",
    "\n",
    "print(c.shape)\n",
    "\n",
    "print(\"data1  filter 결과\", c[0,:,0])\n",
    "print(\"data2  filter 결과\", c[1,:,0])\n",
    "print(\"data3  filter 결과\", c[2,:,0])"
   ]
  },
  {
   "cell_type": "code",
   "execution_count": null,
   "metadata": {
    "ExecuteTime": {
     "end_time": "2018-12-12T12:59:48.005183Z",
     "start_time": "2018-12-12T12:59:47.924714Z"
    }
   },
   "outputs": [],
   "source": [
    "#5 1 D filter - 데이터 3개  / 필터 2개\n",
    "i = tf.constant([[1, 0, 2, 3, 0, 1, 1], \n",
    "                 [1, 1, 1, 1, 1, 1, 1.0],\n",
    "                 [2, 2, 2, 1, 1, 1, 1.0]                \n",
    "                ], dtype=tf.float32)\n",
    "\n",
    "f = tf.constant([[2, 1], [1,-1] ], dtype=tf.float32)\n",
    "\n",
    "data   = tf.reshape(i, [3, 7, 1])  \n",
    "filter = tf.reshape(f, [2, 1, 2])  \n",
    "\n",
    "conv = tf.nn.conv1d(data, filter, 1, padding='SAME') \n",
    "\n",
    "c = sess.run(conv)\n",
    "print(c.shape)\n",
    "\n",
    "print(\"data1  x filter 1\", c[0,:,0])\n",
    "print(\"data2  x filter 1\", c[1,:,0])\n",
    "print(\"data3  x filter 1\", c[2,:,0])\n",
    "\n",
    "print(\"data1  x filter 2\", c[0,:,1])\n",
    "print(\"data2  x filter 2\", c[1,:,1])\n",
    "print(\"data3  x filter 2\", c[2,:,1])"
   ]
  },
  {
   "cell_type": "code",
   "execution_count": null,
   "metadata": {
    "ExecuteTime": {
     "end_time": "2018-12-12T12:59:08.538932Z",
     "start_time": "2018-12-12T12:59:08.324161Z"
    }
   },
   "outputs": [],
   "source": [
    "#6 for 문장으로 3개 2개 filter 처리\n",
    "i = tf.constant([[1, 0, 2, 3, 0, 1, 1], \n",
    "                 [1, 1, 1, 1, 1, 1, 1.0],\n",
    "                 [2, 2, 2, 1, 1, 1, 1.0]                \n",
    "                ], dtype=tf.float32)\n",
    "\n",
    "k = tf.constant([[2, 1], [1,-1] ], dtype=tf.float32)\n",
    "\n",
    "\n",
    "for f in range(0,2) :\n",
    "    for n in range(0,3) :        \n",
    "        data   = tf.reshape(i[n], [1, 7, 1])   \n",
    "        filter = tf.reshape(k[f], [2, 1, 1]) \n",
    "\n",
    "        conv = tf.nn.conv1d(data, filter, 1, padding='SAME') \n",
    "\n",
    "        c = sess.run(conv)\n",
    "        \n",
    "        print(\"data%d  x filter %d\" % (n+1, f+1 ), c[0,:,0])"
   ]
  },
  {
   "cell_type": "markdown",
   "metadata": {},
   "source": [
    "# 2. 2D filter"
   ]
  },
  {
   "cell_type": "code",
   "execution_count": null,
   "metadata": {
    "ExecuteTime": {
     "end_time": "2018-12-10T12:13:12.413668Z",
     "start_time": "2018-12-10T12:13:12.293017Z"
    }
   },
   "outputs": [],
   "source": [
    "#1 2D filter - 데이터 1개  / 필터 1개\n",
    "x = tf.constant([1.0,2,3,4,5,6,7,8,9,10,11,12,13,14,15,16], shape=(4,4))\n",
    "x_image = tf.reshape(x, [1, 4,4 ,1]) \n",
    "\n",
    "filter = tf.constant(\n",
    "     [ 1.0, 1.0, 1.0,\n",
    "       0.0, 0.0, 0.0,\n",
    "      -1.0, -1.0, -1.0], shape=(3,3,1,1))\n",
    "\n",
    "conv = tf.nn.conv2d(x_image, filter, strides=[1, 1, 1, 1], padding='SAME')\n",
    "c = sess.run(conv)\n",
    "print(c.shape)\n",
    "print(c[0,:,:,0])"
   ]
  },
  {
   "cell_type": "code",
   "execution_count": null,
   "metadata": {
    "ExecuteTime": {
     "end_time": "2018-12-10T12:09:29.800316Z",
     "start_time": "2018-12-10T12:09:29.658693Z"
    }
   },
   "outputs": [],
   "source": [
    "#2  2 filter - 데이터 1개  / 필터 2개\n",
    "\n",
    "x = tf.constant([1.0,2,3,4,5,6,7,8,9,10,11,12,13,14,15,16], shape=(4,4))\n",
    "x_image = tf.reshape(x, [-1,4,4,1])    #reshape\n",
    "\n",
    "filter = np.zeros([3,3,1,2], dtype='float32')\n",
    "\n",
    "filter[:,:,0,0] =  np.array([1,1,1,0,0,0,-1,-1,-1.0]).reshape(3,3)\n",
    "filter[:,:,0,1] =  np.array([1./9, 1./9, 1./9,   1./9, 1./9, 1./9, 1./9, 1./9, 1./9]).reshape(3,3)\n",
    "\n",
    "conv = tf.nn.conv2d(x_image, filter, strides=[1, 1, 1, 1], padding='SAME')\n",
    "\n",
    "c = sess.run(conv)\n",
    "print(c.shape) \n",
    "\n",
    "print(\"filter 1\\n\", c[0,:,:,0])\n",
    "print(\"filter 2\\n\", c[0,:,:,1])   #14/9"
   ]
  },
  {
   "cell_type": "code",
   "execution_count": null,
   "metadata": {
    "code_folding": []
   },
   "outputs": [],
   "source": [
    "#3 2 filter - 데이터 3개  / 필터 2개\n",
    "\n",
    "x = tf.constant([\n",
    "    [1.0,2,3,4,5,6,7,8,9,10,11,12,13,14,15,16],\n",
    "    [1.0,2,3,4,5,6,7,8,9,10,11,12,13,14,15,16],\n",
    "    [1.0,2,3,4,5,6,7,8,9,10,11,12,13,14,15,16]]  , shape=(4,4, 3))\n",
    "x_image = tf.reshape(x, [3,4,4,1])   \n",
    "\n",
    "\n",
    "filter = np.zeros([3,3,1,2], dtype='float32')\n",
    "filter[:,:,0,0] =  np.array([1,1,1,0,0,0,-1,-1,-1.0]).reshape(3,3)\n",
    "filter[:,:,0,1] =  np.array([1./9, 1./9, 1./9,   1./9, 1./9, 1./9, 1./9, 1./9, 1./9]).reshape(3,3)\n",
    "\n",
    "conv = tf.nn.conv2d(x_image, filter, strides=[1, 1, 1, 1], padding='SAME')\n",
    "\n",
    "c  = sess.run(conv)\n",
    "print(c.shape) \n",
    "\n",
    "print(\"data1  x filter 1\\n\", c[0,:,:,0])\n",
    "print(\"data3  x filter 2\\n\", c[2,:,:,1])"
   ]
  },
  {
   "cell_type": "markdown",
   "metadata": {},
   "source": [
    "# 3. 영상의 이해"
   ]
  },
  {
   "cell_type": "code",
   "execution_count": null,
   "metadata": {
    "ExecuteTime": {
     "end_time": "2018-12-09T15:18:53.819503Z",
     "start_time": "2018-12-09T15:18:53.650948Z"
    }
   },
   "outputs": [],
   "source": [
    "#1 gray 영상\n",
    "\n",
    "a = np.asarray( [\n",
    "    [0,0,0,0],\n",
    "    [127,127,127,127],\n",
    "    [127,127,127,127],\n",
    "    [255,255,255,255],      \n",
    "],dtype='uint8')\n",
    "\n",
    "plt.imshow(a, cmap='gray')"
   ]
  },
  {
   "cell_type": "code",
   "execution_count": null,
   "metadata": {
    "ExecuteTime": {
     "end_time": "2018-12-09T15:18:56.190676Z",
     "start_time": "2018-12-09T15:18:56.042074Z"
    }
   },
   "outputs": [],
   "source": [
    "#2 color 영상 이해\n",
    "r = np.array( [\n",
    "    [255,255,255,255],\n",
    "    [0,0,0,0],\n",
    "    [0,0,0,0],\n",
    "    [255,255,255,255]\n",
    "],dtype='uint8')\n",
    "\n",
    "g = np.array( [\n",
    "    [0,0,0,0],\n",
    "    [255,255,255,255],\n",
    "    [0,0,0,0],\n",
    "    [255,255,255,255],    \n",
    "],dtype='uint8')\n",
    "\n",
    "b = np.array( [\n",
    "    [0,0,0,0],\n",
    "    [0,0,0,0],\n",
    "    [255,255,255,255],\n",
    "    [0,0,0,0],    \n",
    "],dtype='uint8' )\n",
    "\n",
    "colors = np.dstack([r, g ,b])\n",
    "print(colors.shape)\n",
    "plt.imshow(colors)"
   ]
  },
  {
   "cell_type": "code",
   "execution_count": null,
   "metadata": {
    "ExecuteTime": {
     "end_time": "2018-12-09T15:20:50.272643Z",
     "start_time": "2018-12-09T15:20:50.072759Z"
    }
   },
   "outputs": [],
   "source": [
    "#3 영상 읽기\n",
    "img = Image.open('images.jpg')\n",
    "data = np.array( img, dtype='uint8' )\n",
    "print(data.shape)\n",
    "plt.imshow(data)\n",
    "print( data[0,0,:] )\n",
    "print( data[115,75,:] )"
   ]
  },
  {
   "cell_type": "code",
   "execution_count": null,
   "metadata": {
    "ExecuteTime": {
     "end_time": "2018-12-09T15:40:51.417467Z",
     "start_time": "2018-12-09T15:40:51.225977Z"
    }
   },
   "outputs": [],
   "source": [
    "#4 흑백영상으로 벼환\n",
    "gray = img.convert('L')\n",
    "data = np.array( gray, dtype='uint8' )\n",
    "\n",
    "print(data.shape)\n",
    "\n",
    "plt.imshow(data, cmap='gray')"
   ]
  },
  {
   "cell_type": "markdown",
   "metadata": {},
   "source": [
    "# 4. 영상 필터"
   ]
  },
  {
   "cell_type": "code",
   "execution_count": null,
   "metadata": {
    "ExecuteTime": {
     "end_time": "2018-12-09T15:29:02.865203Z",
     "start_time": "2018-12-09T15:29:02.457834Z"
    }
   },
   "outputs": [],
   "source": [
    "#1\n",
    "img = Image.open('lenna.png').convert('L')\n",
    "data = np.array( img )\n",
    "\n",
    "\n",
    "height = data.shape[0]\n",
    "width = data.shape[1]\n",
    "\n",
    "x_image = tf.constant(data, dtype=tf.float32, shape=(1,height, width,1))\n",
    "\n",
    "\n",
    "filter = tf.constant([1./9, 1./9, 1./9,\n",
    "                       1./9, 1./9, 1./9, \n",
    "                       1./9, 1./9, 1./9], shape=(3,3,1,1))\n",
    "\n",
    "conv = tf.nn.conv2d(x_image, filter, strides=[1, 1, 1, 1], padding='SAME')\n",
    "\n",
    "c = sess.run(conv)  \n",
    "c = c[0,:,:,0]\n",
    "\n",
    "\n",
    "plt.figure(figsize=(13,13))\n",
    "plt.subplot(1,2,1)\n",
    "plt.imshow(data, cmap='gray')\n",
    "plt.subplot(1,2,2)\n",
    "plt.imshow(c, cmap='gray')"
   ]
  },
  {
   "cell_type": "code",
   "execution_count": null,
   "metadata": {
    "ExecuteTime": {
     "end_time": "2018-12-09T15:30:38.269412Z",
     "start_time": "2018-12-09T15:30:37.889582Z"
    }
   },
   "outputs": [],
   "source": [
    "#2\n",
    "filter = tf.constant([-1.0, 0, 1,\n",
    "                       -1,0,1, \n",
    "                       -1, 0, 1], shape=(3,3,1,1))\n",
    "conv = tf.nn.conv2d(x_image, filter, strides=[1, 1, 1, 1], padding='SAME')\n",
    "\n",
    "c = sess.run(conv)\n",
    "c = c[0,:,:,0]\n",
    "\n",
    "plt.figure(figsize=(13,13))\n",
    "plt.subplot(121)\n",
    "plt.imshow(data, cmap='gray')\n",
    "plt.subplot(122)\n",
    "plt.imshow(c, cmap='gray')"
   ]
  },
  {
   "cell_type": "code",
   "execution_count": null,
   "metadata": {},
   "outputs": [],
   "source": [
    "#3\n",
    "print(np.min(  c.flatten()  ) )\n",
    "print(np.max(  c.flatten()  ) )\n",
    "\n",
    "c[c > 255] = 255\n",
    "c[c < 0] = 0\n",
    "\n",
    "\n",
    "plt.figure(figsize=(13,13))\n",
    "plt.subplot(121)\n",
    "plt.imshow(data, cmap='gray')\n",
    "plt.subplot(122)\n",
    "plt.imshow(c, cmap='gray')"
   ]
  },
  {
   "cell_type": "code",
   "execution_count": null,
   "metadata": {
    "ExecuteTime": {
     "end_time": "2018-12-09T15:34:08.160957Z",
     "start_time": "2018-12-09T15:34:07.769943Z"
    }
   },
   "outputs": [],
   "source": [
    "#4\n",
    "filter = tf.constant([-1.0,-1, -1,\n",
    "                       -1,8,-1, \n",
    "                       -1,-1, -1], shape=(3,3,1,1))\n",
    "conv = tf.nn.conv2d(x_image, filter, strides=[1, 1, 1, 1], padding='SAME')\n",
    "\n",
    "c = sess.run(conv)\n",
    "c = c[0,:,:,0]\n",
    "\n",
    "c[c > 255] = 255\n",
    "c[c < 0] = 0\n",
    "\n",
    "\n",
    "plt.figure(figsize=(13,13))\n",
    "plt.subplot(121)\n",
    "plt.imshow(data, cmap='gray')\n",
    "plt.subplot(122)\n",
    "plt.imshow(c, cmap='gray')"
   ]
  },
  {
   "cell_type": "code",
   "execution_count": null,
   "metadata": {
    "ExecuteTime": {
     "end_time": "2018-12-10T05:48:48.934102Z",
     "start_time": "2018-12-10T05:48:48.544210Z"
    }
   },
   "outputs": [],
   "source": [
    "#5\n",
    "filter = tf.constant([0.0,-1, 0,\n",
    "                       -1,5,-1, \n",
    "                       0,-1, 0], shape=(3,3,1,1))\n",
    "conv = tf.nn.conv2d(x_image, filter, strides=[1, 1, 1, 1], padding='SAME')\n",
    "\n",
    "c = sess.run(conv)\n",
    "c = c[0,:,:,0]\n",
    "\n",
    "c[c > 255] = 255\n",
    "c[c < 0] = 0\n",
    "\n",
    "plt.figure(figsize=(13,13))\n",
    "plt.subplot(121)\n",
    "plt.imshow(data, cmap='gray')\n",
    "plt.subplot(122)\n",
    "plt.imshow(c, cmap='gray')"
   ]
  },
  {
   "cell_type": "markdown",
   "metadata": {
    "collapsed": true
   },
   "source": [
    "# 5 도형 데이터 셋에서 필터링"
   ]
  },
  {
   "cell_type": "code",
   "execution_count": null,
   "metadata": {
    "ExecuteTime": {
     "end_time": "2018-12-09T15:53:03.433426Z",
     "start_time": "2018-12-09T15:53:03.274345Z"
    }
   },
   "outputs": [],
   "source": [
    "# 1\n",
    "\n",
    "images = ['shapedata/원1.png', 'shapedata/원2.png','shapedata/세모1.png', 'shapedata/네모1.png']\n",
    "\n",
    "datas = []\n",
    "for i in range(len(images)) :\n",
    "    img = Image.open(  images[i]   ).convert('L')\n",
    "    data = np.array( img, dtype='uint8' ) / 255.0\n",
    "    datas.append(data.flatten())\n",
    "    \n",
    "datas = np.array(datas)   \n",
    "print(datas.shape)\n",
    "\n",
    "img = datas[0, :].reshape(200,200)\n",
    "plt.imshow(img     , cmap='gray')"
   ]
  },
  {
   "cell_type": "code",
   "execution_count": null,
   "metadata": {
    "ExecuteTime": {
     "end_time": "2018-12-10T08:27:20.327836Z",
     "start_time": "2018-12-10T08:27:19.393325Z"
    }
   },
   "outputs": [],
   "source": [
    "#2\n",
    "\n",
    "x = tf.placeholder(\"float\", shape=[None, 40000])\n",
    "\n",
    "x_image = tf.reshape(x, [-1,200,200,1])    #-1은 none을 의미\n",
    "\n",
    "f = np.zeros([3,3,1,3], dtype='float32')\n",
    "\n",
    "f[:,:,0,0] =  np.array([0.0, 0,0,  0,1,0, 0,0,0]).reshape(3,3)\n",
    "f[:,:,0,1] =  np.array([1./9, 1./9, 1./9,   1./9, 1./9, 1./9, 1./9, 1./9, 1./9]).reshape(3,3)\n",
    "f[:,:,0,2] =  np.array([-1, -1, -1, -1, 8, -1, -1, -1, -1.0]).reshape(3,3)\n",
    "\n",
    "filter = tf.constant(f, shape=(3,3,1,3))\n",
    "\n",
    "conv = tf.nn.conv2d(x_image, filter, strides=[1, 1, 1, 1], padding='SAME')\n",
    "\n",
    "c = sess.run(conv, feed_dict={x:datas}) \n",
    "\n",
    "print(c.shape)\n",
    "\n",
    "plt.figure(figsize=(15,15))\n",
    "for i  in range(12) :\n",
    "    plt.subplot(4,3,i+1)\n",
    "    \n",
    "    out = c[int(i / 3), :,:, i%3]    \n",
    "    out[out > 255] = 255\n",
    "    out[out < 0] = 0      \n",
    "    \n",
    "    \n",
    "    plt.imshow(out, cmap='gray')"
   ]
  }
 ],
 "metadata": {
  "kernelspec": {
   "display_name": "Python 3",
   "language": "python",
   "name": "python3"
  },
  "language_info": {
   "codemirror_mode": {
    "name": "ipython",
    "version": 3
   },
   "file_extension": ".py",
   "mimetype": "text/x-python",
   "name": "python",
   "nbconvert_exporter": "python",
   "pygments_lexer": "ipython3",
   "version": "3.7.3"
  },
  "varInspector": {
   "cols": {
    "lenName": 16,
    "lenType": 16,
    "lenVar": 40
   },
   "kernels_config": {
    "python": {
     "delete_cmd_postfix": "",
     "delete_cmd_prefix": "del ",
     "library": "var_list.py",
     "varRefreshCmd": "print(var_dic_list())"
    },
    "r": {
     "delete_cmd_postfix": ") ",
     "delete_cmd_prefix": "rm(",
     "library": "var_list.r",
     "varRefreshCmd": "cat(var_dic_list()) "
    }
   },
   "types_to_exclude": [
    "module",
    "function",
    "builtin_function_or_method",
    "instance",
    "_Feature"
   ],
   "window_display": false
  }
 },
 "nbformat": 4,
 "nbformat_minor": 2
}
